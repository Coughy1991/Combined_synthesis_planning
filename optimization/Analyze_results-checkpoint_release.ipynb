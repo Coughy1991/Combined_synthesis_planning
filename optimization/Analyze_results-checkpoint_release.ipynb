{
 "cells": [
  {
   "cell_type": "code",
   "execution_count": 2,
   "metadata": {},
   "outputs": [],
   "source": [
    "import pandas as pd\n",
    "from makeit.utilities.io import name_parser\n",
    "from rdkit import Chem\n",
    "from rdkit.Chem.Draw import IPythonConsole #Needed to show molecules\n",
    "from rdkit.Chem.Draw.MolDrawing import MolDrawing, DrawingOptions #Only needed if mo\n",
    "from tqdm import tqdm\n",
    "import urllib"
   ]
  },
  {
   "cell_type": "code",
   "execution_count": 12,
   "metadata": {},
   "outputs": [],
   "source": [
    "\n",
    "from sklearn.preprocessing import MultiLabelBinarizer\n",
    "import pickle"
   ]
  },
  {
   "cell_type": "markdown",
   "metadata": {},
   "source": [
    "\n",
    "# Load dataset and clean trees"
   ]
  },
  {
   "cell_type": "code",
   "execution_count": 4,
   "metadata": {},
   "outputs": [],
   "source": [
    "###clean trees\n",
    "import pickle\n",
    "import numpy as np\n",
    "with open(\"all_trees_cleaned.pkl\",'r') as ATC:\n",
    "    feasible_trees = pickle.load(ATC)\n",
    "    \n",
    "def get_stepwise_fsc_from_tree(fsc=[],tree={}):\n",
    "    if 'is_reaction' in tree.keys():\n",
    "        fsc.append(tree['forward_score'])\n",
    "    for child in tree['children']:\n",
    "        get_stepwise_fsc_from_tree(fsc,child)\n",
    "    return(fsc)\n",
    "def nonzero_mul(x):\n",
    "    prod = 1\n",
    "    for element in x:\n",
    "        if element>=0.05:\n",
    "            prod = prod*element\n",
    "    return(prod)\n",
    "trees_to_keep = []\n",
    "cum_score_list = []\n",
    "cum_score_with_penalty = []\n",
    "contains_zero = []\n",
    "for i, tree in enumerate(feasible_trees):\n",
    "    if '.' in tree['tree']['smiles']:\n",
    "        continue\n",
    "    fsc = get_stepwise_fsc_from_tree(fsc=[],tree=tree['tree'])\n",
    "    low_prob_count = sum([1 for sc in fsc if sc<0.05])\n",
    "    if low_prob_count>1:\n",
    "        continue\n",
    "    elif low_prob_count==1:\n",
    "        trees_to_keep.append(i)\n",
    "        cum_score_list.append(nonzero_mul(fsc))\n",
    "        cum_score_with_penalty.append(nonzero_mul(fsc)/20)\n",
    "        contains_zero.append(True)\n",
    "    else: \n",
    "        trees_to_keep.append(i)\n",
    "        cum_score_list.append(np.prod(fsc))\n",
    "        cum_score_with_penalty.append(np.prod(fsc))\n",
    "        contains_zero.append(False)\n",
    "\n",
    "feasible_trees = [feasible_trees[i] for i in trees_to_keep]\n",
    "# "
   ]
  },
  {
   "cell_type": "code",
   "execution_count": 5,
   "metadata": {},
   "outputs": [
    {
     "name": "stdout",
     "output_type": "stream",
     "text": [
      "193597\n"
     ]
    }
   ],
   "source": [
    "print(len(feasible_trees))"
   ]
  },
  {
   "cell_type": "code",
   "execution_count": 13,
   "metadata": {},
   "outputs": [],
   "source": [
    "def parse_context(context):\n",
    "    context_combine_ion = context.replace('].[','<>')\n",
    "    context_sep = context_combine_ion.split('.')\n",
    "    parsed_context = [c.replace('<>','].[') for c in context_sep if c is not '']\n",
    "    return parsed_context\n",
    "def get_chemical_table_from_routes(routes, contexts):\n",
    "    # all_chemicals = get_all_chemicals_in_all_routes(routes)\n",
    "    # print(all_chemicals)\n",
    "    # print(len(all_chemicals))\n",
    "    all_routes_chemical_only = []\n",
    "    all_routes_target = []\n",
    "    all_routes_score = []\n",
    "    for route in routes:\n",
    "        route_target = route['chemicals'][0]['SMILES']\n",
    "        route_chemical_only = [chemical['SMILES'] for chemical in route['chemicals'] if chemical['is_starting']]\n",
    "        all_routes_chemical_only.append(route_chemical_only)\n",
    "        all_routes_target.append(route_target)\n",
    "        all_routes_score.append(route['score'])\n",
    "    ohe = MultiLabelBinarizer()\n",
    "    ohe_context = MultiLabelBinarizer()\n",
    "    # ohe.fit(all_chemicals)\n",
    "    # print('transformed')\n",
    "    all_routes_chemical_onehot = ohe.fit_transform(all_routes_chemical_only)\n",
    "    all_routes_context_onehot = ohe_context.fit_transform(contexts)\n",
    "    chemical_smiles = list(ohe.classes_)\n",
    "    context_smiles = list(ohe_context.classes_)\n",
    "    return (all_routes_target, all_routes_chemical_onehot, chemical_smiles,all_routes_score, all_routes_context_onehot, context_smiles)\n",
    "\n",
    "def get_chemicals_from_tree(tree, path = [],):\n",
    "    path.append({'SMILES':tree['smiles'],\n",
    "                 'is_starting': False})\n",
    "    if not tree['children']:\n",
    "        path[-1]['is_starting']=True\n",
    "        pass\n",
    "    else:\n",
    "        for child in tree['children']:\n",
    "            [get_chemicals_from_tree(child_chem, path) for child_chem in child['children']]\n",
    "    return path\n",
    "\n",
    "def get_context_from_tree(tree, path = [],):\n",
    "    if not tree['children']:\n",
    "        pass\n",
    "    else:\n",
    "        for child in tree['children']:\n",
    "            context = child['context']\n",
    "            [path.extend(parse_context(context[i])) for i in [1,2,3] if context[i]!='']\n",
    "            [get_context_from_tree(child_chem, path) for child_chem in child['children']]\n",
    "    return list(set(path))\n",
    "\n",
    "all_routes = [{'chemicals':get_chemicals_from_tree(tree['tree'],path = []),'score':tree['score']} for tree in feasible_trees if tree['tree']['children']]\n",
    "all_routes_contexts = [get_context_from_tree(tree['tree'],path = []) for tree in feasible_trees if tree['tree']['children']]\n",
    "        \n",
    "(all_routes_target,all_routes_chemical_onehot,chemical_smiles, all_routes_score, all_routes_context_onehot, context_smiles) = get_chemical_table_from_routes(all_routes, all_routes_contexts)\n",
    "index_list_all_routes = range(len(all_routes))\n",
    "context_smiles = ['context_'+smiles for smiles in context_smiles]\n",
    "dataset = pd.DataFrame(all_routes_chemical_onehot, columns = chemical_smiles)\n",
    "dataset_context = pd.DataFrame(all_routes_context_onehot, columns = context_smiles)\n",
    "dataset['target'] = all_routes_target\n",
    "dataset['index'] = index_list_all_routes\n",
    "dataset['score'] = cum_score_with_penalty"
   ]
  },
  {
   "cell_type": "code",
   "execution_count": 96,
   "metadata": {},
   "outputs": [],
   "source": [
    "dataset = dataset.assign(**dataset_context)"
   ]
  },
  {
   "cell_type": "code",
   "execution_count": 97,
   "metadata": {},
   "outputs": [
    {
     "name": "stdout",
     "output_type": "stream",
     "text": [
      "(3910, 3340, 99)\n"
     ]
    }
   ],
   "source": [
    "chemicals_list = list(dataset)\n",
    "# print(chemicals_list)\n",
    "target_list = list(dataset['target'])\n",
    "# chemicals_list.remove('Unnamed: 0')\n",
    "chemicals_list.remove('target')\n",
    "chemicals_list.remove('score')\n",
    "chemicals_list.remove('index')\n",
    "chemicals_list_no_context = [chemical for chemical in chemicals_list if 'context_' not in chemical]\n",
    "\n",
    "\n",
    "chemicals_list_index = range(len(chemicals_list))\n",
    "chemicals_dict = dict(zip(chemicals_list_index, chemicals_list))\n",
    "chemicals_list_index_no_context = range(len(chemicals_list_no_context))\n",
    "chemicals_dict_no_context = dict(zip(chemicals_list_index_no_context,chemicals_list_no_context))\n",
    "print(len(chemicals_list),len(chemicals_list_no_context), len(set(target_list)))"
   ]
  },
  {
   "cell_type": "code",
   "execution_count": 6,
   "metadata": {},
   "outputs": [],
   "source": [
    "results_folder = \"WHO_99_new_penalty/\"\n",
    "\n",
    "with open(results_folder+\"selected_path_la05\",'r') as X1:\n",
    "    path_list_x1 = pickle.load(X1)\n",
    "with open(results_folder+\"shortest_path_list.pickle\",'r') as X10:\n",
    "    shortest_path_list = pickle.load(X10)\n",
    "    \n",
    "    "
   ]
  },
  {
   "cell_type": "code",
   "execution_count": 10,
   "metadata": {},
   "outputs": [
    {
     "name": "stdout",
     "output_type": "stream",
     "text": [
      "2.0\n"
     ]
    }
   ],
   "source": [
    "def get_max_depth(tree, depths = [0], current_depth = 0):\n",
    "    if not tree['children']:\n",
    "        depths.append(current_depth)\n",
    "    else: current_depth+=0.5\n",
    "    for child in tree['children']:\n",
    "        get_max_depth(child, depths=depths, current_depth = current_depth)\n",
    "    return max(depths)\n",
    "\n",
    "print(get_max_depth(feasible_trees[1]['tree']))"
   ]
  },
  {
   "cell_type": "code",
   "execution_count": 11,
   "metadata": {
    "scrolled": true
   },
   "outputs": [
    {
     "name": "stdout",
     "output_type": "stream",
     "text": [
      "[0, 212, 960, 9498, 17315, 25710, 33582, 33592, 33811, 33830, 33870, 34080, 34661, 42308, 42406, 47824, 47829, 48908, 48962, 48988, 49042, 49262, 52073, 52742, 56231, 56540, 62787, 63055, 65944, 68561, 70312, 70361, 70533, 70754, 73117, 75158, 75245, 75387, 75398, 75479, 75832, 75909, 75941, 75999, 76195, 80369, 84647, 84651, 85062, 87107, 87136, 92488, 93237, 93543, 94068, 94209, 94221, 94237, 95628, 100911, 103810, 104580, 107493, 109128, 109189, 111179, 111848, 112970, 113616, 113914, 114035, 114252, 114453, 119468, 124068, 129083, 129089, 129338, 129956, 130074, 130104, 132110, 132624, 132833, 133102, 133611, 134192, 134319, 134636, 134880, 136189, 140164, 140762, 143831, 148316, 156152, 164660, 171403, 177056, 177198, 182516, 182672, 188157, 194119, 194284]\n"
     ]
    }
   ],
   "source": [
    "all_cum_score_list = []\n",
    "depth_list = []\n",
    "# for i, tree in enumerate(feasible_trees):\n",
    "#     fsc = get_stepwise_fsc_from_tree(fsc=[],tree=tree['tree'])\n",
    "#     depth = get_max_depth(tree['tree'],depths= [0],current_depth=0)\n",
    "# #     print(depth)\n",
    "#     low_prob_count = sum([1 for sc in fsc if sc<0.05])\n",
    "#     depth_list.append(depth)\n",
    "#     all_cum_score_list.append(np.prod(fsc))\n",
    "# print(max(depth_list))\n",
    "# print(np.mean(depth_list),len(all_cum_score_list))\n",
    "trees_to_keep = []\n",
    "cum_score_list = []\n",
    "cum_score_with_penalty = []\n",
    "contains_zero = []\n",
    "for i, tree in enumerate(feasible_trees):\n",
    "    fsc = get_stepwise_fsc_from_tree(fsc=[],tree=tree['tree'])\n",
    "    low_prob_count = sum([1 for sc in fsc if sc<0.05])\n",
    "    if low_prob_count>1:\n",
    "        continue\n",
    "    elif low_prob_count==1:\n",
    "        trees_to_keep.append(i)\n",
    "        cum_score_list.append(nonzero_mul(fsc))\n",
    "        cum_score_with_penalty.append(nonzero_mul(fsc)/2.71828)\n",
    "        contains_zero.append(True)\n",
    "    else: \n",
    "        trees_to_keep.append(i)\n",
    "        cum_score_list.append(np.prod(fsc))\n",
    "        cum_score_with_penalty.append(np.prod(fsc))\n",
    "        contains_zero.append(False)\n",
    "        \n",
    "len_sc = [cum_score_with_penalty[i] for i in range(len(cum_score_with_penalty))]\n",
    "\n",
    "dataset['len_sc'] = len_sc\n",
    "\n",
    "dataset['index']  = range(dataset.shape[0])\n",
    "shortest_path_dataset = dataset.loc[dataset.groupby('target',as_index=False)['len_sc'].idxmax()]\n",
    "# shortest_path_dataset = dataset.sort_values('len_sc',ascending=False).groupby('target',as_index=False).agg('first')\n",
    "# print(sorted(list(shortest_path_dataset['index'])))"
   ]
  },
  {
   "cell_type": "code",
   "execution_count": 13,
   "metadata": {},
   "outputs": [
    {
     "name": "stdout",
     "output_type": "stream",
     "text": [
      "194347\n"
     ]
    }
   ],
   "source": [
    "print(len(len_sc))"
   ]
  },
  {
   "cell_type": "code",
   "execution_count": 98,
   "metadata": {},
   "outputs": [],
   "source": [
    "selected_path_dataset_1xscore = dataset.iloc[path_list_x1,:]\n",
    "shortest_path_dataset = dataset.iloc[shortest_path_list,:]"
   ]
  },
  {
   "cell_type": "code",
   "execution_count": 50,
   "metadata": {},
   "outputs": [],
   "source": [
    "agg_1xscore = selected_path_dataset_1xscore.agg('sum')\n",
    "use_chem_1xscore = agg_1xscore[agg_1xscore>=1]\n"
   ]
  },
  {
   "cell_type": "code",
   "execution_count": 53,
   "metadata": {},
   "outputs": [
    {
     "name": "stdout",
     "output_type": "stream",
     "text": [
      "2\n"
     ]
    }
   ],
   "source": [
    "agg_shortest = shortest_path_dataset.agg('sum')\n",
    "use_chem_shortest = agg_shortest[agg_shortest>=1]\n",
    "\n",
    "print((use_chem_shortest['BrCC1CO1']))"
   ]
  },
  {
   "cell_type": "code",
   "execution_count": 17,
   "metadata": {},
   "outputs": [],
   "source": [
    "\n",
    "chem_list_1xscore = list(use_chem_1xscore.keys())\n",
    "chem_list_shortest = list(use_chem_shortest.keys())\n",
    "\n",
    "# print(chem_list_shortest)"
   ]
  },
  {
   "cell_type": "code",
   "execution_count": 41,
   "metadata": {},
   "outputs": [
    {
     "name": "stdout",
     "output_type": "stream",
     "text": [
      "81\n",
      "130\n",
      "109\n",
      "106\n",
      "(106, 106)\n",
      "('3', '3', '3', '3', '2', '2', '2', '2', '2', '2', '2', '2', '1', '1', '1', '1', '1', '1', '1', '1', '1', '1', '1', '1', '1', '1', '1', '1', '1', '1', '1', '1', '1', '1', '1', '1', '1', '1', '1', '1', '1', '1', '1', '1', '1', '1', '1', '1', '1', '1', '1', '1', '1', '1', '1', '1', '1', '1', '1', '1', '1', '1', '1', '1', '1', '1', '1', '1', '1', '1', '1', '1', '1', '1', '1', '1', '1', '1', '1', '1', '1')\n"
     ]
    },
    {
     "data": {
      "image/png": "[encoded data removed]",
      "text/plain": [
       "<PIL.Image.Image image mode=RGBA size=1200x1080 at 0x7F0AE5896250>"
      ]
     },
     "execution_count": 41,
     "metadata": {},
     "output_type": "execute_result"
    }
   ],
   "source": [
    "chem_set_1xscore = set(chem_list_1xscore)\n",
    "chem_set_shortest = set(chem_list_shortest)\n",
    "\n",
    "inter_chem_sets = chem_set_1xscore.intersection(chem_set_shortest)\n",
    "\n",
    "chem_list_1xscore_only = sorted(list(chem_set_1xscore-inter_chem_sets),key=lambda s: s.lower())\n",
    "chem_list_shortest_only = sorted(list(chem_set_shortest-inter_chem_sets),key=lambda s: s.lower())\n",
    "\n",
    "mol_list_1xscore = []\n",
    "mol_list_shortest = []\n",
    "ct_list_1xscore = []\n",
    "ct_list_shortest = []\n",
    "ctr = 0\n",
    "for chem in chem_list_1xscore_only:\n",
    "    if 'context_' not in chem:\n",
    "        ctr+=1\n",
    "        mol_list_1xscore.append(Chem.MolFromSmiles(chem))\n",
    "        ct_list_1xscore.append(str(agg_1xscore[chem]))\n",
    "print ctr\n",
    "\n",
    "ctr = 0\n",
    "for chem in chem_list_shortest_only:\n",
    "    if 'context_' not in chem:\n",
    "#         print(chem) \n",
    "        mol_list_shortest.append(Chem.MolFromSmiles(chem))\n",
    "        ct_list_shortest.append(str(agg_shortest[chem]))\n",
    "        ctr+=1\n",
    "print(ctr)\n",
    "\n",
    "print(len([chem for chem in list(inter_chem_sets) if 'context_' not in chem]))\n",
    "\n",
    "mol_list_mutual =[]\n",
    "ct_list_mutual = []\n",
    "ctr = 0\n",
    "for chem in sorted([chem for chem in list(inter_chem_sets) if 'context_' not in chem], key=lambda s: s.lower()):\n",
    "    if chem in ['index', 'score', 'target', 'Unnamed: 0', 'len_sc']:\n",
    "        continue\n",
    "    if 'context_' not in chem:\n",
    "#         print(chem) \n",
    "        mol_list_mutual.append(Chem.MolFromSmiles(chem))\n",
    "        ct_list_mutual.append(';'.join([str(agg_shortest[chem]),str(agg_1xscore[chem])]))\n",
    "        ctr+=1\n",
    "print(ctr)\n",
    "\n",
    "print(len(mol_list_mutual), len(ct_list_mutual))\n",
    "\n",
    "mol_list_1xscore, ct_list_1xscore = zip(*sorted(zip(mol_list_1xscore,ct_list_1xscore),key=lambda x: x[1], reverse=True))\n",
    "mol_list_shortest, ct_list_shortest = zip(*sorted(zip(mol_list_shortest,ct_list_shortest),key=lambda x: x[1], reverse=True))\n",
    "mol_list_mutual, ct_list_mutual = zip(*sorted(zip(mol_list_mutual,ct_list_mutual),key=lambda x: x[1][2], reverse=True))\n",
    "\n",
    "print(ct_list_1xscore)\n",
    "DrawingOptions.radicalSymbol = '.'\n",
    "Chem.Draw.MolsToGridImage(mol_list_1xscore,molsPerRow=10, subImgSize=(120, 120),legends = ct_list_1xscore)\n",
    "# Chem.Draw.MolsToGridImage(mol_list_shortest,molsPerRow=10, subImgSize=(120, 120),legends = ct_list_shortest)\n",
    "# Chem.Draw.MolsToGridImage(mol_list_mutual,molsPerRow=10, subImgSize=(120, 120),legends = ct_list_mutual)"
   ]
  },
  {
   "cell_type": "code",
   "execution_count": 22,
   "metadata": {},
   "outputs": [
    {
     "name": "stdout",
     "output_type": "stream",
     "text": [
      "{'name': 'dummy_root', 'children': [{'smiles': 'http://askcos.mit.edu/draw/smiles/O=C1c2c(O)cccc2Cc2cccc(O)c21', '_id': 'T0', 'score': '0.024', 'children': [{'smiles': 'http://askcos.mit.edu/draw/smiles/..CC%28%3DO%29O.%5BZn%5D', 'score': '0.488', 'names': '', '_id': 1, 'children': [{'smiles': 'http://askcos.mit.edu/draw/smiles/O=C1c2cccc(O)c2C(=O)c2c(O)cccc21', 'children': [{'smiles': 'http://askcos.mit.edu/draw/smiles/..Cl%5BAlH3%5D%28Cl%29Cl.%5BNa%2B%5D.%5BCl-%5D.', 'score': '0.000', 'names': '', '_id': 2, 'children': [{'smiles': 'http://askcos.mit.edu/draw/smiles/O=C1OC(=O)c2c(O)cccc21', 'children': [], 'rc_type': 'chemical'}, {'smiles': 'http://askcos.mit.edu/draw/smiles/Oc1ccccc1', 'children': [], 'rc_type': 'chemical'}], 'rc_type': 'reaction'}], 'rc_type': 'chemical'}], 'rc_type': 'reaction'}], 'rc_type': 'chemical'}, {'smiles': 'http://askcos.mit.edu/draw/smiles/Cc1cc(NS(=O)(=O)c2ccc(N)cc2)no1', '_id': 'T1', 'score': '1.000', 'children': [{'smiles': 'http://askcos.mit.edu/draw/smiles/..Cl.%5BFe%5D', 'score': '1.000', 'names': '', '_id': 1, 'children': [{'smiles': 'http://askcos.mit.edu/draw/smiles/Cc1cc(NS(=O)(=O)c2ccc([N+](=O)[O-])cc2)no1', 'children': [], 'rc_type': 'chemical'}], 'rc_type': 'reaction'}], 'rc_type': 'chemical'}, {'smiles': 'http://askcos.mit.edu/draw/smiles/CCN(CC)CCNC(=O)c1ccc(N)cc1', '_id': 'T2', 'score': '0.696', 'children': [{'smiles': 'http://askcos.mit.edu/draw/smiles/..O%3DC%28O%29C%28F%29%28F%29F.', 'score': '1.000', 'names': '', '_id': 1, 'children': [{'smiles': 'http://askcos.mit.edu/draw/smiles/CCN(CC)CCNC(=O)c1ccc(NC(=O)OC(C)(C)C)cc1', 'children': [{'smiles': 'http://askcos.mit.edu/draw/smiles/.C1CCOC1..', 'score': '1.000', 'names': '', '_id': 2, 'children': [{'smiles': 'http://askcos.mit.edu/draw/smiles/CC(C)(C)OC(=O)Nc1ccc(C(=O)Cl)cc1', 'children': [{'smiles': 'http://askcos.mit.edu/draw/smiles/.Cc1ccccc1.ClP%28Cl%29%28Cl%29%28Cl%29Cl.', 'score': '0.999', 'names': '', '_id': 3, 'children': [{'smiles': 'http://askcos.mit.edu/draw/smiles/COC(=O)c1ccc(NC(=O)OC(C)(C)C)cc1', 'children': [{'smiles': 'http://askcos.mit.edu/draw/smiles/..O%3DS%28%3DO%29%28O%29O.', 'score': '1.000', 'names': '', '_id': 4, 'children': [{'smiles': 'http://askcos.mit.edu/draw/smiles/CC(C)(C)OC(=O)Nc1ccc(C(=O)O)cc1', 'children': [{'smiles': 'http://askcos.mit.edu/draw/smiles/.CC%28C%29%28C%29O.O.O%3D%5BMn%5D%28%3DO%29%28%3DO%29%5BO-%5D.%5BK%2B%5D.', 'score': '0.806', 'names': '', '_id': 5, 'children': [{'smiles': 'http://askcos.mit.edu/draw/smiles/Cc1ccc(NC(=O)OC(C)(C)C)cc1', 'children': [{'smiles': 'http://askcos.mit.edu/draw/smiles/.C1CCOC1..', 'score': '0.864', 'names': '', '_id': 6, 'children': [{'smiles': 'http://askcos.mit.edu/draw/smiles/CC(C)(C)OC(=O)OC(=O)OC(C)(C)C', 'children': [], 'rc_type': 'chemical'}, {'smiles': 'http://askcos.mit.edu/draw/smiles/Cc1ccc(N)cc1', 'children': [], 'rc_type': 'chemical'}], 'rc_type': 'reaction'}], 'rc_type': 'chemical'}], 'rc_type': 'reaction'}], 'rc_type': 'chemical'}, {'smiles': 'http://askcos.mit.edu/draw/smiles/CO', 'children': [], 'rc_type': 'chemical'}], 'rc_type': 'reaction'}], 'rc_type': 'chemical'}], 'rc_type': 'reaction'}], 'rc_type': 'chemical'}, {'smiles': 'http://askcos.mit.edu/draw/smiles/CCN(CC)CCN', 'children': [], 'rc_type': 'chemical'}], 'rc_type': 'reaction'}], 'rc_type': 'chemical'}], 'rc_type': 'reaction'}], 'rc_type': 'chemical'}, {'smiles': 'http://askcos.mit.edu/draw/smiles/CCOC(=O)C1(c2ccccc2)CCN(C)CC1', '_id': 'T3', 'score': '0.811', 'children': [{'smiles': 'http://askcos.mit.edu/draw/smiles/.CN%28C%29C%3DO.O%3DC%28%5BO-%5D%29%5BO-%5D.%5BK%2B%5D.', 'score': '0.829', 'names': '', '_id': 1, 'children': [{'smiles': 'http://askcos.mit.edu/draw/smiles/CCI', 'children': [], 'rc_type': 'chemical'}, {'smiles': 'http://askcos.mit.edu/draw/smiles/CN1CCC(C(=O)O)(c2ccccc2)CC1', 'children': [{'smiles': 'http://askcos.mit.edu/draw/smiles/.C1COCCO1.Cl.', 'score': '0.992', 'names': '', '_id': 2, 'children': [{'smiles': 'http://askcos.mit.edu/draw/smiles/CN1CCC(C(=O)OC(C)(C)C)(c2ccccc2)CC1', 'children': [{'smiles': 'http://askcos.mit.edu/draw/smiles/.CN%28C%29C%3DO.%5BH-%5D.%5BNa%2B%5D.', 'score': '1.000', 'names': '', '_id': 3, 'children': [{'smiles': 'http://askcos.mit.edu/draw/smiles/CC(C)(C)OC(=O)Cc1ccccc1', 'children': [{'smiles': 'http://askcos.mit.edu/draw/smiles/.CCOCC..', 'score': '0.987', 'names': '', '_id': 4, 'children': [{'smiles': 'http://askcos.mit.edu/draw/smiles/Br[Mg]c1ccccc1', 'children': [], 'rc_type': 'chemical'}, {'smiles': 'http://askcos.mit.edu/draw/smiles/CC(C)(C)OC(=O)CBr', 'children': [], 'rc_type': 'chemical'}], 'rc_type': 'reaction'}], 'rc_type': 'chemical'}, {'smiles': 'http://askcos.mit.edu/draw/smiles/CN(CCCl)CCCl', 'children': [], 'rc_type': 'chemical'}], 'rc_type': 'reaction'}], 'rc_type': 'chemical'}], 'rc_type': 'reaction'}], 'rc_type': 'chemical'}], 'rc_type': 'reaction'}], 'rc_type': 'chemical'}, {'smiles': 'http://askcos.mit.edu/draw/smiles/CC(C)NCC(O)COc1ccc(CC(N)=O)cc1', '_id': 'T4', 'score': '0.999', 'children': [{'smiles': 'http://askcos.mit.edu/draw/smiles/.CCO.N.', 'score': '1.000', 'names': '', '_id': 1, 'children': [{'smiles': 'http://askcos.mit.edu/draw/smiles/CCOC(=O)Cc1ccc(OCC(O)CNC(C)C)cc1', 'children': [{'smiles': 'http://askcos.mit.edu/draw/smiles/.CO.CCN%28CC%29CC.', 'score': '1.000', 'names': '', '_id': 2, 'children': [{'smiles': 'http://askcos.mit.edu/draw/smiles/CC(C)N', 'children': [], 'rc_type': 'chemical'}, {'smiles': 'http://askcos.mit.edu/draw/smiles/CCOC(=O)Cc1ccc(OCC2CO2)cc1', 'children': [{'smiles': 'http://askcos.mit.edu/draw/smiles/..O%3DC%28%5BO-%5D%29%5BO-%5D.%5BK%2B%5D.', 'score': '1.000', 'names': '', '_id': 3, 'children': [{'smiles': 'http://askcos.mit.edu/draw/smiles/CCOC(=O)Cc1ccc(O)cc1', 'children': [], 'rc_type': 'chemical'}, {'smiles': 'http://askcos.mit.edu/draw/smiles/ClCC1CO1', 'children': [], 'rc_type': 'chemical'}], 'rc_type': 'reaction'}], 'rc_type': 'chemical'}], 'rc_type': 'reaction'}], 'rc_type': 'chemical'}], 'rc_type': 'reaction'}], 'rc_type': 'chemical'}, {'smiles': 'http://askcos.mit.edu/draw/smiles/CNCCC(Oc1ccc(C(F)(F)F)cc1)c1ccccc1', '_id': 'T5', 'score': '0.419', 'children': [{'smiles': 'http://askcos.mit.edu/draw/smiles/.C1CCOC1.%5BH-%5D.%5BH-%5D.%5BNa%2B%5D.COCCO%5BAl%2B%5DOCCOC.', 'score': '0.997', 'names': '', '_id': 1, 'children': [{'smiles': 'http://askcos.mit.edu/draw/smiles/COC(=O)NCCC(Oc1ccc(C(F)(F)F)cc1)c1ccccc1', 'children': [{'smiles': 'http://askcos.mit.edu/draw/smiles/.Cc1ccccc1..', 'score': '0.557', 'names': '', '_id': 2, 'children': [{'smiles': 'http://askcos.mit.edu/draw/smiles/CO', 'children': [], 'rc_type': 'chemical'}, {'smiles': 'http://askcos.mit.edu/draw/smiles/O=C=NCCC(Oc1ccc(C(F)(F)F)cc1)c1ccccc1', 'children': [{'smiles': 'http://askcos.mit.edu/draw/smiles/.ClCCl.O%3DC%28%5BO-%5D%29O.%5BNa%2B%5D.', 'score': '0.993', 'names': '', '_id': 3, 'children': [{'smiles': 'http://askcos.mit.edu/draw/smiles/NCCC(Oc1ccc(C(F)(F)F)cc1)c1ccccc1', 'children': [{'smiles': 'http://askcos.mit.edu/draw/smiles/.CO.%5BNH4%2B%5D.%5BO-%5DC%3DO.%5BPd%5D', 'score': '1.000', 'names': '', '_id': 4, 'children': [{'smiles': 'http://askcos.mit.edu/draw/smiles/FC(F)(F)c1ccc(OC(CCN(Cc2ccccc2)Cc2ccccc2)c2ccccc2)cc1', 'children': [{'smiles': 'http://askcos.mit.edu/draw/smiles/.C1CCOC1.', 'score': '0.958', 'names': ' dimethylsulfide borane complex.', '_id': 5, 'children': [{'smiles': 'http://askcos.mit.edu/draw/smiles/O=C(CC(Oc1ccc(C(F)(F)F)cc1)c1ccccc1)N(Cc1ccccc1)Cc1ccccc1', 'children': [{'smiles': 'http://askcos.mit.edu/draw/smiles/.ClCCl.CCN%28CC%29CC.', 'score': '0.999', 'names': '', '_id': 6, 'children': [{'smiles': 'http://askcos.mit.edu/draw/smiles/O=C(Cl)CC(Oc1ccc(C(F)(F)F)cc1)c1ccccc1', 'children': [{'smiles': 'http://askcos.mit.edu/draw/smiles/..O%3DS%28Cl%29Cl.', 'score': '0.973', 'names': '', '_id': 7, 'children': [{'smiles': 'http://askcos.mit.edu/draw/smiles/O=C(O)CC(Oc1ccc(C(F)(F)F)cc1)c1ccccc1', 'children': [{'smiles': 'http://askcos.mit.edu/draw/smiles/.ClCCl.O.O%3DC%28O%29C%28F%29%28F%29F.', 'score': '0.999', 'names': '', '_id': 8, 'children': [{'smiles': 'http://askcos.mit.edu/draw/smiles/CC(C)(C)OC(=O)CC(Oc1ccc(C(F)(F)F)cc1)c1ccccc1', 'children': [{'smiles': 'http://askcos.mit.edu/draw/smiles/.CS%28C%29%3DO.%5BH-%5D.%5BNa%2B%5D.', 'score': '1.000', 'names': '', '_id': 9, 'children': [{'smiles': 'http://askcos.mit.edu/draw/smiles/CC(C)(C)OC(=O)CC(O)c1ccccc1', 'children': [{'smiles': 'http://askcos.mit.edu/draw/smiles/...%5BZn%5D', 'score': '0.957', 'names': '', '_id': 10, 'children': [{'smiles': 'http://askcos.mit.edu/draw/smiles/CC(C)(C)OC(=O)CBr', 'children': [], 'rc_type': 'chemical'}, {'smiles': 'http://askcos.mit.edu/draw/smiles/O=Cc1ccccc1', 'children': [], 'rc_type': 'chemical'}], 'rc_type': 'reaction'}], 'rc_type': 'chemical'}, {'smiles': 'http://askcos.mit.edu/draw/smiles/Fc1ccc(C(F)(F)F)cc1', 'children': [], 'rc_type': 'chemical'}], 'rc_type': 'reaction'}], 'rc_type': 'chemical'}], 'rc_type': 'reaction'}], 'rc_type': 'chemical'}], 'rc_type': 'reaction'}], 'rc_type': 'chemical'}, {'smiles': 'http://askcos.mit.edu/draw/smiles/c1ccc(CNCc2ccccc2)cc1', 'children': [{'smiles': 'http://askcos.mit.edu/draw/smiles/.CCO.%5BH%5D%5BH%5D.', 'score': '0.944', 'names': '', '_id': 7, 'children': [{'smiles': 'http://askcos.mit.edu/draw/smiles/C(=N/Cc1ccccc1)\\\\c1ccccc1', 'children': [{'smiles': '', 'score': '0.904', 'names': '', '_id': 8, 'children': [{'smiles': 'http://askcos.mit.edu/draw/smiles/NCc1ccccc1', 'children': [], 'rc_type': 'chemical'}, {'smiles': 'http://askcos.mit.edu/draw/smiles/O=Cc1ccccc1', 'children': [], 'rc_type': 'chemical'}], 'rc_type': 'reaction'}], 'rc_type': 'chemical'}], 'rc_type': 'reaction'}], 'rc_type': 'chemical'}], 'rc_type': 'reaction'}], 'rc_type': 'chemical'}], 'rc_type': 'reaction'}], 'rc_type': 'chemical'}], 'rc_type': 'reaction'}], 'rc_type': 'chemical'}, {'smiles': 'http://askcos.mit.edu/draw/smiles/O=C(OC(Cl)(Cl)Cl)OC(Cl)(Cl)Cl', 'children': [], 'rc_type': 'chemical'}], 'rc_type': 'reaction'}], 'rc_type': 'chemical'}], 'rc_type': 'reaction'}], 'rc_type': 'chemical'}], 'rc_type': 'reaction'}], 'rc_type': 'chemical'}, {'smiles': 'http://askcos.mit.edu/draw/smiles/CC1(C)SC2C(NC(=O)COc3ccccc3)C(=O)N2C1C(=O)[O-]', '_id': 'T6', 'score': '0.000', 'children': [{'smiles': 'http://askcos.mit.edu/draw/smiles/.ClCCl.CCN%28CC%29CC.', 'score': '0.000', 'names': '', '_id': 1, 'children': [{'smiles': 'http://askcos.mit.edu/draw/smiles/CC1(C)SC2C(N)C(=O)N2C1C(=O)[O-]', 'children': [], 'rc_type': 'chemical'}, {'smiles': 'http://askcos.mit.edu/draw/smiles/O=C(Cl)COc1ccccc1', 'children': [], 'rc_type': 'chemical'}], 'rc_type': 'reaction'}], 'rc_type': 'chemical'}, {'smiles': 'http://askcos.mit.edu/draw/smiles/CNNCc1ccc(C(=O)NC(C)C)cc1', '_id': 'T7', 'score': '0.997', 'children': [{'smiles': 'http://askcos.mit.edu/draw/smiles/..C%5BAlH3%5D%28C%29C.', 'score': '0.997', 'names': '', '_id': 1, 'children': [{'smiles': 'http://askcos.mit.edu/draw/smiles/CC(C)N', 'children': [], 'rc_type': 'chemical'}, {'smiles': 'http://askcos.mit.edu/draw/smiles/CNNCc1ccc(C(=O)OC)cc1', 'children': [], 'rc_type': 'chemical'}], 'rc_type': 'reaction'}], 'rc_type': 'chemical'}, {'smiles': 'http://askcos.mit.edu/draw/smiles/CN1CCCN=C1C=Cc1cccs1', '_id': 'T8', 'score': '0.656', 'children': [{'smiles': 'http://askcos.mit.edu/draw/smiles/.CN%28C%29C%3DO..', 'score': '0.656', 'names': '', '_id': 1, 'children': [{'smiles': 'http://askcos.mit.edu/draw/smiles/C(=Cc1cccs1)C1=NCCCN1', 'children': [], 'rc_type': 'chemical'}, {'smiles': 'http://askcos.mit.edu/draw/smiles/CI', 'children': [], 'rc_type': 'chemical'}], 'rc_type': 'reaction'}], 'rc_type': 'chemical'}, {'smiles': 'http://askcos.mit.edu/draw/smiles/O=C(Cn1ccnc1[N+](=O)[O-])NCc1ccccc1', '_id': 'T9', 'score': '0.987', 'children': [{'smiles': 'http://askcos.mit.edu/draw/smiles/.CCO..', 'score': '0.987', 'names': '', '_id': 1, 'children': [{'smiles': 'http://askcos.mit.edu/draw/smiles/COC(=O)Cn1ccnc1[N+](=O)[O-]', 'children': [], 'rc_type': 'chemical'}, {'smiles': 'http://askcos.mit.edu/draw/smiles/NCc1ccccc1', 'children': [], 'rc_type': 'chemical'}], 'rc_type': 'reaction'}], 'rc_type': 'chemical'}, {'smiles': 'http://askcos.mit.edu/draw/smiles/COc1ccc2nc(S(=O)Cc3ncc(C)c(OC)c3C)[nH]c2c1', '_id': 'T10', 'score': '0.992', 'children': [{'smiles': 'http://askcos.mit.edu/draw/smiles/.ClC%28Cl%29Cl.O%3DC%28OO%29c1cccc%28Cl%29c1.', 'score': '0.992', 'names': '', '_id': 1, 'children': [{'smiles': 'http://askcos.mit.edu/draw/smiles/COc1ccc2nc(SCc3ncc(C)c(OC)c3C)[nH]c2c1', 'children': [{'smiles': 'http://askcos.mit.edu/draw/smiles/..%5BNa%2B%5D.%5BOH-%5D.', 'score': '1.000', 'names': '', '_id': 2, 'children': [{'smiles': 'http://askcos.mit.edu/draw/smiles/COc1c(C)cnc(CCl)c1C', 'children': [], 'rc_type': 'chemical'}, {'smiles': 'http://askcos.mit.edu/draw/smiles/COc1ccc2nc(S)[nH]c2c1', 'children': [], 'rc_type': 'chemical'}], 'rc_type': 'reaction'}], 'rc_type': 'chemical'}], 'rc_type': 'reaction'}], 'rc_type': 'chemical'}, {'smiles': 'http://askcos.mit.edu/draw/smiles/Cc1cc(C(C)(C)C)cc(C)c1CC1=NCCN1', '_id': 'T11', 'score': '0.022', 'children': [{'smiles': 'http://askcos.mit.edu/draw/smiles/.Cc1ccccc1.C%5BAlH3%5D%28C%29C.', 'score': '0.516', 'names': '', '_id': 1, 'children': [{'smiles': 'http://askcos.mit.edu/draw/smiles/COC(=O)Cc1c(C)cc(C(C)(C)C)cc1C', 'children': [{'smiles': 'http://askcos.mit.edu/draw/smiles/..CC%28%3DO%29O%5BIH2%5D%28OC%28C%29%3DO%29C1%3DCC%3DCC%3DC1.%5BK%2B%5D.%5BOH-%5D.', 'score': '0.000', 'names': '', '_id': 2, 'children': [{'smiles': 'http://askcos.mit.edu/draw/smiles/CC(=O)c1c(C)cc(C(C)(C)C)cc1C', 'children': [{'smiles': 'http://askcos.mit.edu/draw/smiles/..c1ccccc1.CCOCC.', 'score': '0.999', 'names': '', '_id': 3, 'children': [{'smiles': 'http://askcos.mit.edu/draw/smiles/C[Mg]I', 'children': [], 'rc_type': 'chemical'}, {'smiles': 'http://askcos.mit.edu/draw/smiles/Cc1cc(C(C)(C)C)cc(C)c1C(=O)Cl', 'children': [{'smiles': 'http://askcos.mit.edu/draw/smiles/..O%3DC%28Cl%29C%28%3DO%29Cl.', 'score': '0.998', 'names': '', '_id': 4, 'children': [{'smiles': 'http://askcos.mit.edu/draw/smiles/Cc1cc(C(C)(C)C)cc(C)c1C(=O)O', 'children': [{'smiles': 'http://askcos.mit.edu/draw/smiles/.CCO.%5BK%2B%5D.%5BOH-%5D.', 'score': '0.997', 'names': '', '_id': 5, 'children': [{'smiles': 'http://askcos.mit.edu/draw/smiles/CCOC(=O)c1c(C)cc(C(C)(C)C)cc1C', 'children': [{'smiles': 'http://askcos.mit.edu/draw/smiles/..%5BLi%5DCCCC.', 'score': '1.000', 'names': '', '_id': 6, 'children': [{'smiles': 'http://askcos.mit.edu/draw/smiles/CCOC(=O)Cl', 'children': [], 'rc_type': 'chemical'}, {'smiles': 'http://askcos.mit.edu/draw/smiles/Cc1cc(C(C)(C)C)cc(C)c1Br', 'children': [{'smiles': 'http://askcos.mit.edu/draw/smiles/.ClCCl..Cl%5BFe%5D%28Cl%29Cl', 'score': '0.872', 'names': '', '_id': 7, 'children': [{'smiles': 'http://askcos.mit.edu/draw/smiles/CC(C)(C)Cl', 'children': [], 'rc_type': 'chemical'}, {'smiles': 'http://askcos.mit.edu/draw/smiles/Cc1cccc(C)c1Br', 'children': [], 'rc_type': 'chemical'}], 'rc_type': 'reaction'}], 'rc_type': 'chemical'}], 'rc_type': 'reaction'}], 'rc_type': 'chemical'}], 'rc_type': 'reaction'}], 'rc_type': 'chemical'}], 'rc_type': 'reaction'}], 'rc_type': 'chemical'}], 'rc_type': 'reaction'}], 'rc_type': 'chemical'}, {'smiles': 'http://askcos.mit.edu/draw/smiles/CO', 'children': [], 'rc_type': 'chemical'}], 'rc_type': 'reaction'}], 'rc_type': 'chemical'}, {'smiles': 'http://askcos.mit.edu/draw/smiles/NCCN', 'children': [], 'rc_type': 'chemical'}], 'rc_type': 'reaction'}], 'rc_type': 'chemical'}, {'smiles': 'http://askcos.mit.edu/draw/smiles/N=C(N)c1ccc(OCCCCCOc2ccc(C(=N)N)cc2)cc1', '_id': 'T12', 'score': '0.497', 'children': [{'smiles': 'http://askcos.mit.edu/draw/smiles/..%5BH%5D%5BH%5D.', 'score': '0.961', 'names': '', '_id': 1, 'children': [{'smiles': 'http://askcos.mit.edu/draw/smiles/N=C(N)c1ccc(OCCCCCOc2ccc(C(N)=NO)cc2)cc1', 'children': [{'smiles': 'http://askcos.mit.edu/draw/smiles/.CCO.CCO.N.Cl.', 'score': '0.523', 'names': '', '_id': 2, 'children': [{'smiles': 'http://askcos.mit.edu/draw/smiles/N%23Cc1ccc(OCCCCCOc2ccc(C(N)=NO)cc2)cc1', 'children': [{'smiles': 'http://askcos.mit.edu/draw/smiles/..Cl.NO.', 'score': '0.990', 'names': '', '_id': 3, 'children': [{'smiles': 'http://askcos.mit.edu/draw/smiles/N%23Cc1ccc(OCCCCCOc2ccc(C%23N)cc2)cc1', 'children': [{'smiles': 'http://askcos.mit.edu/draw/smiles/.CN%28C%29C%3DO.%5BK%2B%5D.%5BI-%5D.O%3DC%28%5BO-%5D%29%5BO-%5D.%5BK%2B%5D.', 'score': '1.000', 'names': '', '_id': 4, 'children': [{'smiles': 'http://askcos.mit.edu/draw/smiles/N%23Cc1ccc(O)cc1', 'children': [], 'rc_type': 'chemical'}, {'smiles': 'http://askcos.mit.edu/draw/smiles/N%23Cc1ccc(OCCCCCCl)cc1', 'children': [{'smiles': 'http://askcos.mit.edu/draw/smiles/.CN%28C%29C%3DO.%5BH-%5D.%5BNa%2B%5D.', 'score': '1.000', 'names': '', '_id': 5, 'children': [{'smiles': 'http://askcos.mit.edu/draw/smiles/ClCCCCCBr', 'children': [], 'rc_type': 'chemical'}, {'smiles': 'http://askcos.mit.edu/draw/smiles/N%23Cc1ccc(O)cc1', 'children': [], 'rc_type': 'chemical'}], 'rc_type': 'reaction'}], 'rc_type': 'chemical'}], 'rc_type': 'reaction'}], 'rc_type': 'chemical'}], 'rc_type': 'reaction'}], 'rc_type': 'chemical'}], 'rc_type': 'reaction'}], 'rc_type': 'chemical'}], 'rc_type': 'reaction'}], 'rc_type': 'chemical'}, {'smiles': 'http://askcos.mit.edu/draw/smiles/O=C(OCc1ccccc1)c1ccccc1', '_id': 'T13', 'score': '0.999', 'children': [{'smiles': 'http://askcos.mit.edu/draw/smiles/..c1ccncc1.', 'score': '0.999', 'names': '', '_id': 1, 'children': [{'smiles': 'http://askcos.mit.edu/draw/smiles/O=C(Cl)c1ccccc1', 'children': [], 'rc_type': 'chemical'}, {'smiles': 'http://askcos.mit.edu/draw/smiles/OCc1ccccc1', 'children': [], 'rc_type': 'chemical'}], 'rc_type': 'reaction'}], 'rc_type': 'chemical'}, {'smiles': 'http://askcos.mit.edu/draw/smiles/CCN(CC)CCCC(C)Nc1ccnc2cc(Cl)ccc12', '_id': 'T14', 'score': '0.998', 'children': [{'smiles': 'http://askcos.mit.edu/draw/smiles/...%5BCu%5D', 'score': '0.998', 'names': '', '_id': 1, 'children': [{'smiles': 'http://askcos.mit.edu/draw/smiles/CCN(CC)CCCC(C)N', 'children': [], 'rc_type': 'chemical'}, {'smiles': 'http://askcos.mit.edu/draw/smiles/Clc1ccc2c(Cl)ccnc2c1', 'children': [], 'rc_type': 'chemical'}], 'rc_type': 'reaction'}], 'rc_type': 'chemical'}, {'smiles': 'http://askcos.mit.edu/draw/smiles/CN=C(NC%23N)NCCSCc1nc[nH]c1C', '_id': 'T15', 'score': '0.967', 'children': [{'smiles': 'http://askcos.mit.edu/draw/smiles/.CO..', 'score': '0.967', 'names': '', '_id': 1, 'children': [{'smiles': 'http://askcos.mit.edu/draw/smiles/CN=C(NC%23N)Oc1ccccc1', 'children': [], 'rc_type': 'chemical'}, {'smiles': 'http://askcos.mit.edu/draw/smiles/Cc1[nH]cnc1CSCCN', 'children': [], 'rc_type': 'chemical'}], 'rc_type': 'reaction'}], 'rc_type': 'chemical'}, {'smiles': 'http://askcos.mit.edu/draw/smiles/CCC(=O)C(CC(C)N(C)C)(c1ccccc1)c1ccccc1', '_id': 'T16', 'score': '0.011', 'children': [{'smiles': 'http://askcos.mit.edu/draw/smiles/..%5BNaH%5D.', 'score': '0.000', 'names': '', '_id': 1, 'children': [{'smiles': 'http://askcos.mit.edu/draw/smiles/CC(CC(C%23N)(c1ccccc1)c1ccccc1)N(C)C', 'children': [{'smiles': 'http://askcos.mit.edu/draw/smiles/.CS%28C%29%3DO.%5BK%2B%5D.%5BOH-%5D.', 'score': '0.964', 'names': '', '_id': 2, 'children': [{'smiles': 'http://askcos.mit.edu/draw/smiles/CC(CCl)N(C)C', 'children': [], 'rc_type': 'chemical'}, {'smiles': 'http://askcos.mit.edu/draw/smiles/N%23CC(c1ccccc1)c1ccccc1', 'children': [{'smiles': 'http://askcos.mit.edu/draw/smiles/..O%3DS%28%3DO%29%28O%29O.', 'score': '0.326', 'names': '', '_id': 3, 'children': [{'smiles': 'http://askcos.mit.edu/draw/smiles/O=[N+]([O-])CC(c1ccccc1)c1ccccc1', 'children': [{'smiles': 'http://askcos.mit.edu/draw/smiles/.CCOCC..', 'score': '0.678', 'names': '', '_id': 4, 'children': [{'smiles': 'http://askcos.mit.edu/draw/smiles/Brc1ccccc1', 'children': [], 'rc_type': 'chemical'}, {'smiles': 'http://askcos.mit.edu/draw/smiles/O=[N+]([O-])/C=C/c1ccccc1', 'children': [], 'rc_type': 'chemical'}], 'rc_type': 'reaction'}], 'rc_type': 'chemical'}], 'rc_type': 'reaction'}], 'rc_type': 'chemical'}], 'rc_type': 'reaction'}], 'rc_type': 'chemical'}, {'smiles': 'http://askcos.mit.edu/draw/smiles/CCBr', 'children': [], 'rc_type': 'chemical'}], 'rc_type': 'reaction'}], 'rc_type': 'chemical'}, {'smiles': 'http://askcos.mit.edu/draw/smiles/c1ccc(C2CN3CCSC3=N2)cc1', '_id': 'T17', 'score': '0.047', 'children': [{'smiles': 'http://askcos.mit.edu/draw/smiles/.ClC%28Cl%29Cl.O%3DS%28Cl%29Cl.', 'score': '0.000', 'names': '', '_id': 1, 'children': [{'smiles': 'http://askcos.mit.edu/draw/smiles/CC(=O)N=C1SCCN1CC(O)c1ccccc1', 'children': [{'smiles': 'http://askcos.mit.edu/draw/smiles/.CCOCC..', 'score': '0.941', 'names': '', '_id': 2, 'children': [{'smiles': 'http://askcos.mit.edu/draw/smiles/Br[Mg]c1ccccc1', 'children': [], 'rc_type': 'chemical'}, {'smiles': 'http://askcos.mit.edu/draw/smiles/CC(=O)N=C1SCCN1CC=O', 'children': [], 'rc_type': 'chemical'}], 'rc_type': 'reaction'}], 'rc_type': 'chemical'}], 'rc_type': 'reaction'}], 'rc_type': 'chemical'}, {'smiles': 'http://askcos.mit.edu/draw/smiles/Cc1ncc2n1-c1ccc(Cl)cc1C(c1ccccc1F)=NC2', '_id': 'T18', 'score': '0.045', 'children': [{'smiles': '', 'score': '0.000', 'names': '', '_id': 1, 'children': [{'smiles': 'http://askcos.mit.edu/draw/smiles/Cc1ncc(CN=C(c2ccccc2F)c2cc(Cl)ccc2F)[nH]1', 'children': [{'smiles': 'http://askcos.mit.edu/draw/smiles/.Cc1ccccc1..Cc1ccc%28S%28%3DO%29%28%3DO%29O%29cc1', 'score': '0.894', 'names': '', '_id': 2, 'children': [{'smiles': 'http://askcos.mit.edu/draw/smiles/Cc1ncc(CN)[nH]1', 'children': [], 'rc_type': 'chemical'}, {'smiles': 'http://askcos.mit.edu/draw/smiles/O=C(c1ccccc1F)c1cc(Cl)ccc1F', 'children': [{'smiles': 'http://askcos.mit.edu/draw/smiles/.CCOCC..', 'score': '0.999', 'names': '', '_id': 3, 'children': [{'smiles': 'http://askcos.mit.edu/draw/smiles/Fc1ccc(Cl)cc1[Mg]Br', 'children': [], 'rc_type': 'chemical'}, {'smiles': 'http://askcos.mit.edu/draw/smiles/O=C(Cl)c1ccccc1F', 'children': [], 'rc_type': 'chemical'}], 'rc_type': 'reaction'}], 'rc_type': 'chemical'}], 'rc_type': 'reaction'}], 'rc_type': 'chemical'}], 'rc_type': 'reaction'}], 'rc_type': 'chemical'}, {'smiles': 'http://askcos.mit.edu/draw/smiles/CN(C)CCC=C1c2ccccc2CCc2ccccc21', '_id': 'T19', 'score': '0.404', 'children': [{'smiles': 'http://askcos.mit.edu/draw/smiles/..O%3DS%28%3DO%29%28O%29O.', 'score': '0.866', 'names': '', '_id': 1, 'children': [{'smiles': 'http://askcos.mit.edu/draw/smiles/CN(C)CCCC1(O)c2ccccc2CCc2ccccc21', 'children': [{'smiles': 'http://askcos.mit.edu/draw/smiles/.C1CCOC1.C1CCOC1.%5BMgH2%5D.', 'score': '0.960', 'names': '', '_id': 2, 'children': [{'smiles': 'http://askcos.mit.edu/draw/smiles/CN(C)CCCCl', 'children': [], 'rc_type': 'chemical'}, {'smiles': 'http://askcos.mit.edu/draw/smiles/O=C1c2ccccc2CCc2ccccc21', 'children': [{'smiles': 'http://askcos.mit.edu/draw/smiles/.S%3DC%3DS.Cl%5BAlH3%5D%28Cl%29Cl.', 'score': '0.492', 'names': '', '_id': 3, 'children': [{'smiles': 'http://askcos.mit.edu/draw/smiles/O=C(Cl)c1ccccc1CCc1ccccc1', 'children': [{'smiles': 'http://askcos.mit.edu/draw/smiles/..O%3DC%28Cl%29C%28%3DO%29Cl.', 'score': '0.998', 'names': '', '_id': 4, 'children': [{'smiles': 'http://askcos.mit.edu/draw/smiles/O=C(O)c1ccccc1CCc1ccccc1', 'children': [{'smiles': 'http://askcos.mit.edu/draw/smiles/.CO.%5BK%2B%5D.%5BOH-%5D.', 'score': '0.991', 'names': '', '_id': 5, 'children': [{'smiles': 'http://askcos.mit.edu/draw/smiles/COC(=O)c1ccccc1CCc1ccccc1', 'children': [{'smiles': 'http://askcos.mit.edu/draw/smiles/.CO.%5BH%5D%5BH%5D.%5BPd%5D', 'score': '1.000', 'names': '', '_id': 6, 'children': [{'smiles': 'http://askcos.mit.edu/draw/smiles/COC(=O)c1ccccc1C=Cc1ccccc1', 'children': [{'smiles': 'http://askcos.mit.edu/draw/smiles/..O%3DC%28%5BO-%5D%29%5BO-%5D.%5BNa%2B%5D.%5BPd%2B%2B%5D.CC%28%5BO-%5D%29%3DO.CC%28%5BO-%5D%29%3DO', 'score': '0.999', 'names': '', '_id': 7, 'children': [{'smiles': 'http://askcos.mit.edu/draw/smiles/Brc1ccccc1', 'children': [], 'rc_type': 'chemical'}, {'smiles': 'http://askcos.mit.edu/draw/smiles/C=Cc1ccccc1C(=O)OC', 'children': [], 'rc_type': 'chemical'}], 'rc_type': 'reaction'}], 'rc_type': 'chemical'}], 'rc_type': 'reaction'}], 'rc_type': 'chemical'}], 'rc_type': 'reaction'}], 'rc_type': 'chemical'}], 'rc_type': 'reaction'}], 'rc_type': 'chemical'}], 'rc_type': 'reaction'}], 'rc_type': 'chemical'}], 'rc_type': 'reaction'}], 'rc_type': 'chemical'}], 'rc_type': 'reaction'}], 'rc_type': 'chemical'}, {'smiles': 'http://askcos.mit.edu/draw/smiles/O=C(Nc1ccc([N+](=O)[O-])cc1Cl)c1cc(Cl)ccc1O', '_id': 'T20', 'score': '0.992', 'children': [{'smiles': 'http://askcos.mit.edu/draw/smiles/..BrB%28Br%29Br.', 'score': '0.993', 'names': '', '_id': 1, 'children': [{'smiles': 'http://askcos.mit.edu/draw/smiles/COc1ccc(Cl)cc1C(=O)Nc1ccc([N+](=O)[O-])cc1Cl', 'children': [{'smiles': 'http://askcos.mit.edu/draw/smiles/.ClCCl.c1ccncc1.', 'score': '1.000', 'names': '', '_id': 2, 'children': [{'smiles': 'http://askcos.mit.edu/draw/smiles/COc1ccc(Cl)cc1C(=O)Cl', 'children': [], 'rc_type': 'chemical'}, {'smiles': 'http://askcos.mit.edu/draw/smiles/Nc1ccc([N+](=O)[O-])cc1Cl', 'children': [], 'rc_type': 'chemical'}], 'rc_type': 'reaction'}], 'rc_type': 'chemical'}], 'rc_type': 'reaction'}], 'rc_type': 'chemical'}, {'smiles': 'http://askcos.mit.edu/draw/smiles/CC1COc2c(N3CCN(C)CC3)c(F)cc3c(=O)c(C(=O)O)cn1c23', '_id': 'T21', 'score': '0.467', 'children': [{'smiles': '', 'score': '0.951', 'names': '', '_id': 1, 'children': [{'smiles': 'http://askcos.mit.edu/draw/smiles/CC(CO)n1cc(C(=O)O)c(=O)c2cc(F)c(N3CCN(C)CC3)c(F)c21', 'children': [{'smiles': 'http://askcos.mit.edu/draw/smiles/.CO.%5BNa%2B%5D.%5BOH-%5D.', 'score': '1.000', 'names': '', '_id': 2, 'children': [{'smiles': 'http://askcos.mit.edu/draw/smiles/COC(=O)c1cn(C(C)CO)c2c(F)c(N3CCN(C)CC3)c(F)cc2c1=O', 'children': [{'smiles': 'http://askcos.mit.edu/draw/smiles/.CS%28C%29%3DO.CCN%28CC%29CC.', 'score': '1.000', 'names': '', '_id': 3, 'children': [{'smiles': 'http://askcos.mit.edu/draw/smiles/CN1CCNCC1', 'children': [], 'rc_type': 'chemical'}, {'smiles': 'http://askcos.mit.edu/draw/smiles/COC(=O)c1cn(C(C)CO)c2c(F)c(F)c(F)cc2c1=O', 'children': [{'smiles': 'http://askcos.mit.edu/draw/smiles/.O.O%3DS%28Cl%29Cl.O%3DC%28%5BO-%5D%29O.%5BNa%2B%5D.', 'score': '0.984', 'names': '', '_id': 4, 'children': [{'smiles': 'http://askcos.mit.edu/draw/smiles/CC(CO)n1cc(C(=O)O)c(=O)c2cc(F)c(F)c(F)c21', 'children': [{'smiles': 'http://askcos.mit.edu/draw/smiles/..O%3DS%28%3DO%29%28O%29O.', 'score': '0.999', 'names': '', '_id': 5, 'children': [{'smiles': 'http://askcos.mit.edu/draw/smiles/CC(CO)n1cc(C(N)=O)c(=O)c2cc(F)c(F)c(F)c21', 'children': [{'smiles': 'http://askcos.mit.edu/draw/smiles/..O%3DS%28%3DO%29%28O%29O.', 'score': '0.690', 'names': '', '_id': 6, 'children': [{'smiles': 'http://askcos.mit.edu/draw/smiles/CC(CO)n1cc(C%23N)c(=O)c2cc(F)c(F)c(F)c21', 'children': [{'smiles': 'http://askcos.mit.edu/draw/smiles/..CC%28C%29C%5BAlH4%5DCC%28C%29C.', 'score': '0.812', 'names': '', '_id': 7, 'children': [{'smiles': 'http://askcos.mit.edu/draw/smiles/COC(=O)C(C)n1cc(C%23N)c(=O)c2cc(F)c(F)c(F)c21', 'children': [{'smiles': 'http://askcos.mit.edu/draw/smiles/..O%3DS%28Cl%29Cl.', 'score': '1.000', 'names': '', '_id': 8, 'children': [{'smiles': 'http://askcos.mit.edu/draw/smiles/CC(C(=O)O)n1cc(C%23N)c(=O)c2cc(F)c(F)c(F)c21', 'children': [{'smiles': 'http://askcos.mit.edu/draw/smiles/.CN%28C%29C%3DO.CN%28C%29C%3DO.%5BH-%5D.%5BNa%2B%5D.', 'score': '0.892', 'names': '', '_id': 9, 'children': [{'smiles': 'http://askcos.mit.edu/draw/smiles/CC(Br)C(=O)O', 'children': [], 'rc_type': 'chemical'}, {'smiles': 'http://askcos.mit.edu/draw/smiles/N%23Cc1c[nH]c2c(F)c(F)c(F)cc2c1=O', 'children': [], 'rc_type': 'chemical'}], 'rc_type': 'reaction'}], 'rc_type': 'chemical'}, {'smiles': 'http://askcos.mit.edu/draw/smiles/CO', 'children': [], 'rc_type': 'chemical'}], 'rc_type': 'reaction'}], 'rc_type': 'chemical'}], 'rc_type': 'reaction'}], 'rc_type': 'chemical'}], 'rc_type': 'reaction'}], 'rc_type': 'chemical'}], 'rc_type': 'reaction'}], 'rc_type': 'chemical'}, {'smiles': 'http://askcos.mit.edu/draw/smiles/CO', 'children': [], 'rc_type': 'chemical'}], 'rc_type': 'reaction'}], 'rc_type': 'chemical'}], 'rc_type': 'reaction'}], 'rc_type': 'chemical'}], 'rc_type': 'reaction'}], 'rc_type': 'chemical'}], 'rc_type': 'reaction'}], 'rc_type': 'chemical'}, {'smiles': 'http://askcos.mit.edu/draw/smiles/O=C(C1CCCCC1)N1CC(=O)N2CCc3ccccc3C2C1', '_id': 'T22', 'score': '0.037', 'children': [{'smiles': 'http://askcos.mit.edu/draw/smiles/..O%3DS%28%3DO%29%28O%29O.', 'score': '0.000', 'names': '', '_id': 1, 'children': [{'smiles': 'http://askcos.mit.edu/draw/smiles/O=C(C1CCCCC1)N1CC(=O)N(CCc2ccccc2)C(O)C1', 'children': [{'smiles': 'http://askcos.mit.edu/draw/smiles/..%5BBH4-%5D.%5BNa%2B%5D.', 'score': '0.743', 'names': '', '_id': 2, 'children': [{'smiles': 'http://askcos.mit.edu/draw/smiles/O=C(C1CCCCC1)N1CC(=O)N(CCc2ccccc2)C(=O)C1', 'children': [{'smiles': 'http://askcos.mit.edu/draw/smiles/.CN%28C%29C%3DO.%5BK%2B%5D.%5BI-%5D.O%3DC%28%5BO-%5D%29%5BO-%5D.%5BK%2B%5D.', 'score': '0.999', 'names': '', '_id': 3, 'children': [{'smiles': 'http://askcos.mit.edu/draw/smiles/BrCCc1ccccc1', 'children': [], 'rc_type': 'chemical'}, {'smiles': 'http://askcos.mit.edu/draw/smiles/O=C1CN(C(=O)C2CCCCC2)CC(=O)N1', 'children': [{'smiles': 'http://askcos.mit.edu/draw/smiles/..CCOCC.', 'score': '0.995', 'names': '', '_id': 4, 'children': [{'smiles': 'http://askcos.mit.edu/draw/smiles/O=C(Cl)C1CCCCC1', 'children': [], 'rc_type': 'chemical'}, {'smiles': 'http://askcos.mit.edu/draw/smiles/O=C1CNCC(=O)N1', 'children': [], 'rc_type': 'chemical'}], 'rc_type': 'reaction'}], 'rc_type': 'chemical'}], 'rc_type': 'reaction'}], 'rc_type': 'chemical'}], 'rc_type': 'reaction'}], 'rc_type': 'chemical'}], 'rc_type': 'reaction'}], 'rc_type': 'chemical'}, {'smiles': 'http://askcos.mit.edu/draw/smiles/CNC(=C[N+](=O)[O-])NCCSCc1ccc(CN(C)C)o1', '_id': 'T23', 'score': '1.000', 'children': [{'smiles': 'http://askcos.mit.edu/draw/smiles/.O..', 'score': '1.000', 'names': '', '_id': 1, 'children': [{'smiles': 'http://askcos.mit.edu/draw/smiles/CN(C)Cc1ccc(CSCCN)o1', 'children': [], 'rc_type': 'chemical'}, {'smiles': 'http://askcos.mit.edu/draw/smiles/CNC(=C[N+](=O)[O-])SC', 'children': [], 'rc_type': 'chemical'}], 'rc_type': 'reaction'}], 'rc_type': 'chemical'}, {'smiles': 'http://askcos.mit.edu/draw/smiles/CC1=C(C(=O)O)N2C(=O)C(NC(=O)C(N)c3ccccc3)C2SC1', '_id': 'T24', 'score': '0.834', 'children': [{'smiles': 'http://askcos.mit.edu/draw/smiles/.O.O%3DC%28O%29C%28F%29%28F%29F.', 'score': '1.000', 'names': '', '_id': 1, 'children': [{'smiles': 'http://askcos.mit.edu/draw/smiles/CC1=C(C(=O)O)N2C(=O)C(NC(=O)C(NC(=O)OC(C)(C)C)c3ccccc3)C2SC1', 'children': [{'smiles': 'http://askcos.mit.edu/draw/smiles/..Cl.', 'score': '0.999', 'names': '', '_id': 2, 'children': [{'smiles': 'http://askcos.mit.edu/draw/smiles/CC(C)(C)OC(=O)NC(C(=O)O)c1ccccc1', 'children': [{'smiles': 'http://askcos.mit.edu/draw/smiles/.CO.%5BNa%2B%5D.%5BOH-%5D.', 'score': '0.990', 'names': '', '_id': 3, 'children': [{'smiles': 'http://askcos.mit.edu/draw/smiles/COC(=O)C(NC(=O)OC(C)(C)C)c1ccccc1', 'children': [{'smiles': 'http://askcos.mit.edu/draw/smiles/.C1CCOC1..', 'score': '0.843', 'names': '', '_id': 4, 'children': [{'smiles': 'http://askcos.mit.edu/draw/smiles/CC(C)(C)OC(=O)OC(=O)OC(C)(C)C', 'children': [], 'rc_type': 'chemical'}, {'smiles': 'http://askcos.mit.edu/draw/smiles/COC(=O)C(N)c1ccccc1', 'children': [], 'rc_type': 'chemical'}], 'rc_type': 'reaction'}], 'rc_type': 'chemical'}], 'rc_type': 'reaction'}], 'rc_type': 'chemical'}, {'smiles': 'http://askcos.mit.edu/draw/smiles/CC1=C(C(=O)O)N2C(=O)C(N)C2SC1', 'children': [], 'rc_type': 'chemical'}], 'rc_type': 'reaction'}], 'rc_type': 'chemical'}], 'rc_type': 'reaction'}], 'rc_type': 'chemical'}, {'smiles': 'http://askcos.mit.edu/draw/smiles/NS(=O)(=O)c1cc(C(=O)O)c(NCc2ccco2)cc1Cl', '_id': 'T25', 'score': '0.860', 'children': [{'smiles': 'http://askcos.mit.edu/draw/smiles/..%5BK%2B%5D.%5BI-%5D.CC%28%3DO%29O.', 'score': '0.860', 'names': '', '_id': 1, 'children': [{'smiles': 'http://askcos.mit.edu/draw/smiles/ClCc1ccco1', 'children': [], 'rc_type': 'chemical'}, {'smiles': 'http://askcos.mit.edu/draw/smiles/Nc1cc(Cl)c(S(N)(=O)=O)cc1C(=O)O', 'children': [], 'rc_type': 'chemical'}], 'rc_type': 'reaction'}], 'rc_type': 'chemical'}, {'smiles': 'http://askcos.mit.edu/draw/smiles/COc1cc2nc(N3CCN(C(=O)C4COc5ccccc5O4)CC3)nc(N)c2cc1OC', '_id': 'T26', 'score': '0.989', 'children': [{'smiles': 'http://askcos.mit.edu/draw/smiles/.C1COCCO1.CCN%28CC%29CC.', 'score': '1.000', 'names': '', '_id': 1, 'children': [{'smiles': 'http://askcos.mit.edu/draw/smiles/COc1cc2nc(Br)nc(N)c2cc1OC', 'children': [], 'rc_type': 'chemical'}, {'smiles': 'http://askcos.mit.edu/draw/smiles/O=C(C1COc2ccccc2O1)N1CCNCC1', 'children': [{'smiles': '', 'score': '0.989', 'names': '', '_id': 2, 'children': [{'smiles': 'http://askcos.mit.edu/draw/smiles/C1CNCCN1', 'children': [], 'rc_type': 'chemical'}, {'smiles': 'http://askcos.mit.edu/draw/smiles/O=C(O)C1COc2ccccc2O1', 'children': [], 'rc_type': 'chemical'}], 'rc_type': 'reaction'}], 'rc_type': 'chemical'}], 'rc_type': 'reaction'}], 'rc_type': 'chemical'}, {'smiles': 'http://askcos.mit.edu/draw/smiles/COC(=O)C(N)Cc1ccc(O)c(O)c1', '_id': 'T27', 'score': '0.996', 'children': [{'smiles': 'http://askcos.mit.edu/draw/smiles/..O%3DS%28Cl%29Cl.', 'score': '0.996', 'names': '', '_id': 1, 'children': [{'smiles': 'http://askcos.mit.edu/draw/smiles/CO', 'children': [], 'rc_type': 'chemical'}, {'smiles': 'http://askcos.mit.edu/draw/smiles/NC(Cc1ccc(O)c(O)c1)C(=O)O', 'children': [], 'rc_type': 'chemical'}], 'rc_type': 'reaction'}], 'rc_type': 'chemical'}, {'smiles': 'http://askcos.mit.edu/draw/smiles/CCN(CC)CCNC(=O)c1cc(Cl)c(N)cc1OC', '_id': 'T28', 'score': '0.999', 'children': [{'smiles': 'http://askcos.mit.edu/draw/smiles/.C1CCOC1..', 'score': '0.999', 'names': '', '_id': 1, 'children': [{'smiles': 'http://askcos.mit.edu/draw/smiles/CCN(CC)CCN', 'children': [], 'rc_type': 'chemical'}, {'smiles': 'http://askcos.mit.edu/draw/smiles/CCOC(=O)Cl', 'children': [], 'rc_type': 'chemical'}, {'smiles': 'http://askcos.mit.edu/draw/smiles/COc1cc(N)c(Cl)cc1C(=O)O', 'children': [], 'rc_type': 'chemical'}], 'rc_type': 'reaction'}], 'rc_type': 'chemical'}, {'smiles': 'http://askcos.mit.edu/draw/smiles/Nc1nc(N)nc(Nc2ccc([As]3SCC(CO)S3)cc2)n1', '_id': 'T29', 'score': '0.020', 'children': [{'smiles': 'http://askcos.mit.edu/draw/smiles/..Cl.', 'score': '0.413', 'names': '', '_id': 1, 'children': [{'smiles': 'http://askcos.mit.edu/draw/smiles/COCC1CS[As](c2ccc(Nc3nc(N)nc(N)n3)cc2)S1', 'children': [{'smiles': 'http://askcos.mit.edu/draw/smiles/..O%3DC%28%5BO-%5D%29%5BO-%5D.%5BK%2B%5D.CN1CCCC1%3DO.', 'score': '0.946', 'names': '', '_id': 2, 'children': [{'smiles': 'http://askcos.mit.edu/draw/smiles/COCC1CS[As](c2ccc(Br)cc2)S1', 'children': [], 'rc_type': 'chemical'}, {'smiles': 'http://askcos.mit.edu/draw/smiles/Nc1nc(N)nc(N)n1', 'children': [{'smiles': 'http://askcos.mit.edu/draw/smiles/..N.', 'score': '0.000', 'names': '', '_id': 3, 'children': [{'smiles': 'http://askcos.mit.edu/draw/smiles/NC(N)=O', 'children': [], 'rc_type': 'chemical'}, {'smiles': 'http://askcos.mit.edu/draw/smiles/NC(N)=O', 'children': [], 'rc_type': 'chemical'}, {'smiles': 'http://askcos.mit.edu/draw/smiles/NC(N)=O', 'children': [], 'rc_type': 'chemical'}], 'rc_type': 'reaction'}], 'rc_type': 'chemical'}], 'rc_type': 'reaction'}], 'rc_type': 'chemical'}], 'rc_type': 'reaction'}], 'rc_type': 'chemical'}, {'smiles': 'http://askcos.mit.edu/draw/smiles/COc1cc(NC(C)CCCN)c2ncccc2c1', '_id': 'T30', 'score': '0.838', 'children': [{'smiles': 'http://askcos.mit.edu/draw/smiles/..%5BH%5D%5BH%5D.%5BPd%5D', 'score': '0.962', 'names': '', '_id': 1, 'children': [{'smiles': 'http://askcos.mit.edu/draw/smiles/COc1cc(NC(C)CCCNCc2ccccc2)c2ncccc2c1', 'children': [{'smiles': 'http://askcos.mit.edu/draw/smiles/..%5BBH3-%5DC%23N.%5BNa%2B%5D.', 'score': '0.999', 'names': '', '_id': 2, 'children': [{'smiles': 'http://askcos.mit.edu/draw/smiles/COc1cc(NC(C)CCC=O)c2ncccc2c1', 'children': [{'smiles': 'http://askcos.mit.edu/draw/smiles/.CC%28C%29%3DO.O%3DS%28%3DO%29%28O%29O.', 'score': '0.998', 'names': '', '_id': 3, 'children': [{'smiles': 'http://askcos.mit.edu/draw/smiles/COc1cc(NC(C)CCC(OC)OC)c2ncccc2c1', 'children': [{'smiles': 'http://askcos.mit.edu/draw/smiles/..CCN%28CC%29CC.', 'score': '0.874', 'names': '', '_id': 4, 'children': [{'smiles': 'http://askcos.mit.edu/draw/smiles/COC(CCC(C)Br)OC', 'children': [], 'rc_type': 'chemical'}, {'smiles': 'http://askcos.mit.edu/draw/smiles/COc1cc(N)c2ncccc2c1', 'children': [], 'rc_type': 'chemical'}], 'rc_type': 'reaction'}], 'rc_type': 'chemical'}], 'rc_type': 'reaction'}], 'rc_type': 'chemical'}, {'smiles': 'http://askcos.mit.edu/draw/smiles/NCc1ccccc1', 'children': [], 'rc_type': 'chemical'}], 'rc_type': 'reaction'}], 'rc_type': 'chemical'}], 'rc_type': 'reaction'}], 'rc_type': 'chemical'}, {'smiles': 'http://askcos.mit.edu/draw/smiles/CC(C)NCC(O)COc1cccc2ccccc12', '_id': 'T31', 'score': '1.000', 'children': [{'smiles': '', 'score': '1.000', 'names': '', '_id': 1, 'children': [{'smiles': 'http://askcos.mit.edu/draw/smiles/CC(C)N', 'children': [], 'rc_type': 'chemical'}, {'smiles': 'http://askcos.mit.edu/draw/smiles/c1ccc2c(OCC3CO3)cccc2c1', 'children': [{'smiles': 'http://askcos.mit.edu/draw/smiles/.CN%28C%29C%3DO..', 'score': '1.000', 'names': '', '_id': 2, 'children': [{'smiles': 'http://askcos.mit.edu/draw/smiles/ClCC1CO1', 'children': [], 'rc_type': 'chemical'}, {'smiles': 'http://askcos.mit.edu/draw/smiles/[O-]c1cccc2ccccc12', 'children': [], 'rc_type': 'chemical'}], 'rc_type': 'reaction'}], 'rc_type': 'chemical'}], 'rc_type': 'reaction'}], 'rc_type': 'chemical'}, {'smiles': 'http://askcos.mit.edu/draw/smiles/O=C(O)c1cn(C2CC2)c2cc(N3CCNCC3)c(F)cc2c1=O', '_id': 'T32', 'score': '0.041', 'children': [{'smiles': 'http://askcos.mit.edu/draw/smiles/.CC%23N..', 'score': '1.000', 'names': '', '_id': 1, 'children': [{'smiles': 'http://askcos.mit.edu/draw/smiles/C1CNCCN1', 'children': [], 'rc_type': 'chemical'}, {'smiles': 'http://askcos.mit.edu/draw/smiles/O=C(O)c1cn(C2CC2)c2cc(F)c(F)cc2c1=O', 'children': [{'smiles': 'http://askcos.mit.edu/draw/smiles/..O%3DC%28O%29C%28F%29%28F%29F.', 'score': '1.000', 'names': '', '_id': 2, 'children': [{'smiles': 'http://askcos.mit.edu/draw/smiles/CC(C)(C)OC(=O)c1cn(C2CC2)c2cc(F)c(F)cc2c1=O', 'children': [{'smiles': 'http://askcos.mit.edu/draw/smiles/.CN%28C%29C%3DO.%5BH-%5D.%5BNa%2B%5D.', 'score': '0.000', 'names': '', '_id': 3, 'children': [{'smiles': 'http://askcos.mit.edu/draw/smiles/CC(C)(C)OC(=O)C(=CNC1CC1)C(=O)c1cc(F)c(F)cc1F', 'children': [{'smiles': 'http://askcos.mit.edu/draw/smiles/.C1COCCO1.Cc1ccccc1.c1ccncc1.', 'score': '0.820', 'names': '', '_id': 4, 'children': [{'smiles': 'http://askcos.mit.edu/draw/smiles/CC(C)(C)OC(=O)C=CNC1CC1', 'children': [], 'rc_type': 'chemical'}, {'smiles': 'http://askcos.mit.edu/draw/smiles/O=C(Cl)c1cc(F)c(F)cc1F', 'children': [], 'rc_type': 'chemical'}], 'rc_type': 'reaction'}], 'rc_type': 'chemical'}], 'rc_type': 'reaction'}], 'rc_type': 'chemical'}], 'rc_type': 'reaction'}], 'rc_type': 'chemical'}], 'rc_type': 'reaction'}], 'rc_type': 'chemical'}, {'smiles': 'http://askcos.mit.edu/draw/smiles/CN(C)CCCN1c2ccccc2CCc2ccc(Cl)cc21', '_id': 'T33', 'score': '0.046', 'children': [{'smiles': 'http://askcos.mit.edu/draw/smiles/.Cc1ccccc1C.%5BH%5D%5BN-%5D%5BH%5D.%5BNa%2B%5D.', 'score': '0.998', 'names': '', '_id': 1, 'children': [{'smiles': 'http://askcos.mit.edu/draw/smiles/CN(C)CCCCl', 'children': [], 'rc_type': 'chemical'}, {'smiles': 'http://askcos.mit.edu/draw/smiles/Clc1ccc2c(c1)Nc1ccccc1CC2', 'children': [{'smiles': '', 'score': '0.002', 'names': '', '_id': 2, 'children': [{'smiles': 'http://askcos.mit.edu/draw/smiles/O=[N+]([O-])c1cc(Cl)ccc1CCc1ccccc1', 'children': [{'smiles': 'http://askcos.mit.edu/draw/smiles/.C1CCOC1.CN1CCCC1%3DO..%5BCl-%5D.%5BCl-%5D.%5BCl-%5D.%5BFe%2B3%5D', 'score': '0.923', 'names': '', '_id': 3, 'children': [{'smiles': 'http://askcos.mit.edu/draw/smiles/BrCCc1ccccc1', 'children': [], 'rc_type': 'chemical'}, {'smiles': 'http://askcos.mit.edu/draw/smiles/O=[N+]([O-])c1cc(Cl)ccc1[Mg]Br', 'children': [], 'rc_type': 'chemical'}], 'rc_type': 'reaction'}], 'rc_type': 'chemical'}], 'rc_type': 'reaction'}], 'rc_type': 'chemical'}], 'rc_type': 'reaction'}], 'rc_type': 'chemical'}, {'smiles': 'http://askcos.mit.edu/draw/smiles/Nc1ccc(S(=O)(=O)Nc2ncccn2)cc1', '_id': 'T34', 'score': '0.934', 'children': [{'smiles': 'http://askcos.mit.edu/draw/smiles/..Cl.%5BFe%5D', 'score': '0.934', 'names': '', '_id': 1, 'children': [{'smiles': 'http://askcos.mit.edu/draw/smiles/O=[N+]([O-])c1ccc(S(=O)(=O)Nc2ncccn2)cc1', 'children': [{'smiles': 'http://askcos.mit.edu/draw/smiles/.C1COCCO1.O%3DC%28%5BO-%5D%29%5BO-%5D.%5BK%2B%5D.', 'score': '1.000', 'names': '', '_id': 2, 'children': [{'smiles': 'http://askcos.mit.edu/draw/smiles/Clc1ncccn1', 'children': [], 'rc_type': 'chemical'}, {'smiles': 'http://askcos.mit.edu/draw/smiles/NS(=O)(=O)c1ccc([N+](=O)[O-])cc1', 'children': [], 'rc_type': 'chemical'}], 'rc_type': 'reaction'}], 'rc_type': 'chemical'}], 'rc_type': 'reaction'}], 'rc_type': 'chemical'}, {'smiles': 'http://askcos.mit.edu/draw/smiles/CCn1cc(C(=O)O)c(=O)c2ccc(C)nc21', '_id': 'T35', 'score': '0.997', 'children': [{'smiles': 'http://askcos.mit.edu/draw/smiles/.CN%28C%29C%3DO.O%3DC%28%5BO-%5D%29%5BO-%5D.%5BK%2B%5D.', 'score': '0.997', 'names': '', '_id': 1, 'children': [{'smiles': 'http://askcos.mit.edu/draw/smiles/CCI', 'children': [], 'rc_type': 'chemical'}, {'smiles': 'http://askcos.mit.edu/draw/smiles/Cc1ccc2c(=O)c(C(=O)O)c[nH]c2n1', 'children': [], 'rc_type': 'chemical'}], 'rc_type': 'reaction'}], 'rc_type': 'chemical'}, {'smiles': 'http://askcos.mit.edu/draw/smiles/CC(C)(C)NCC(O)c1ccc(O)c(CO)c1', '_id': 'T36', 'score': '0.987', 'children': [{'smiles': 'http://askcos.mit.edu/draw/smiles/..%5BNa%2B%5D.%5BOH-%5D.', 'score': '0.987', 'names': '', '_id': 1, 'children': [{'smiles': 'http://askcos.mit.edu/draw/smiles/CC(C)(C)N', 'children': [], 'rc_type': 'chemical'}, {'smiles': 'http://askcos.mit.edu/draw/smiles/OCc1cc(C(O)CBr)ccc1O', 'children': [], 'rc_type': 'chemical'}], 'rc_type': 'reaction'}], 'rc_type': 'chemical'}, {'smiles': 'http://askcos.mit.edu/draw/smiles/CNC(C)C(O)c1ccccc1', '_id': 'T37', 'score': '0.840', 'children': [{'smiles': 'http://askcos.mit.edu/draw/smiles/..O%3DC%28O%29C%28F%29%28F%29F.', 'score': '0.970', 'names': '', '_id': 1, 'children': [{'smiles': 'http://askcos.mit.edu/draw/smiles/CC(C(O)c1ccccc1)N(C)C(=O)OC(C)(C)C', 'children': [{'smiles': 'http://askcos.mit.edu/draw/smiles/.CCO.%5BBH4-%5D.%5BNa%2B%5D.', 'score': '0.874', 'names': '', '_id': 2, 'children': [{'smiles': 'http://askcos.mit.edu/draw/smiles/CC(C(=O)c1ccccc1)N(C)C(=O)OC(C)(C)C', 'children': [{'smiles': 'http://askcos.mit.edu/draw/smiles/..%5BLi%5DCCCC.', 'score': '1.000', 'names': '', '_id': 3, 'children': [{'smiles': 'http://askcos.mit.edu/draw/smiles/Brc1ccccc1', 'children': [], 'rc_type': 'chemical'}, {'smiles': 'http://askcos.mit.edu/draw/smiles/CON(C)C(=O)C(C)N(C)C(=O)OC(C)(C)C', 'children': [{'smiles': 'http://askcos.mit.edu/draw/smiles/..%5BH-%5D.%5BNa%2B%5D.', 'score': '0.990', 'names': '', '_id': 4, 'children': [{'smiles': 'http://askcos.mit.edu/draw/smiles/CI', 'children': [], 'rc_type': 'chemical'}, {'smiles': 'http://askcos.mit.edu/draw/smiles/CON(C)C(=O)C(C)NC(=O)OC(C)(C)C', 'children': [], 'rc_type': 'chemical'}], 'rc_type': 'reaction'}], 'rc_type': 'chemical'}], 'rc_type': 'reaction'}], 'rc_type': 'chemical'}], 'rc_type': 'reaction'}], 'rc_type': 'chemical'}], 'rc_type': 'reaction'}], 'rc_type': 'chemical'}, {'smiles': 'http://askcos.mit.edu/draw/smiles/COC(=O)C1=C(C)NC(C)=C(C(=O)OC)C1c1ccccc1[N+](=O)[O-]', '_id': 'T38', 'score': '0.000', 'children': [{'smiles': 'http://askcos.mit.edu/draw/smiles/.CC%28%3DO%29O..', 'score': '0.000', 'names': '', '_id': 1, 'children': [{'smiles': 'http://askcos.mit.edu/draw/smiles/COC(=O)/C=C(\\\\C)N', 'children': [], 'rc_type': 'chemical'}, {'smiles': 'http://askcos.mit.edu/draw/smiles/COC(=O)/C=C(\\\\C)N', 'children': [], 'rc_type': 'chemical'}, {'smiles': 'http://askcos.mit.edu/draw/smiles/O=Cc1ccccc1[N+](=O)[O-]', 'children': [], 'rc_type': 'chemical'}], 'rc_type': 'reaction'}], 'rc_type': 'chemical'}, {'smiles': 'http://askcos.mit.edu/draw/smiles/CCC1(c2ccccc2)C(=O)NC(=O)NC1=O', '_id': 'T39', 'score': '0.050', 'children': [{'smiles': 'http://askcos.mit.edu/draw/smiles/..CC%5BO-%5D.%5BNa%2B%5D.', 'score': '0.000', 'names': '', '_id': 1, 'children': [{'smiles': 'http://askcos.mit.edu/draw/smiles/CCOC(=O)C(CC)(C(=O)OCC)c1ccccc1', 'children': [{'smiles': 'http://askcos.mit.edu/draw/smiles/..%5BNaH%5D.', 'score': '0.994', 'names': '', '_id': 2, 'children': [{'smiles': 'http://askcos.mit.edu/draw/smiles/CCBr', 'children': [], 'rc_type': 'chemical'}, {'smiles': 'http://askcos.mit.edu/draw/smiles/CCOC(=O)C(C(=O)OCC)c1ccccc1', 'children': [{'smiles': 'http://askcos.mit.edu/draw/smiles/.C1COCCO1.C1COCCO1.%5BH-%5D.%5BNa%2B%5D.', 'score': '1.000', 'names': '', '_id': 3, 'children': [{'smiles': 'http://askcos.mit.edu/draw/smiles/Brc1ccccc1', 'children': [], 'rc_type': 'chemical'}, {'smiles': 'http://askcos.mit.edu/draw/smiles/CCOC(=O)CC(=O)OCC', 'children': [], 'rc_type': 'chemical'}], 'rc_type': 'reaction'}], 'rc_type': 'chemical'}], 'rc_type': 'reaction'}], 'rc_type': 'chemical'}, {'smiles': 'http://askcos.mit.edu/draw/smiles/NC(N)=O', 'children': [], 'rc_type': 'chemical'}], 'rc_type': 'reaction'}], 'rc_type': 'chemical'}, {'smiles': 'http://askcos.mit.edu/draw/smiles/COc1ncnc(NS(=O)(=O)c2ccc(N)cc2)c1OC', '_id': 'T40', 'score': '0.997', 'children': [{'smiles': 'http://askcos.mit.edu/draw/smiles/..%5BH%5D%5BH%5D.%5BPd%5D', 'score': '1.000', 'names': '', '_id': 1, 'children': [{'smiles': 'http://askcos.mit.edu/draw/smiles/COc1ncnc(NS(=O)(=O)c2ccc([N+](=O)[O-])cc2)c1OC', 'children': [{'smiles': 'http://askcos.mit.edu/draw/smiles/.CS%28C%29%3DO..', 'score': '0.997', 'names': '', '_id': 2, 'children': [{'smiles': 'http://askcos.mit.edu/draw/smiles/COc1ncnc(Br)c1OC', 'children': [], 'rc_type': 'chemical'}, {'smiles': 'http://askcos.mit.edu/draw/smiles/NS(=O)(=O)c1ccc([N+](=O)[O-])cc1', 'children': [], 'rc_type': 'chemical'}], 'rc_type': 'reaction'}], 'rc_type': 'chemical'}], 'rc_type': 'reaction'}], 'rc_type': 'chemical'}, {'smiles': 'http://askcos.mit.edu/draw/smiles/CN1C(=O)CN=C(c2ccccc2)c2cc(Cl)ccc21', '_id': 'T41', 'score': '0.037', 'children': [{'smiles': 'http://askcos.mit.edu/draw/smiles/.Cc1ccccc1.C%5BO-%5D.%5BNa%2B%5D.', 'score': '0.023', 'names': '', '_id': 1, 'children': [{'smiles': 'http://askcos.mit.edu/draw/smiles/O=C1CN=C(c2ccccc2)c2cc(Cl)ccc2N1', 'children': [{'smiles': 'http://askcos.mit.edu/draw/smiles/..N.', 'score': '1.000', 'names': '', '_id': 2, 'children': [{'smiles': 'http://askcos.mit.edu/draw/smiles/O=C(CBr)Nc1ccc(Cl)cc1C(=O)c1ccccc1', 'children': [{'smiles': 'http://askcos.mit.edu/draw/smiles/.CCOCC.CCN%28CC%29CC.', 'score': '1.000', 'names': '', '_id': 3, 'children': [{'smiles': 'http://askcos.mit.edu/draw/smiles/Nc1ccc(Cl)cc1C(=O)c1ccccc1', 'children': [{'smiles': 'http://askcos.mit.edu/draw/smiles/..Cl.%5BFe%5D', 'score': '0.743', 'names': '', '_id': 4, 'children': [{'smiles': 'http://askcos.mit.edu/draw/smiles/O=C(c1ccccc1)c1cc(Cl)ccc1[N+](=O)[O-]', 'children': [{'smiles': 'http://askcos.mit.edu/draw/smiles/..%5BLi%5DCCCC.', 'score': '0.999', 'names': '', '_id': 5, 'children': [{'smiles': 'http://askcos.mit.edu/draw/smiles/O=C(Cl)c1ccccc1', 'children': [], 'rc_type': 'chemical'}, {'smiles': 'http://askcos.mit.edu/draw/smiles/O=[N+]([O-])c1ccc(Cl)cc1Br', 'children': [], 'rc_type': 'chemical'}], 'rc_type': 'reaction'}], 'rc_type': 'chemical'}], 'rc_type': 'reaction'}], 'rc_type': 'chemical'}, {'smiles': 'http://askcos.mit.edu/draw/smiles/O=C(Br)CBr', 'children': [], 'rc_type': 'chemical'}], 'rc_type': 'reaction'}], 'rc_type': 'chemical'}], 'rc_type': 'reaction'}], 'rc_type': 'chemical'}], 'rc_type': 'reaction'}], 'rc_type': 'chemical'}, {'smiles': 'http://askcos.mit.edu/draw/smiles/CN1CCN(C(c2ccccc2)c2ccccc2)CC1', '_id': 'T42', 'score': '0.938', 'children': [{'smiles': 'http://askcos.mit.edu/draw/smiles/.C1CCOC1.CCN%28CC%29CC.', 'score': '0.995', 'names': '', '_id': 1, 'children': [{'smiles': 'http://askcos.mit.edu/draw/smiles/CI', 'children': [], 'rc_type': 'chemical'}, {'smiles': 'http://askcos.mit.edu/draw/smiles/c1ccc(C(c2ccccc2)N2CCNCC2)cc1', 'children': [{'smiles': 'http://askcos.mit.edu/draw/smiles/.CC%23N.%5BK%2B%5D.%5BI-%5D.O%3DC%28%5BO-%5D%29%5BO-%5D.%5BK%2B%5D.', 'score': '0.950', 'names': '', '_id': 2, 'children': [{'smiles': 'http://askcos.mit.edu/draw/smiles/C1CNCCN1', 'children': [], 'rc_type': 'chemical'}, {'smiles': 'http://askcos.mit.edu/draw/smiles/ClC(c1ccccc1)c1ccccc1', 'children': [{'smiles': 'http://askcos.mit.edu/draw/smiles/..O%3DS%28Cl%29Cl.', 'score': '1.000', 'names': '', '_id': 3, 'children': [{'smiles': 'http://askcos.mit.edu/draw/smiles/OC(c1ccccc1)c1ccccc1', 'children': [{'smiles': '', 'score': '0.992', 'names': '', '_id': 4, 'children': [{'smiles': 'http://askcos.mit.edu/draw/smiles/Br[Mg]c1ccccc1', 'children': [], 'rc_type': 'chemical'}, {'smiles': 'http://askcos.mit.edu/draw/smiles/O=Cc1ccccc1', 'children': [], 'rc_type': 'chemical'}], 'rc_type': 'reaction'}], 'rc_type': 'chemical'}], 'rc_type': 'reaction'}], 'rc_type': 'chemical'}], 'rc_type': 'reaction'}], 'rc_type': 'chemical'}], 'rc_type': 'reaction'}], 'rc_type': 'chemical'}, {'smiles': 'http://askcos.mit.edu/draw/smiles/CCC(CO)NCCNC(CC)CO', '_id': 'T43', 'score': '0.523', 'children': [{'smiles': 'http://askcos.mit.edu/draw/smiles/..%5BBH4-%5D.%5BNa%2B%5D.', 'score': '0.523', 'names': '', '_id': 1, 'children': [{'smiles': 'http://askcos.mit.edu/draw/smiles/CCC(CO)/N=C/CNC(CC)CO', 'children': [], 'rc_type': 'chemical'}], 'rc_type': 'reaction'}], 'rc_type': 'chemical'}, {'smiles': 'http://askcos.mit.edu/draw/smiles/CC(C)N=C(N)N=C(N)Nc1ccc(Cl)cc1', '_id': 'T44', 'score': '0.003', 'children': [{'smiles': 'http://askcos.mit.edu/draw/smiles/.OCCO.%5BK%2B%5D.%5BOH-%5D.', 'score': '0.000', 'names': '', '_id': 1, 'children': [{'smiles': 'http://askcos.mit.edu/draw/smiles/CCOC(=O)NC(=NC(C)C)N=C(NC(=O)OCC)Nc1ccc(Cl)cc1', 'children': [{'smiles': 'http://askcos.mit.edu/draw/smiles/.C1CCOC1..', 'score': '0.981', 'names': '', '_id': 2, 'children': [{'smiles': 'http://askcos.mit.edu/draw/smiles/CCOC(=O)Cl', 'children': [], 'rc_type': 'chemical'}, {'smiles': 'http://askcos.mit.edu/draw/smiles/CCOC(=O)NC(=NC(N)=NC(C)C)Nc1ccc(Cl)cc1', 'children': [{'smiles': 'http://askcos.mit.edu/draw/smiles/.CN%28C%29C%3DO.CC1%3DCC%3DCC%28C%29%3DN1.Cl%5BHg%5DCl', 'score': '0.068', 'names': '', '_id': 3, 'children': [{'smiles': 'http://askcos.mit.edu/draw/smiles/CC(C)N=C(N)N', 'children': [], 'rc_type': 'chemical'}, {'smiles': 'http://askcos.mit.edu/draw/smiles/CCOC(=O)NC(=S)Nc1ccc(Cl)cc1', 'children': [], 'rc_type': 'chemical'}], 'rc_type': 'reaction'}], 'rc_type': 'chemical'}], 'rc_type': 'reaction'}], 'rc_type': 'chemical'}], 'rc_type': 'reaction'}], 'rc_type': 'chemical'}, {'smiles': 'http://askcos.mit.edu/draw/smiles/O=C1CN=C(c2ccccc2Cl)c2cc([N+](=O)[O-])ccc2N1', '_id': 'T45', 'score': '0.995', 'children': [{'smiles': 'http://askcos.mit.edu/draw/smiles/..N.', 'score': '0.998', 'names': '', '_id': 1, 'children': [{'smiles': 'http://askcos.mit.edu/draw/smiles/O=C(CBr)Nc1ccc([N+](=O)[O-])cc1C(=O)c1ccccc1Cl', 'children': [{'smiles': 'http://askcos.mit.edu/draw/smiles/.ClCCl.CCN%28CC%29CC.', 'score': '1.000', 'names': '', '_id': 2, 'children': [{'smiles': 'http://askcos.mit.edu/draw/smiles/Nc1ccc([N+](=O)[O-])cc1C(=O)c1ccccc1Cl', 'children': [{'smiles': 'http://askcos.mit.edu/draw/smiles/.C1COCCO1.N.', 'score': '1.000', 'names': '', '_id': 3, 'children': [{'smiles': 'http://askcos.mit.edu/draw/smiles/O=C(c1cc([N+](=O)[O-])ccc1F)c1ccccc1Cl', 'children': [{'smiles': 'http://askcos.mit.edu/draw/smiles/.CC%28C%29%3DO.O%3DS%28%3DO%29%28O%29O.O%3D%5BCr%5D%28%3DO%29%3DO', 'score': '1.000', 'names': '', '_id': 4, 'children': [{'smiles': 'http://askcos.mit.edu/draw/smiles/O=[N+]([O-])c1ccc(F)c(C(O)c2ccccc2Cl)c1', 'children': [{'smiles': 'http://askcos.mit.edu/draw/smiles/.CCOCC..', 'score': '0.997', 'names': '', '_id': 5, 'children': [{'smiles': 'http://askcos.mit.edu/draw/smiles/O=Cc1ccccc1Cl', 'children': [], 'rc_type': 'chemical'}, {'smiles': 'http://askcos.mit.edu/draw/smiles/O=[N+]([O-])c1ccc(F)c([Mg]Br)c1', 'children': [], 'rc_type': 'chemical'}], 'rc_type': 'reaction'}], 'rc_type': 'chemical'}], 'rc_type': 'reaction'}], 'rc_type': 'chemical'}], 'rc_type': 'reaction'}], 'rc_type': 'chemical'}, {'smiles': 'http://askcos.mit.edu/draw/smiles/O=C(Br)CBr', 'children': [], 'rc_type': 'chemical'}], 'rc_type': 'reaction'}], 'rc_type': 'chemical'}], 'rc_type': 'reaction'}], 'rc_type': 'chemical'}, {'smiles': 'http://askcos.mit.edu/draw/smiles/Cc1cn(C2C=CC(CO)O2)c(=O)[nH]c1=O', '_id': 'T46', 'score': '0.910', 'children': [{'smiles': 'http://askcos.mit.edu/draw/smiles/..%5BBH4-%5D.%5BNa%2B%5D.', 'score': '0.910', 'names': '', '_id': 1, 'children': [{'smiles': 'http://askcos.mit.edu/draw/smiles/Cc1cn(C2C=CC(C=O)O2)c(=O)[nH]c1=O', 'children': [], 'rc_type': 'chemical'}], 'rc_type': 'reaction'}], 'rc_type': 'chemical'}, {'smiles': 'http://askcos.mit.edu/draw/smiles/CCN(CC)CC(=O)Nc1c(C)cccc1C', '_id': 'T47', 'score': '0.969', 'children': [{'smiles': 'http://askcos.mit.edu/draw/smiles/.CCO..', 'score': '0.969', 'names': '', '_id': 1, 'children': [{'smiles': 'http://askcos.mit.edu/draw/smiles/CCN(CC)CC(=O)OC', 'children': [], 'rc_type': 'chemical'}, {'smiles': 'http://askcos.mit.edu/draw/smiles/Cc1cccc(C)c1N', 'children': [], 'rc_type': 'chemical'}], 'rc_type': 'reaction'}], 'rc_type': 'chemical'}, {'smiles': 'http://askcos.mit.edu/draw/smiles/CC1(C)CC1C(=O)NC(=CCCCCSCC(N)C(=O)O)C(=O)O', '_id': 'T48', 'score': '0.145', 'children': [{'smiles': 'http://askcos.mit.edu/draw/smiles/.O.%5BNa%2B%5D.%5BOH-%5D.', 'score': '0.196', 'names': '', '_id': 1, 'children': [{'smiles': 'http://askcos.mit.edu/draw/smiles/CCOC(=O)C(=CCCCCSCC(N)C(=O)O)NC(=O)C1CC1(C)C', 'children': [{'smiles': 'http://askcos.mit.edu/draw/smiles/.CC%23N.O%3DC%28%5BO-%5D%29%5BO-%5D.%5BK%2B%5D.', 'score': '0.947', 'names': '', '_id': 2, 'children': [{'smiles': 'http://askcos.mit.edu/draw/smiles/CCOC(=O)C(=CCCCCBr)NC(=O)C1CC1(C)C', 'children': [{'smiles': 'http://askcos.mit.edu/draw/smiles/..O%3DP%28Cl%29%28Cl%29Cl.', 'score': '0.783', 'names': '', '_id': 3, 'children': [{'smiles': 'http://askcos.mit.edu/draw/smiles/CC1(C)CC1C(=O)O', 'children': [], 'rc_type': 'chemical'}, {'smiles': 'http://askcos.mit.edu/draw/smiles/CCOC(=O)C(N)=CCCCCBr', 'children': [], 'rc_type': 'chemical'}], 'rc_type': 'reaction'}], 'rc_type': 'chemical'}, {'smiles': 'http://askcos.mit.edu/draw/smiles/NC(CS)C(=O)O', 'children': [], 'rc_type': 'chemical'}], 'rc_type': 'reaction'}], 'rc_type': 'chemical'}], 'rc_type': 'reaction'}], 'rc_type': 'chemical'}, {'smiles': 'http://askcos.mit.edu/draw/smiles/CCCSc1ccc2nc(NC(=O)OC)[nH]c2c1', '_id': 'T49', 'score': '0.369', 'children': [{'smiles': 'http://askcos.mit.edu/draw/smiles/.CO.Cc1ccc%28S%28%3DO%29%28%3DO%29O%29cc1.', 'score': '0.369', 'names': '', '_id': 1, 'children': [{'smiles': 'http://askcos.mit.edu/draw/smiles/CCCSc1ccc(N)c(N)c1', 'children': [], 'rc_type': 'chemical'}, {'smiles': 'http://askcos.mit.edu/draw/smiles/COC(=O)N=C(NC(=O)OC)SC', 'children': [], 'rc_type': 'chemical'}], 'rc_type': 'reaction'}], 'rc_type': 'chemical'}, {'smiles': 'http://askcos.mit.edu/draw/smiles/COc1cc(Cc2cnc(N)nc2N)cc(OC)c1OC', '_id': 'T50', 'score': '0.976', 'children': [{'smiles': 'http://askcos.mit.edu/draw/smiles/.OCCO.N.', 'score': '1.000', 'names': '', '_id': 1, 'children': [{'smiles': 'http://askcos.mit.edu/draw/smiles/COc1cc(Cc2cnc(Cl)nc2N)cc(OC)c1OC', 'children': [{'smiles': 'http://askcos.mit.edu/draw/smiles/..N.', 'score': '0.991', 'names': '', '_id': 2, 'children': [{'smiles': 'http://askcos.mit.edu/draw/smiles/COc1cc(Cc2cnc(Cl)nc2Cl)cc(OC)c1OC', 'children': [{'smiles': 'http://askcos.mit.edu/draw/smiles/..O%3DC%28O%29C%28F%29%28F%29F.CC%5BSiH%5D%28CC%29CC.', 'score': '0.992', 'names': '', '_id': 3, 'children': [{'smiles': 'http://askcos.mit.edu/draw/smiles/COc1cc(C(O)c2cnc(Cl)nc2Cl)cc(OC)c1OC', 'children': [{'smiles': 'http://askcos.mit.edu/draw/smiles/.CCOCC.CCOCC.%5BLi%5DCCCC.', 'score': '0.992', 'names': '', '_id': 4, 'children': [{'smiles': 'http://askcos.mit.edu/draw/smiles/COc1cc(C=O)cc(OC)c1OC', 'children': [], 'rc_type': 'chemical'}, {'smiles': 'http://askcos.mit.edu/draw/smiles/Clc1ncc(Br)c(Cl)n1', 'children': [], 'rc_type': 'chemical'}], 'rc_type': 'reaction'}], 'rc_type': 'chemical'}], 'rc_type': 'reaction'}], 'rc_type': 'chemical'}], 'rc_type': 'reaction'}], 'rc_type': 'chemical'}], 'rc_type': 'reaction'}], 'rc_type': 'chemical'}, {'smiles': 'http://askcos.mit.edu/draw/smiles/CCCN(CCC)S(=O)(=O)c1ccc(C(=O)O)cc1', '_id': 'T51', 'score': '0.991', 'children': [{'smiles': 'http://askcos.mit.edu/draw/smiles/.CN%28C%29C%3DO.O%3DC%28%5BO-%5D%29%5BO-%5D.%5BK%2B%5D.', 'score': '0.991', 'names': '', '_id': 1, 'children': [{'smiles': 'http://askcos.mit.edu/draw/smiles/CCCBr', 'children': [], 'rc_type': 'chemical'}, {'smiles': 'http://askcos.mit.edu/draw/smiles/CCCBr', 'children': [], 'rc_type': 'chemical'}, {'smiles': 'http://askcos.mit.edu/draw/smiles/NS(=O)(=O)c1ccc(C(=O)O)cc1', 'children': [], 'rc_type': 'chemical'}], 'rc_type': 'reaction'}], 'rc_type': 'chemical'}, {'smiles': 'http://askcos.mit.edu/draw/smiles/C[N+](C)(C)CCOC(=O)CCC(=O)OCC[N+](C)(C)C', '_id': 'T52', 'score': '0.859', 'children': [{'smiles': 'http://askcos.mit.edu/draw/smiles/.CC%28C%29%3DO..', 'score': '0.859', 'names': '', '_id': 1, 'children': [{'smiles': 'http://askcos.mit.edu/draw/smiles/C[N+](C)(C)CCI', 'children': [], 'rc_type': 'chemical'}, {'smiles': 'http://askcos.mit.edu/draw/smiles/C[N+](C)(C)CCOC(=O)CCC(=O)O', 'children': [], 'rc_type': 'chemical'}], 'rc_type': 'reaction'}], 'rc_type': 'chemical'}, {'smiles': 'http://askcos.mit.edu/draw/smiles/OC(Cn1cncn1)(Cn1cncn1)c1ccc(F)cc1F', '_id': 'T53', 'score': '0.049', 'children': [{'smiles': 'http://askcos.mit.edu/draw/smiles/..%5BH-%5D.%5BNa%2B%5D.', 'score': '0.989', 'names': '', '_id': 1, 'children': [{'smiles': 'http://askcos.mit.edu/draw/smiles/Fc1ccc(C2(Cn3cncn3)CO2)c(F)c1', 'children': [{'smiles': 'http://askcos.mit.edu/draw/smiles/.Cc1ccccc1.%5BNa%2B%5D.%5BOH-%5D.', 'score': '0.000', 'names': '', '_id': 2, 'children': [{'smiles': 'http://askcos.mit.edu/draw/smiles/O=C(Cn1cncn1)c1ccc(F)cc1F', 'children': [], 'rc_type': 'chemical'}], 'rc_type': 'reaction'}], 'rc_type': 'chemical'}, {'smiles': 'http://askcos.mit.edu/draw/smiles/c1nc[nH]n1', 'children': [], 'rc_type': 'chemical'}], 'rc_type': 'reaction'}], 'rc_type': 'chemical'}, {'smiles': 'http://askcos.mit.edu/draw/smiles/CN(C)CCC(c1ccc(Cl)cc1)c1ccccn1', '_id': 'T54', 'score': '0.899', 'children': [{'smiles': 'http://askcos.mit.edu/draw/smiles/..%5BH%5D%5BH%5D.%5BPd%5D', 'score': '0.998', 'names': '', '_id': 1, 'children': [{'smiles': 'http://askcos.mit.edu/draw/smiles/CN(C)C/C=C(\\\\c1ccc(Cl)cc1)c1ccccn1', 'children': [{'smiles': 'http://askcos.mit.edu/draw/smiles/..Cl.', 'score': '0.932', 'names': '', '_id': 2, 'children': [{'smiles': 'http://askcos.mit.edu/draw/smiles/CN(C)CCC(O)(c1ccc(Cl)cc1)c1ccccn1', 'children': [{'smiles': 'http://askcos.mit.edu/draw/smiles/..C1CCOC1.', 'score': '0.998', 'names': '', '_id': 3, 'children': [{'smiles': 'http://askcos.mit.edu/draw/smiles/CN(C)CCC(=O)c1ccc(Cl)cc1', 'children': [{'smiles': 'http://askcos.mit.edu/draw/smiles/.CC%23N..', 'score': '0.968', 'names': '', '_id': 4, 'children': [{'smiles': 'http://askcos.mit.edu/draw/smiles/CNC', 'children': [], 'rc_type': 'chemical'}, {'smiles': 'http://askcos.mit.edu/draw/smiles/O=C(CCCl)c1ccc(Cl)cc1', 'children': [], 'rc_type': 'chemical'}], 'rc_type': 'reaction'}], 'rc_type': 'chemical'}, {'smiles': 'http://askcos.mit.edu/draw/smiles/[Li]c1ccccn1', 'children': [], 'rc_type': 'chemical'}], 'rc_type': 'reaction'}], 'rc_type': 'chemical'}], 'rc_type': 'reaction'}], 'rc_type': 'chemical'}], 'rc_type': 'reaction'}], 'rc_type': 'chemical'}, {'smiles': 'http://askcos.mit.edu/draw/smiles/Cc1ccc(N(CC2=NCCN2)c2cccc(O)c2)cc1', '_id': 'T55', 'score': '0.539', 'children': [{'smiles': 'http://askcos.mit.edu/draw/smiles/.ClCCl.BrB%28Br%29Br.', 'score': '1.000', 'names': '', '_id': 1, 'children': [{'smiles': 'http://askcos.mit.edu/draw/smiles/Cc1ccc(N(CC2=NCCN2)c2cccc(OCc3ccccc3)c2)cc1', 'children': [{'smiles': 'http://askcos.mit.edu/draw/smiles/.CCO..', 'score': '0.647', 'names': '', '_id': 2, 'children': [{'smiles': 'http://askcos.mit.edu/draw/smiles/CCOC(=N)CN(c1ccc(C)cc1)c1cccc(OCc2ccccc2)c1', 'children': [{'smiles': 'http://askcos.mit.edu/draw/smiles/..Cl.', 'score': '0.892', 'names': '', '_id': 3, 'children': [{'smiles': 'http://askcos.mit.edu/draw/smiles/CCO', 'children': [], 'rc_type': 'chemical'}, {'smiles': 'http://askcos.mit.edu/draw/smiles/Cc1ccc(N(CC%23N)c2cccc(OCc3ccccc3)c2)cc1', 'children': [{'smiles': 'http://askcos.mit.edu/draw/smiles/.CN%28C%29C%3DO.%5BH-%5D.%5BNa%2B%5D.', 'score': '0.997', 'names': '', '_id': 4, 'children': [{'smiles': 'http://askcos.mit.edu/draw/smiles/Cc1ccc(Nc2cccc(OCc3ccccc3)c2)cc1', 'children': [{'smiles': 'http://askcos.mit.edu/draw/smiles/.C1CCOC1.c1ccc%28P%28c2ccccc2%29c2ccccc2%29cc1.CC%28C%29OC%28%3DO%29N%3DNC%28%3DO%29OC%28C%29C.', 'score': '0.981', 'names': '', '_id': 5, 'children': [{'smiles': 'http://askcos.mit.edu/draw/smiles/Cc1ccc(N)cc1', 'children': [], 'rc_type': 'chemical'}, {'smiles': 'http://askcos.mit.edu/draw/smiles/Oc1cccc(OCc2ccccc2)c1', 'children': [{'smiles': 'http://askcos.mit.edu/draw/smiles/.CN%28C%29C%3DO.%5BH-%5D.%5BNa%2B%5D.', 'score': '0.954', 'names': '', '_id': 6, 'children': [{'smiles': 'http://askcos.mit.edu/draw/smiles/BrCc1ccccc1', 'children': [], 'rc_type': 'chemical'}, {'smiles': 'http://askcos.mit.edu/draw/smiles/Oc1cccc(O)c1', 'children': [], 'rc_type': 'chemical'}], 'rc_type': 'reaction'}], 'rc_type': 'chemical'}], 'rc_type': 'reaction'}], 'rc_type': 'chemical'}, {'smiles': 'http://askcos.mit.edu/draw/smiles/N%23CCBr', 'children': [], 'rc_type': 'chemical'}], 'rc_type': 'reaction'}], 'rc_type': 'chemical'}], 'rc_type': 'reaction'}], 'rc_type': 'chemical'}, {'smiles': 'http://askcos.mit.edu/draw/smiles/NCCN', 'children': [], 'rc_type': 'chemical'}], 'rc_type': 'reaction'}], 'rc_type': 'chemical'}], 'rc_type': 'reaction'}], 'rc_type': 'chemical'}, {'smiles': 'http://askcos.mit.edu/draw/smiles/Nc1ccc(S(=O)(=O)c2ccc(N)cc2)cc1', '_id': 'T56', 'score': '0.914', 'children': [{'smiles': 'http://askcos.mit.edu/draw/smiles/..O%3D%5BMn%5D%28%3DO%29%28%3DO%29%5BO-%5D.%5BK%2B%5D.', 'score': '0.999', 'names': '', '_id': 1, 'children': [{'smiles': 'http://askcos.mit.edu/draw/smiles/Nc1ccc(S(=O)c2ccc(N)cc2)cc1', 'children': [{'smiles': 'http://askcos.mit.edu/draw/smiles/.CO.O.%5BNa%2B%5D.%5BO-%5D%5BI%2B3%5D%28%5BO-%5D%29%28%5BO-%5D%29%5BO-%5D.', 'score': '1.000', 'names': '', '_id': 2, 'children': [{'smiles': 'http://askcos.mit.edu/draw/smiles/Nc1ccc(Sc2ccc(N)cc2)cc1', 'children': [{'smiles': 'http://askcos.mit.edu/draw/smiles/...%5BCu%5D', 'score': '0.915', 'names': '', '_id': 3, 'children': [{'smiles': 'http://askcos.mit.edu/draw/smiles/Nc1ccc(Br)cc1', 'children': [], 'rc_type': 'chemical'}, {'smiles': 'http://askcos.mit.edu/draw/smiles/Nc1ccc([S-])cc1', 'children': [], 'rc_type': 'chemical'}], 'rc_type': 'reaction'}], 'rc_type': 'chemical'}], 'rc_type': 'reaction'}], 'rc_type': 'chemical'}], 'rc_type': 'reaction'}], 'rc_type': 'chemical'}, {'smiles': 'http://askcos.mit.edu/draw/smiles/CN(C)C(=O)Oc1cccc([N+](C)(C)C)c1', '_id': 'T57', 'score': '0.991', 'children': [{'smiles': 'http://askcos.mit.edu/draw/smiles/..c1ccccc1.', 'score': '0.991', 'names': '', '_id': 1, 'children': [{'smiles': 'http://askcos.mit.edu/draw/smiles/CNC', 'children': [], 'rc_type': 'chemical'}, {'smiles': 'http://askcos.mit.edu/draw/smiles/C[N+](C)(C)c1cccc(OC(=O)Cl)c1', 'children': [], 'rc_type': 'chemical'}], 'rc_type': 'reaction'}], 'rc_type': 'chemical'}, {'smiles': 'http://askcos.mit.edu/draw/smiles/O=C1OC2(c3ccc(O)cc3Oc3cc(O)ccc32)c2ccccc21', '_id': 'T58', 'score': '0.016', 'children': [{'smiles': 'http://askcos.mit.edu/draw/smiles/.ClCCl.O%3DC%28O%29C%28F%29%28F%29F.', 'score': '0.350', 'names': '', '_id': 1, 'children': [{'smiles': 'http://askcos.mit.edu/draw/smiles/CC(C)(C)[Si](C)(C)Oc1ccc2c(c1)Oc1cc(O)ccc1C21OC(=O)c2ccccc21', 'children': [{'smiles': 'http://askcos.mit.edu/draw/smiles/.CCOC%28C%29%3DO.%5BH%5D%5BH%5D.%5BPd%5D', 'score': '1.000', 'names': '', '_id': 2, 'children': [{'smiles': 'http://askcos.mit.edu/draw/smiles/CC(C)(C)[Si](C)(C)Oc1ccc2c(c1)Oc1cc(OCc3ccccc3)ccc1C21OC(=O)c2ccccc21', 'children': [{'smiles': 'http://askcos.mit.edu/draw/smiles/.C1CCOC1.CCN%28CC%29CC.', 'score': '1.000', 'names': '', '_id': 3, 'children': [{'smiles': 'http://askcos.mit.edu/draw/smiles/CC(C)(C)[Si](C)(C)OS(=O)(=O)C(F)(F)F', 'children': [], 'rc_type': 'chemical'}, {'smiles': 'http://askcos.mit.edu/draw/smiles/O=C1OC2(c3ccc(O)cc3Oc3cc(OCc4ccccc4)ccc32)c2ccccc21', 'children': [{'smiles': 'http://askcos.mit.edu/draw/smiles/..O%3DS%28%3DO%29%28O%29O.', 'score': '0.000', 'names': '', '_id': 4, 'children': [{'smiles': 'http://askcos.mit.edu/draw/smiles/O=C(O)c1ccccc1C(=O)c1ccc(O)cc1O', 'children': [{'smiles': 'http://askcos.mit.edu/draw/smiles/...%5BCl-%5D.%5BCl-%5D.%5BZn%2B%2B%5D', 'score': '0.955', 'names': '', '_id': 5, 'children': [{'smiles': 'http://askcos.mit.edu/draw/smiles/O=C1OC(=O)c2ccccc21', 'children': [], 'rc_type': 'chemical'}, {'smiles': 'http://askcos.mit.edu/draw/smiles/Oc1cccc(O)c1', 'children': [], 'rc_type': 'chemical'}], 'rc_type': 'reaction'}], 'rc_type': 'chemical'}, {'smiles': 'http://askcos.mit.edu/draw/smiles/Oc1cccc(OCc2ccccc2)c1', 'children': [{'smiles': 'http://askcos.mit.edu/draw/smiles/.CN%28C%29C%3DO.%5BH-%5D.%5BNa%2B%5D.', 'score': '0.954', 'names': '', '_id': 5, 'children': [{'smiles': 'http://askcos.mit.edu/draw/smiles/BrCc1ccccc1', 'children': [], 'rc_type': 'chemical'}, {'smiles': 'http://askcos.mit.edu/draw/smiles/Oc1cccc(O)c1', 'children': [], 'rc_type': 'chemical'}], 'rc_type': 'reaction'}], 'rc_type': 'chemical'}], 'rc_type': 'reaction'}], 'rc_type': 'chemical'}], 'rc_type': 'reaction'}], 'rc_type': 'chemical'}], 'rc_type': 'reaction'}], 'rc_type': 'chemical'}], 'rc_type': 'reaction'}], 'rc_type': 'chemical'}, {'smiles': 'http://askcos.mit.edu/draw/smiles/CCCCNc1ccc(C(=O)OCCN(C)C)cc1', '_id': 'T59', 'score': '0.981', 'children': [{'smiles': 'http://askcos.mit.edu/draw/smiles/..c1ccccc1.', 'score': '0.991', 'names': '', '_id': 1, 'children': [{'smiles': 'http://askcos.mit.edu/draw/smiles/CCCCNc1ccc(C(=O)OCCCl)cc1', 'children': [{'smiles': '', 'score': '0.990', 'names': '', '_id': 2, 'children': [{'smiles': 'http://askcos.mit.edu/draw/smiles/CCCCBr', 'children': [], 'rc_type': 'chemical'}, {'smiles': 'http://askcos.mit.edu/draw/smiles/Nc1ccc(C(=O)OCCCl)cc1', 'children': [], 'rc_type': 'chemical'}], 'rc_type': 'reaction'}], 'rc_type': 'chemical'}, {'smiles': 'http://askcos.mit.edu/draw/smiles/CNC', 'children': [], 'rc_type': 'chemical'}], 'rc_type': 'reaction'}], 'rc_type': 'chemical'}, {'smiles': 'http://askcos.mit.edu/draw/smiles/CCN(CC)C(=O)N1CCN(C)CC1', '_id': 'T60', 'score': '1.000', 'children': [{'smiles': 'http://askcos.mit.edu/draw/smiles/.ClCCl.ClCCl.CCN%28CC%29CC.', 'score': '1.000', 'names': '', '_id': 1, 'children': [{'smiles': 'http://askcos.mit.edu/draw/smiles/CCNCC', 'children': [], 'rc_type': 'chemical'}, {'smiles': 'http://askcos.mit.edu/draw/smiles/CN1CCNCC1', 'children': [], 'rc_type': 'chemical'}, {'smiles': 'http://askcos.mit.edu/draw/smiles/O=C(OC(Cl)(Cl)Cl)OC(Cl)(Cl)Cl', 'children': [], 'rc_type': 'chemical'}], 'rc_type': 'reaction'}], 'rc_type': 'chemical'}, {'smiles': 'http://askcos.mit.edu/draw/smiles/C=CC1=C(C(=O)O)N2C(=O)C(NC(=O)C(=NOCC(=O)O)c3csc(N)n3)C2SC1', '_id': 'T61', 'score': '0.288', 'children': [{'smiles': 'http://askcos.mit.edu/draw/smiles/.O.Cl.', 'score': '0.986', 'names': '', '_id': 1, 'children': [{'smiles': 'http://askcos.mit.edu/draw/smiles/C=CC1=C(C(=O)O)N2C(=O)C(NC(=O)C(=NOCC(=O)OC)c3csc(N)n3)C2SC1', 'children': [{'smiles': 'http://askcos.mit.edu/draw/smiles/..CC%28%3DO%29O.', 'score': '0.518', 'names': '', '_id': 2, 'children': [{'smiles': 'http://askcos.mit.edu/draw/smiles/C=CC1=C(C(=O)O)N2C(=O)C(NC(=O)C(=NOCC(=O)OC)c3csc(NC=O)n3)C2SC1', 'children': [{'smiles': 'http://askcos.mit.edu/draw/smiles/.CCOC%28C%29%3DO.CN%28C%29C%3DO.O%3DC%28Cl%29C%28%3DO%29Cl.', 'score': '1.000', 'names': '', '_id': 3, 'children': [{'smiles': 'http://askcos.mit.edu/draw/smiles/C=CC1=C(C(=O)O)N2C(=O)C(N)C2SC1', 'children': [], 'rc_type': 'chemical'}, {'smiles': 'http://askcos.mit.edu/draw/smiles/COC(=O)CON=C(C(=O)O)c1csc(NC=O)n1', 'children': [{'smiles': 'http://askcos.mit.edu/draw/smiles/.CO.%5BNa%2B%5D.%5BOH-%5D.', 'score': '0.659', 'names': '', '_id': 4, 'children': [{'smiles': 'http://askcos.mit.edu/draw/smiles/CCOC(=O)C(=NOCC(=O)OC)c1csc(NC=O)n1', 'children': [{'smiles': 'http://askcos.mit.edu/draw/smiles/..O%3DS%28Cl%29Cl.', 'score': '0.999', 'names': '', '_id': 5, 'children': [{'smiles': 'http://askcos.mit.edu/draw/smiles/CCOC(=O)C(=NOCC(=O)O)c1csc(NC=O)n1', 'children': [{'smiles': 'http://askcos.mit.edu/draw/smiles/.ClCCl.O%3DC%28O%29C%28F%29%28F%29F.', 'score': '1.000', 'names': '', '_id': 6, 'children': [{'smiles': 'http://askcos.mit.edu/draw/smiles/CCOC(=O)C(=NOCC(=O)OC(C)(C)C)c1csc(NC=O)n1', 'children': [{'smiles': 'http://askcos.mit.edu/draw/smiles/.CN%28C%29C%3DO.O%3DC%28%5BO-%5D%29%5BO-%5D.%5BK%2B%5D.', 'score': '0.998', 'names': '', '_id': 7, 'children': [{'smiles': 'http://askcos.mit.edu/draw/smiles/CC(C)(C)OC(=O)CON=C(C(=O)O)c1csc(NC=O)n1', 'children': [{'smiles': 'http://askcos.mit.edu/draw/smiles/.ClCCl.CC%28%3DO%29OC%28C%29%3DO.O%3DCO.', 'score': '0.862', 'names': '', '_id': 8, 'children': [{'smiles': 'http://askcos.mit.edu/draw/smiles/CC(C)(C)OC(=O)CON=C(C(=O)O)c1csc(N)n1', 'children': [{'smiles': 'http://askcos.mit.edu/draw/smiles/.CO.%5BNa%2B%5D.%5BOH-%5D.', 'score': '0.999', 'names': '', '_id': 9, 'children': [{'smiles': 'http://askcos.mit.edu/draw/smiles/CCOC(=O)C(=NOCC(=O)OC(C)(C)C)c1csc(N)n1', 'children': [{'smiles': 'http://askcos.mit.edu/draw/smiles/.CC%28C%29%3DO.O%3DC%28%5BO-%5D%29%5BO-%5D.%5BK%2B%5D.', 'score': '0.998', 'names': '', '_id': 10, 'children': [{'smiles': 'http://askcos.mit.edu/draw/smiles/CC(C)(C)OC(=O)CBr', 'children': [], 'rc_type': 'chemical'}, {'smiles': 'http://askcos.mit.edu/draw/smiles/CCOC(=O)C(=NO)c1csc(N)n1', 'children': [], 'rc_type': 'chemical'}], 'rc_type': 'reaction'}], 'rc_type': 'chemical'}], 'rc_type': 'reaction'}], 'rc_type': 'chemical'}], 'rc_type': 'reaction'}], 'rc_type': 'chemical'}, {'smiles': 'http://askcos.mit.edu/draw/smiles/CCBr', 'children': [], 'rc_type': 'chemical'}], 'rc_type': 'reaction'}], 'rc_type': 'chemical'}], 'rc_type': 'reaction'}], 'rc_type': 'chemical'}, {'smiles': 'http://askcos.mit.edu/draw/smiles/CO', 'children': [], 'rc_type': 'chemical'}], 'rc_type': 'reaction'}], 'rc_type': 'chemical'}], 'rc_type': 'reaction'}], 'rc_type': 'chemical'}], 'rc_type': 'reaction'}], 'rc_type': 'chemical'}], 'rc_type': 'reaction'}], 'rc_type': 'chemical'}], 'rc_type': 'reaction'}], 'rc_type': 'chemical'}, {'smiles': 'http://askcos.mit.edu/draw/smiles/O=C1NC(=O)C(c2ccccc2)(c2ccccc2)N1', '_id': 'T62', 'score': '0.039', 'children': [{'smiles': 'http://askcos.mit.edu/draw/smiles/..%5BK%2B%5D.%5BOH-%5D.', 'score': '0.000', 'names': '', '_id': 1, 'children': [{'smiles': 'http://askcos.mit.edu/draw/smiles/NC(N)=O', 'children': [], 'rc_type': 'chemical'}, {'smiles': 'http://askcos.mit.edu/draw/smiles/O=C(C(=O)c1ccccc1)c1ccccc1', 'children': [{'smiles': 'http://askcos.mit.edu/draw/smiles/..CC%28%3DO%29O.O%3D%5BCr%5D%28%3DO%29%3DO', 'score': '1.000', 'names': '', '_id': 2, 'children': [{'smiles': 'http://askcos.mit.edu/draw/smiles/O=C(c1ccccc1)C(O)c1ccccc1', 'children': [{'smiles': 'http://askcos.mit.edu/draw/smiles/.CO.O..O%3D%5BHg%5D', 'score': '0.867', 'names': '', '_id': 3, 'children': [{'smiles': 'http://askcos.mit.edu/draw/smiles/OC(c1ccccc1)C1(c2ccccc2)SCCCS1', 'children': [{'smiles': 'http://askcos.mit.edu/draw/smiles/.C1CCOC1.C1CCOC1.%5BLi%5DCCCC.', 'score': '0.905', 'names': '', '_id': 4, 'children': [{'smiles': 'http://askcos.mit.edu/draw/smiles/O=Cc1ccccc1', 'children': [], 'rc_type': 'chemical'}, {'smiles': 'http://askcos.mit.edu/draw/smiles/c1ccc(C2SCCCS2)cc1', 'children': [], 'rc_type': 'chemical'}], 'rc_type': 'reaction'}], 'rc_type': 'chemical'}], 'rc_type': 'reaction'}], 'rc_type': 'chemical'}], 'rc_type': 'reaction'}], 'rc_type': 'chemical'}], 'rc_type': 'reaction'}], 'rc_type': 'chemical'}, {'smiles': 'http://askcos.mit.edu/draw/smiles/NC(=O)N1c2ccccc2C=Cc2ccccc21', '_id': 'T63', 'score': '0.906', 'children': [{'smiles': 'http://askcos.mit.edu/draw/smiles/..N.', 'score': '0.999', 'names': '', '_id': 1, 'children': [{'smiles': 'http://askcos.mit.edu/draw/smiles/O=C(Cl)N1c2ccccc2C=Cc2ccccc21', 'children': [{'smiles': 'http://askcos.mit.edu/draw/smiles/.Cc1ccccc1..', 'score': '0.987', 'names': '', '_id': 2, 'children': [{'smiles': 'http://askcos.mit.edu/draw/smiles/C1=Cc2ccccc2Nc2ccccc21', 'children': [{'smiles': 'http://askcos.mit.edu/draw/smiles/.Cc1ccccc1.CC%28C%29%28C%29%5BO-%5D.%5BNa%2B%5D.%5BPd%2B%2B%5D.CC%28%5BO-%5D%29%3DO.CC%28%5BO-%5D%29%3DO', 'score': '0.920', 'names': \" 1,1'-bis-(diphenylphosphino)ferrocene.\", '_id': 3, 'children': [{'smiles': 'http://askcos.mit.edu/draw/smiles/Nc1ccccc1C=Cc1ccccc1Br', 'children': [{'smiles': 'http://askcos.mit.edu/draw/smiles/.CCOC%28C%29%3DO.', 'score': '0.999', 'names': 'Reaxys ID 16474599', '_id': 4, 'children': [{'smiles': 'http://askcos.mit.edu/draw/smiles/O=[N+]([O-])c1ccccc1C=Cc1ccccc1Br', 'children': [{'smiles': 'http://askcos.mit.edu/draw/smiles/.Cc1ccccc1.CCN%28CC%29CC.CC%28%3DO%29%5BO-%5D.%5BPd%2B2%5D', 'score': '0.999', 'names': '', '_id': 5, 'children': [{'smiles': 'http://askcos.mit.edu/draw/smiles/Brc1ccccc1I', 'children': [], 'rc_type': 'chemical'}, {'smiles': 'http://askcos.mit.edu/draw/smiles/C=Cc1ccccc1[N+](=O)[O-]', 'children': [], 'rc_type': 'chemical'}], 'rc_type': 'reaction'}], 'rc_type': 'chemical'}], 'rc_type': 'reaction'}], 'rc_type': 'chemical'}], 'rc_type': 'reaction'}], 'rc_type': 'chemical'}, {'smiles': 'http://askcos.mit.edu/draw/smiles/O=C(Cl)Cl', 'children': [], 'rc_type': 'chemical'}], 'rc_type': 'reaction'}], 'rc_type': 'chemical'}], 'rc_type': 'reaction'}], 'rc_type': 'chemical'}, {'smiles': 'http://askcos.mit.edu/draw/smiles/CCOC(=O)C1=C(COCCN)NC(C)=C(C(=O)OC)C1c1ccccc1Cl', '_id': 'T64', 'score': '0.050', 'children': [{'smiles': 'http://askcos.mit.edu/draw/smiles/.CCOC%28C%29%3DO.%5BH%5D%5BH%5D.%5BPd%5D', 'score': '1.000', 'names': '', '_id': 1, 'children': [{'smiles': 'http://askcos.mit.edu/draw/smiles/CCOC(=O)C1=C(COCCN=[N+]=[N-])NC(C)=C(C(=O)OC)C1c1ccccc1Cl', 'children': [{'smiles': 'http://askcos.mit.edu/draw/smiles/.CO..', 'score': '0.000', 'names': '', '_id': 2, 'children': [{'smiles': 'http://askcos.mit.edu/draw/smiles/CCOC(=O)CC(=O)COCCN=[N+]=[N-]', 'children': [], 'rc_type': 'chemical'}, {'smiles': 'http://askcos.mit.edu/draw/smiles/COC(=O)/C=C(\\\\C)N', 'children': [], 'rc_type': 'chemical'}, {'smiles': 'http://askcos.mit.edu/draw/smiles/O=Cc1ccccc1Cl', 'children': [], 'rc_type': 'chemical'}], 'rc_type': 'reaction'}], 'rc_type': 'chemical'}], 'rc_type': 'reaction'}], 'rc_type': 'chemical'}, {'smiles': 'http://askcos.mit.edu/draw/smiles/O=C(O)C1=CC(=NNc2ccc(S(=O)(=O)Nc3ccccn3)cc2)C=CC1=O', '_id': 'T65', 'score': '0.981', 'children': [{'smiles': 'http://askcos.mit.edu/draw/smiles/.C1COCCO1.%5BNa%2B%5D.%5BOH-%5D.', 'score': '0.994', 'names': '', '_id': 1, 'children': [{'smiles': 'http://askcos.mit.edu/draw/smiles/COC(=O)C1=CC(=NNc2ccc(S(=O)(=O)Nc3ccccn3)cc2)C=CC1=O', 'children': [{'smiles': 'http://askcos.mit.edu/draw/smiles/.ClCCl.CCN%28CC%29CC.', 'score': '1.000', 'names': '', '_id': 2, 'children': [{'smiles': 'http://askcos.mit.edu/draw/smiles/COC(=O)C1=CC(=NNc2ccc(S(=O)(=O)Cl)cc2)C=CC1=O', 'children': [{'smiles': 'http://askcos.mit.edu/draw/smiles/..O%3DS%28Cl%29Cl.CN%28C%29C%3DO', 'score': '0.997', 'names': '', '_id': 3, 'children': [{'smiles': 'http://askcos.mit.edu/draw/smiles/COC(=O)C1=CC(=NNc2ccc(S(=O)(=O)[O-])cc2)C=CC1=O', 'children': [{'smiles': 'http://askcos.mit.edu/draw/smiles/..O.', 'score': '0.990', 'names': '', '_id': 4, 'children': [{'smiles': 'http://askcos.mit.edu/draw/smiles/COC(=O)C1=CC(=O)C=CC1=O', 'children': [], 'rc_type': 'chemical'}, {'smiles': 'http://askcos.mit.edu/draw/smiles/NNc1ccc(S(=O)(=O)[O-])cc1', 'children': [], 'rc_type': 'chemical'}], 'rc_type': 'reaction'}], 'rc_type': 'chemical'}], 'rc_type': 'reaction'}], 'rc_type': 'chemical'}, {'smiles': 'http://askcos.mit.edu/draw/smiles/Nc1ccccn1', 'children': [], 'rc_type': 'chemical'}], 'rc_type': 'reaction'}], 'rc_type': 'chemical'}], 'rc_type': 'reaction'}], 'rc_type': 'chemical'}, {'smiles': 'http://askcos.mit.edu/draw/smiles/O=C(NC(CO)C(O)c1ccc([N+](=O)[O-])cc1)C(Cl)Cl', '_id': 'T66', 'score': '0.999', 'children': [{'smiles': 'http://askcos.mit.edu/draw/smiles/..c1ccncc1.', 'score': '0.999', 'names': '', '_id': 1, 'children': [{'smiles': 'http://askcos.mit.edu/draw/smiles/NC(CO)C(O)c1ccc([N+](=O)[O-])cc1', 'children': [], 'rc_type': 'chemical'}, {'smiles': 'http://askcos.mit.edu/draw/smiles/O=C(Cl)C(Cl)Cl', 'children': [], 'rc_type': 'chemical'}], 'rc_type': 'reaction'}], 'rc_type': 'chemical'}, {'smiles': 'http://askcos.mit.edu/draw/smiles/CC(CN1c2ccccc2Sc2ccccc21)N(C)C', '_id': 'T67', 'score': '0.302', 'children': [{'smiles': 'http://askcos.mit.edu/draw/smiles/..Cc1ccccc1C.%5BH%5D%5BN-%5D%5BH%5D.%5BNa%2B%5D.', 'score': '0.982', 'names': '', '_id': 1, 'children': [{'smiles': 'http://askcos.mit.edu/draw/smiles/CC(CCl)N(C)C', 'children': [], 'rc_type': 'chemical'}, {'smiles': 'http://askcos.mit.edu/draw/smiles/c1ccc2c(c1)Nc1ccccc1S2', 'children': [{'smiles': 'http://askcos.mit.edu/draw/smiles/...%5BCu%5D', 'score': '0.308', 'names': '', '_id': 2, 'children': [{'smiles': 'http://askcos.mit.edu/draw/smiles/Nc1ccccc1Sc1ccccc1Br', 'children': [{'smiles': 'http://askcos.mit.edu/draw/smiles/.CCO.O.Cl.%5BFe%5D', 'score': '1.000', 'names': '', '_id': 3, 'children': [{'smiles': 'http://askcos.mit.edu/draw/smiles/O=[N+]([O-])c1ccccc1Sc1ccccc1Br', 'children': [{'smiles': 'http://askcos.mit.edu/draw/smiles/.CN%28C%29C%3DO.O%3DC%28%5BO-%5D%29%5BO-%5D.%5BK%2B%5D.', 'score': '1.000', 'names': '', '_id': 4, 'children': [{'smiles': 'http://askcos.mit.edu/draw/smiles/Brc1ccccc1I', 'children': [], 'rc_type': 'chemical'}, {'smiles': 'http://askcos.mit.edu/draw/smiles/O=[N+]([O-])c1ccccc1S', 'children': [], 'rc_type': 'chemical'}], 'rc_type': 'reaction'}], 'rc_type': 'chemical'}], 'rc_type': 'reaction'}], 'rc_type': 'chemical'}], 'rc_type': 'reaction'}], 'rc_type': 'chemical'}], 'rc_type': 'reaction'}], 'rc_type': 'chemical'}, {'smiles': 'http://askcos.mit.edu/draw/smiles/CC(C)NCC(O)c1ccc(O)c(O)c1', '_id': 'T68', 'score': '0.712', 'children': [{'smiles': 'http://askcos.mit.edu/draw/smiles/..%5BH%5D%5BH%5D.%5BPd%5D', 'score': '1.000', 'names': '', '_id': 1, 'children': [{'smiles': 'http://askcos.mit.edu/draw/smiles/CC(C)NCC(O)c1ccc(OCc2ccccc2)c(O)c1', 'children': [{'smiles': 'http://askcos.mit.edu/draw/smiles/.CO..', 'score': '0.999', 'names': '', '_id': 2, 'children': [{'smiles': 'http://askcos.mit.edu/draw/smiles/CC(C)N', 'children': [], 'rc_type': 'chemical'}, {'smiles': 'http://askcos.mit.edu/draw/smiles/Oc1cc(C2CO2)ccc1OCc1ccccc1', 'children': [{'smiles': 'http://askcos.mit.edu/draw/smiles/.ClCCl.O%3DC%28OO%29c1cccc%28Cl%29c1.', 'score': '0.871', 'names': '', '_id': 3, 'children': [{'smiles': 'http://askcos.mit.edu/draw/smiles/C=Cc1ccc(OCc2ccccc2)c(O)c1', 'children': [{'smiles': 'http://askcos.mit.edu/draw/smiles/.CC%28C%29%3DO.%5BNa%2B%5D.%5BI-%5D.O%3DC%28%5BO-%5D%29%5BO-%5D.%5BK%2B%5D.', 'score': '0.818', 'names': '', '_id': 4, 'children': [{'smiles': 'http://askcos.mit.edu/draw/smiles/BrCc1ccccc1', 'children': [], 'rc_type': 'chemical'}, {'smiles': 'http://askcos.mit.edu/draw/smiles/C=Cc1ccc(O)c(O)c1', 'children': [], 'rc_type': 'chemical'}], 'rc_type': 'reaction'}], 'rc_type': 'chemical'}], 'rc_type': 'reaction'}], 'rc_type': 'chemical'}], 'rc_type': 'reaction'}], 'rc_type': 'chemical'}], 'rc_type': 'reaction'}], 'rc_type': 'chemical'}, {'smiles': 'http://askcos.mit.edu/draw/smiles/CCN(CCO)CCCC(C)Nc1ccnc2cc(Cl)ccc12', '_id': 'T69', 'score': '0.948', 'children': [{'smiles': 'http://askcos.mit.edu/draw/smiles/..CN1CCCC1%3DO.', 'score': '0.948', 'names': '', '_id': 1, 'children': [{'smiles': 'http://askcos.mit.edu/draw/smiles/CCN(CCO)CCCC(C)N', 'children': [], 'rc_type': 'chemical'}, {'smiles': 'http://askcos.mit.edu/draw/smiles/Clc1ccc2c(Oc3ccccc3)ccnc2c1', 'children': [{'smiles': 'http://askcos.mit.edu/draw/smiles/.CN%28C%29C%3DO.O%3DC%28%5BO-%5D%29%5BO-%5D.%5BCs%2B%5D.', 'score': '1.000', 'names': '', '_id': 2, 'children': [{'smiles': 'http://askcos.mit.edu/draw/smiles/Clc1ccc2c(Cl)ccnc2c1', 'children': [], 'rc_type': 'chemical'}, {'smiles': 'http://askcos.mit.edu/draw/smiles/Oc1ccccc1', 'children': [], 'rc_type': 'chemical'}], 'rc_type': 'reaction'}], 'rc_type': 'chemical'}], 'rc_type': 'reaction'}], 'rc_type': 'chemical'}, {'smiles': 'http://askcos.mit.edu/draw/smiles/COc1ccc(Cl)cc1C(=O)NCCc1ccc(S(=O)(=O)NC(=O)NC2CCCCC2)cc1', '_id': 'T70', 'score': '0.951', 'children': [{'smiles': 'http://askcos.mit.edu/draw/smiles/.Cc1ccccc1C..', 'score': '0.977', 'names': '', '_id': 1, 'children': [{'smiles': 'http://askcos.mit.edu/draw/smiles/CCOC(=O)NS(=O)(=O)c1ccc(CCNC(=O)c2cc(Cl)ccc2OC)cc1', 'children': [{'smiles': 'http://askcos.mit.edu/draw/smiles/..c1ccncc1.', 'score': '0.993', 'names': '', '_id': 2, 'children': [{'smiles': 'http://askcos.mit.edu/draw/smiles/CCOC(=O)Cl', 'children': [], 'rc_type': 'chemical'}, {'smiles': 'http://askcos.mit.edu/draw/smiles/COc1ccc(Cl)cc1C(=O)NCCc1ccc(S(N)(=O)=O)cc1', 'children': [{'smiles': 'http://askcos.mit.edu/draw/smiles/..N.', 'score': '0.998', 'names': '', '_id': 3, 'children': [{'smiles': 'http://askcos.mit.edu/draw/smiles/COc1ccc(Cl)cc1C(=O)NCCc1ccc(S(=O)(=O)Cl)cc1', 'children': [{'smiles': 'http://askcos.mit.edu/draw/smiles/.C1CCOC1.c1ccncc1.', 'score': '0.982', 'names': '', '_id': 4, 'children': [{'smiles': 'http://askcos.mit.edu/draw/smiles/COc1ccc(Cl)cc1C(=O)Cl', 'children': [], 'rc_type': 'chemical'}, {'smiles': 'http://askcos.mit.edu/draw/smiles/NCCc1ccc(S(=O)(=O)Cl)cc1', 'children': [], 'rc_type': 'chemical'}], 'rc_type': 'reaction'}], 'rc_type': 'chemical'}], 'rc_type': 'reaction'}], 'rc_type': 'chemical'}], 'rc_type': 'reaction'}], 'rc_type': 'chemical'}, {'smiles': 'http://askcos.mit.edu/draw/smiles/NC1CCCCC1', 'children': [], 'rc_type': 'chemical'}], 'rc_type': 'reaction'}], 'rc_type': 'chemical'}, {'smiles': 'http://askcos.mit.edu/draw/smiles/CCCC(C)C1(CC)C(=O)NC(=S)NC1=O', '_id': 'T71', 'score': '0.046', 'children': [{'smiles': 'http://askcos.mit.edu/draw/smiles/..CC%5BO-%5D.%5BNa%2B%5D.', 'score': '0.000', 'names': '', '_id': 1, 'children': [{'smiles': 'http://askcos.mit.edu/draw/smiles/CCCC(C)C(CC)(C(=O)OCC)C(=O)OCC', 'children': [{'smiles': 'http://askcos.mit.edu/draw/smiles/..%5BNaH%5D.', 'score': '0.917', 'names': '', '_id': 2, 'children': [{'smiles': 'http://askcos.mit.edu/draw/smiles/CCBr', 'children': [], 'rc_type': 'chemical'}, {'smiles': 'http://askcos.mit.edu/draw/smiles/CCCC(C)C(C(=O)OCC)C(=O)OCC', 'children': [{'smiles': 'http://askcos.mit.edu/draw/smiles/...O%3DS%28%3DO%29%28O%29O', 'score': '1.000', 'names': '', '_id': 3, 'children': [{'smiles': 'http://askcos.mit.edu/draw/smiles/CCCC(C)C(C%23N)C(=O)OCC', 'children': [], 'rc_type': 'chemical'}, {'smiles': 'http://askcos.mit.edu/draw/smiles/CCO', 'children': [], 'rc_type': 'chemical'}], 'rc_type': 'reaction'}], 'rc_type': 'chemical'}], 'rc_type': 'reaction'}], 'rc_type': 'chemical'}, {'smiles': 'http://askcos.mit.edu/draw/smiles/NC(N)=S', 'children': [], 'rc_type': 'chemical'}], 'rc_type': 'reaction'}], 'rc_type': 'chemical'}, {'smiles': 'http://askcos.mit.edu/draw/smiles/CC1(C)SC2C(NC(=O)Cc3ccccc3)C(=O)N2C1C(=O)O', '_id': 'T72', 'score': '0.998', 'children': [{'smiles': 'http://askcos.mit.edu/draw/smiles/..CCN%28CC%29CC.CCOC%28%3DO%29Cl.', 'score': '0.998', 'names': '', '_id': 1, 'children': [{'smiles': 'http://askcos.mit.edu/draw/smiles/CC1(C)SC2C(N)C(=O)N2C1C(=O)[O-]', 'children': [], 'rc_type': 'chemical'}, {'smiles': 'http://askcos.mit.edu/draw/smiles/O=C(O)Cc1ccccc1', 'children': [], 'rc_type': 'chemical'}], 'rc_type': 'reaction'}], 'rc_type': 'chemical'}, {'smiles': 'http://askcos.mit.edu/draw/smiles/CC(C)(C)NCC(O)COc1nsnc1N1CCOCC1', '_id': 'T73', 'score': '0.989', 'children': [{'smiles': 'http://askcos.mit.edu/draw/smiles/.CCO..', 'score': '0.989', 'names': '', '_id': 1, 'children': [{'smiles': 'http://askcos.mit.edu/draw/smiles/CC(C)(C)N', 'children': [], 'rc_type': 'chemical'}, {'smiles': 'http://askcos.mit.edu/draw/smiles/OC(CCl)COc1nsnc1N1CCOCC1', 'children': [], 'rc_type': 'chemical'}], 'rc_type': 'reaction'}], 'rc_type': 'chemical'}, {'smiles': 'http://askcos.mit.edu/draw/smiles/O=C(O)CCCc1ccc(N(CCCl)CCCl)cc1', '_id': 'T74', 'score': '0.925', 'children': [{'smiles': 'http://askcos.mit.edu/draw/smiles/.ClCCl.O%3DC%28O%29C%28F%29%28F%29F.CC%5BSiH%5D%28CC%29CC.', 'score': '0.989', 'names': '', '_id': 1, 'children': [{'smiles': 'http://askcos.mit.edu/draw/smiles/O=C(O)CCC(=O)c1ccc(N(CCCl)CCCl)cc1', 'children': [{'smiles': 'http://askcos.mit.edu/draw/smiles/..Cl%5BAlH3%5D%28Cl%29Cl.', 'score': '0.936', 'names': '', '_id': 2, 'children': [{'smiles': 'http://askcos.mit.edu/draw/smiles/ClCCN(CCCl)c1ccccc1', 'children': [], 'rc_type': 'chemical'}, {'smiles': 'http://askcos.mit.edu/draw/smiles/O=C1CCC(=O)O1', 'children': [], 'rc_type': 'chemical'}], 'rc_type': 'reaction'}], 'rc_type': 'chemical'}], 'rc_type': 'reaction'}], 'rc_type': 'chemical'}, {'smiles': 'http://askcos.mit.edu/draw/smiles/CCCOC(=O)Cn1cc(I)c(=O)c(I)c1', '_id': 'T75', 'score': '0.996', 'children': [{'smiles': 'http://askcos.mit.edu/draw/smiles/.CN%28C%29C%3DO.CCN%28CC%29CC.', 'score': '0.996', 'names': '', '_id': 1, 'children': [{'smiles': 'http://askcos.mit.edu/draw/smiles/CCCBr', 'children': [], 'rc_type': 'chemical'}, {'smiles': 'http://askcos.mit.edu/draw/smiles/O=C([O-])Cn1cc(I)c(=O)c(I)c1', 'children': [], 'rc_type': 'chemical'}], 'rc_type': 'reaction'}], 'rc_type': 'chemical'}, {'smiles': 'http://askcos.mit.edu/draw/smiles/CC(Cc1ccc(O)c(O)c1)(NN)C(=O)O', '_id': 'T76', 'score': '0.731', 'children': [{'smiles': 'http://askcos.mit.edu/draw/smiles/.CO.%5BH%5D%5BH%5D.%5BPd%5D', 'score': '0.743', 'names': '', '_id': 1, 'children': [{'smiles': 'http://askcos.mit.edu/draw/smiles/CC(Cc1ccc(O)c(O)c1)(NN)C(=O)OCc1ccccc1', 'children': [{'smiles': 'http://askcos.mit.edu/draw/smiles/.C1CCOC1.c1ccncc1.', 'score': '0.983', 'names': '', '_id': 2, 'children': [{'smiles': 'http://askcos.mit.edu/draw/smiles/CC(Cc1ccc(O)c(O)c1)(NN)C(=O)Cl', 'children': [], 'rc_type': 'chemical'}, {'smiles': 'http://askcos.mit.edu/draw/smiles/OCc1ccccc1', 'children': [], 'rc_type': 'chemical'}], 'rc_type': 'reaction'}], 'rc_type': 'chemical'}], 'rc_type': 'reaction'}], 'rc_type': 'chemical'}, {'smiles': 'http://askcos.mit.edu/draw/smiles/Cc1ccnc2c1NC(=O)c1cccnc1N2C1CC1', '_id': 'T77', 'score': '0.113', 'children': [{'smiles': 'http://askcos.mit.edu/draw/smiles/..%5BH%5D%5BH%5D.%5BPd%5D', 'score': '0.945', 'names': '', '_id': 1, 'children': [{'smiles': 'http://askcos.mit.edu/draw/smiles/Cc1cc(Cl)nc2c1NC(=O)c1cccnc1N2C1CC1', 'children': [{'smiles': 'http://askcos.mit.edu/draw/smiles/..%5BH-%5D.%5BNa%2B%5D.', 'score': '0.120', 'names': '', '_id': 2, 'children': [{'smiles': 'http://askcos.mit.edu/draw/smiles/Cc1cc(Cl)nc(NC2CC2)c1NC(=O)c1cccnc1Cl', 'children': [{'smiles': 'http://askcos.mit.edu/draw/smiles/.C1CCOC1.CCN%28C%28C%29C%29C%28C%29C.', 'score': '1.000', 'names': '', '_id': 3, 'children': [{'smiles': 'http://askcos.mit.edu/draw/smiles/Cc1cc(Cl)nc(NC2CC2)c1N', 'children': [], 'rc_type': 'chemical'}, {'smiles': 'http://askcos.mit.edu/draw/smiles/O=C(Cl)c1cccnc1Cl', 'children': [], 'rc_type': 'chemical'}], 'rc_type': 'reaction'}], 'rc_type': 'chemical'}], 'rc_type': 'reaction'}], 'rc_type': 'chemical'}], 'rc_type': 'reaction'}], 'rc_type': 'chemical'}, {'smiles': 'http://askcos.mit.edu/draw/smiles/CC(C)Cc1ccc(C(C)C(=O)O)cc1', '_id': 'T78', 'score': '0.001', 'children': [{'smiles': 'http://askcos.mit.edu/draw/smiles/..%5BNa%2B%5D.%5BOH-%5D.', 'score': '0.996', 'names': '', '_id': 1, 'children': [{'smiles': 'http://askcos.mit.edu/draw/smiles/COC(=O)C(C)c1ccc(CC(C)C)cc1', 'children': [{'smiles': 'http://askcos.mit.edu/draw/smiles/..O%3DS%28%3DO%29%28O%29O.', 'score': '0.021', 'names': '', '_id': 2, 'children': [{'smiles': 'http://askcos.mit.edu/draw/smiles/COC(OC)C(C)c1ccc(CC(C)C)cc1', 'children': [{'smiles': 'http://askcos.mit.edu/draw/smiles/.CN%28C%29C%3DO.%5BH-%5D.%5BNa%2B%5D.', 'score': '0.998', 'names': '', '_id': 3, 'children': [{'smiles': 'http://askcos.mit.edu/draw/smiles/CI', 'children': [], 'rc_type': 'chemical'}, {'smiles': 'http://askcos.mit.edu/draw/smiles/COC(O)C(C)c1ccc(CC(C)C)cc1', 'children': [{'smiles': 'http://askcos.mit.edu/draw/smiles/..%5BK%2B%5D.%5BOH-%5D.', 'score': '0.236', 'names': '', '_id': 4, 'children': [{'smiles': 'http://askcos.mit.edu/draw/smiles/CC(C)Cc1ccc(C(C)C=O)cc1', 'children': [{'smiles': 'http://askcos.mit.edu/draw/smiles/.ClCCl.CS%28C%29%3DO.O%3DC%28Cl%29C%28%3DO%29Cl.', 'score': '0.985', 'names': '', '_id': 5, 'children': [{'smiles': 'http://askcos.mit.edu/draw/smiles/CC(C)Cc1ccc(C(C)CO)cc1', 'children': [{'smiles': 'http://askcos.mit.edu/draw/smiles/..Cl%5BAlH3%5D%28Cl%29Cl.%5BAlH7-%5D.%5BLi%2B%5D.', 'score': '0.302', 'names': '', '_id': 6, 'children': [{'smiles': 'http://askcos.mit.edu/draw/smiles/CC(C)Cc1ccc(C2(C)CO2)cc1', 'children': [{'smiles': 'http://askcos.mit.edu/draw/smiles/..%5BK%2B%5D.%5BOH-%5D.', 'score': '0.248', 'names': '', '_id': 7, 'children': [{'smiles': 'http://askcos.mit.edu/draw/smiles/CC(C)Cc1ccc(C(C)(O)CBr)cc1', 'children': [{'smiles': 'http://askcos.mit.edu/draw/smiles/.C1CCOC1.C1CCOC1.%5BMgH2%5D.', 'score': '0.951', 'names': '', '_id': 8, 'children': [{'smiles': 'http://askcos.mit.edu/draw/smiles/CC(C)Cc1ccc(C(=O)CBr)cc1', 'children': [{'smiles': 'http://askcos.mit.edu/draw/smiles/..Cl%5BAlH3%5D%28Cl%29Cl.', 'score': '0.990', 'names': '', '_id': 9, 'children': [{'smiles': 'http://askcos.mit.edu/draw/smiles/CC(C)Cc1ccccc1', 'children': [], 'rc_type': 'chemical'}, {'smiles': 'http://askcos.mit.edu/draw/smiles/O=C(Br)CBr', 'children': [], 'rc_type': 'chemical'}], 'rc_type': 'reaction'}], 'rc_type': 'chemical'}, {'smiles': 'http://askcos.mit.edu/draw/smiles/CI', 'children': [], 'rc_type': 'chemical'}], 'rc_type': 'reaction'}], 'rc_type': 'chemical'}], 'rc_type': 'reaction'}], 'rc_type': 'chemical'}], 'rc_type': 'reaction'}], 'rc_type': 'chemical'}], 'rc_type': 'reaction'}], 'rc_type': 'chemical'}, {'smiles': 'http://askcos.mit.edu/draw/smiles/CO', 'children': [], 'rc_type': 'chemical'}], 'rc_type': 'reaction'}], 'rc_type': 'chemical'}], 'rc_type': 'reaction'}], 'rc_type': 'chemical'}], 'rc_type': 'reaction'}], 'rc_type': 'chemical'}], 'rc_type': 'reaction'}], 'rc_type': 'chemical'}, {'smiles': 'http://askcos.mit.edu/draw/smiles/CC(C)c1cccc(C(C)C)c1O', '_id': 'T79', 'score': '0.034', 'children': [{'smiles': 'http://askcos.mit.edu/draw/smiles/...%5BCu%5D', 'score': '0.919', 'names': '', '_id': 1, 'children': [{'smiles': 'http://askcos.mit.edu/draw/smiles/CC(C)c1ccc(Br)c(C(C)C)c1O', 'children': [{'smiles': 'http://askcos.mit.edu/draw/smiles/..O%3DC%28O%29C%28F%29%28F%29F.CC%5BSiH%5D%28CC%29CC.', 'score': '0.746', 'names': '', '_id': 2, 'children': [{'smiles': 'http://askcos.mit.edu/draw/smiles/CC(C)c1ccc(Br)c(C(C)(C)O)c1O', 'children': [{'smiles': 'http://askcos.mit.edu/draw/smiles/.C1CCOC1..', 'score': '0.000', 'names': '', '_id': 3, 'children': [{'smiles': 'http://askcos.mit.edu/draw/smiles/COC(=O)c1c(Br)ccc(C(C)C)c1O', 'children': [{'smiles': 'http://askcos.mit.edu/draw/smiles/..O%3DS%28%3DO%29%28O%29O.', 'score': '0.996', 'names': '', '_id': 4, 'children': [{'smiles': 'http://askcos.mit.edu/draw/smiles/CC(C)c1ccc(Br)c(C(=O)O)c1O', 'children': [], 'rc_type': 'chemical'}, {'smiles': 'http://askcos.mit.edu/draw/smiles/CO', 'children': [], 'rc_type': 'chemical'}], 'rc_type': 'reaction'}], 'rc_type': 'chemical'}, {'smiles': 'http://askcos.mit.edu/draw/smiles/C[Mg]I', 'children': [], 'rc_type': 'chemical'}], 'rc_type': 'reaction'}], 'rc_type': 'chemical'}], 'rc_type': 'reaction'}], 'rc_type': 'chemical'}], 'rc_type': 'reaction'}], 'rc_type': 'chemical'}, {'smiles': 'http://askcos.mit.edu/draw/smiles/OC(c1cc(C(F)(F)F)nc2c(C(F)(F)F)cccc12)C1CCCCN1', '_id': 'T80', 'score': '0.014', 'children': [{'smiles': 'http://askcos.mit.edu/draw/smiles/.CCO.%5BNa%2B%5D.%5BOH-%5D.', 'score': '0.854', 'names': '', '_id': 1, 'children': [{'smiles': 'http://askcos.mit.edu/draw/smiles/CC(=O)N1CCCCC1C(O)c1cc(C(F)(F)F)nc2c(C(F)(F)F)cccc12', 'children': [{'smiles': 'http://askcos.mit.edu/draw/smiles/.CCO.%5BBH4-%5D.%5BNa%2B%5D.', 'score': '0.837', 'names': '', '_id': 2, 'children': [{'smiles': 'http://askcos.mit.edu/draw/smiles/CC(=O)N1CCCCC1C(=O)c1cc(C(F)(F)F)nc2c(C(F)(F)F)cccc12', 'children': [{'smiles': 'http://askcos.mit.edu/draw/smiles/.CC%23N..%5BZn%5D', 'score': '0.091', 'names': '', '_id': 3, 'children': [{'smiles': 'http://askcos.mit.edu/draw/smiles/CC(=O)N1CCCCC1C(=O)Cl', 'children': [], 'rc_type': 'chemical'}, {'smiles': 'http://askcos.mit.edu/draw/smiles/FC(F)(F)c1ccc2cccc(C(F)(F)F)c2n1', 'children': [{'smiles': 'http://askcos.mit.edu/draw/smiles/.CC%23N..', 'score': '0.214', 'names': '', '_id': 4, 'children': [{'smiles': 'http://askcos.mit.edu/draw/smiles/CC1(C)O[IH2](C(F)(F)F)c2ccccc21', 'children': [], 'rc_type': 'chemical'}, {'smiles': 'http://askcos.mit.edu/draw/smiles/FC(F)(F)c1cccc2cccnc12', 'children': [], 'rc_type': 'chemical'}], 'rc_type': 'reaction'}], 'rc_type': 'chemical'}], 'rc_type': 'reaction'}], 'rc_type': 'chemical'}], 'rc_type': 'reaction'}], 'rc_type': 'chemical'}], 'rc_type': 'reaction'}], 'rc_type': 'chemical'}, {'smiles': 'http://askcos.mit.edu/draw/smiles/CCc1nc(N)nc(N)c1-c1ccc(Cl)cc1', '_id': 'T81', 'score': '1.000', 'children': [{'smiles': 'http://askcos.mit.edu/draw/smiles/..N.', 'score': '1.000', 'names': '', '_id': 1, 'children': [{'smiles': 'http://askcos.mit.edu/draw/smiles/CCc1nc(N)nc(Cl)c1-c1ccc(Cl)cc1', 'children': [{'smiles': 'http://askcos.mit.edu/draw/smiles/.Cc1ccccc1.CC%28C%29%28C%29P%28C%28C%29%28C%29C%29C%28C%29%28C%29C.O%3DC%28%5BO-%5D%29%5BO-%5D.%5BCs%2B%5D.%5BPd%2B%2B%5D.CC%28%5BO-%5D%29%3DO.CC%28%5BO-%5D%29%3DO', 'score': '1.000', 'names': '', '_id': 2, 'children': [{'smiles': 'http://askcos.mit.edu/draw/smiles/CCc1nc(N)nc(Cl)c1Br', 'children': [], 'rc_type': 'chemical'}, {'smiles': 'http://askcos.mit.edu/draw/smiles/Clc1ccc(Br)cc1', 'children': [], 'rc_type': 'chemical'}], 'rc_type': 'reaction'}], 'rc_type': 'chemical'}], 'rc_type': 'reaction'}], 'rc_type': 'chemical'}, {'smiles': 'http://askcos.mit.edu/draw/smiles/O=C1Nc2ccc(Cl)cc2C(C%23CC2CC2)(C(F)(F)F)O1', '_id': 'T82', 'score': '0.970', 'children': [{'smiles': 'http://askcos.mit.edu/draw/smiles/.C1CCOC1.Cc1ccccc1.CCN%28C%28C%29C%29C%28C%29C.', 'score': '0.997', 'names': '', '_id': 1, 'children': [{'smiles': 'http://askcos.mit.edu/draw/smiles/Nc1ccc(Cl)cc1C(O)(C%23CC1CC1)C(F)(F)F', 'children': [{'smiles': 'http://askcos.mit.edu/draw/smiles/..CC%28%3DO%29O.%5BFe%5D', 'score': '0.988', 'names': '', '_id': 2, 'children': [{'smiles': 'http://askcos.mit.edu/draw/smiles/O=[N+]([O-])c1ccc(Cl)cc1C(O)(C%23CC1CC1)C(F)(F)F', 'children': [{'smiles': 'http://askcos.mit.edu/draw/smiles/.C1CCOC1.C1CCOC1.%5BLi%5DCCCC.', 'score': '0.985', 'names': '', '_id': 3, 'children': [{'smiles': 'http://askcos.mit.edu/draw/smiles/C%23CC1CC1', 'children': [], 'rc_type': 'chemical'}, {'smiles': 'http://askcos.mit.edu/draw/smiles/O=C(c1cc(Cl)ccc1[N+](=O)[O-])C(F)(F)F', 'children': [], 'rc_type': 'chemical'}], 'rc_type': 'reaction'}], 'rc_type': 'chemical'}], 'rc_type': 'reaction'}], 'rc_type': 'chemical'}, {'smiles': 'http://askcos.mit.edu/draw/smiles/O=C(Cl)Cl', 'children': [], 'rc_type': 'chemical'}], 'rc_type': 'reaction'}], 'rc_type': 'chemical'}, {'smiles': 'http://askcos.mit.edu/draw/smiles/COc1cc2c(c(OC)c1OC)-c1ccc(OC)c(=O)cc1C(NC(C)=O)CC2', '_id': 'T83', 'score': '0.003', 'children': [{'smiles': 'http://askcos.mit.edu/draw/smiles/..CC%28%3DO%29OC%28C%29%3DO.', 'score': '0.961', 'names': '', '_id': 1, 'children': [{'smiles': 'http://askcos.mit.edu/draw/smiles/COc1cc2c(c(OC)c1OC)-c1ccc(OC)c(=O)cc1C(N)CC2', 'children': [{'smiles': 'http://askcos.mit.edu/draw/smiles/.CCO.%5BH%5D%5BH%5D.%5BPd%5D', 'score': '0.698', 'names': '', '_id': 2, 'children': [{'smiles': 'http://askcos.mit.edu/draw/smiles/COc1cc2c(c(OC)c1OC)-c1ccc(OC)c(=O)cc1C(NC(C)c1ccccc1)CC2', 'children': [{'smiles': 'http://askcos.mit.edu/draw/smiles/.CO.ClC%28Cl%29Cl.%5BH%5D%5BH%5D.O%3D%5BPt%5D%3DO', 'score': '0.993', 'names': '', '_id': 3, 'children': [{'smiles': 'http://askcos.mit.edu/draw/smiles/CC(N)c1ccccc1', 'children': [], 'rc_type': 'chemical'}, {'smiles': 'http://askcos.mit.edu/draw/smiles/COc1cc2c(c(OC)c1OC)-c1ccc(OC)c(=O)cc1C(=O)CC2', 'children': [{'smiles': 'http://askcos.mit.edu/draw/smiles/..O%3DS%28Cl%29Cl.', 'score': '0.000', 'names': '', '_id': 4, 'children': [{'smiles': 'http://askcos.mit.edu/draw/smiles/COc1cc(CCC(=O)O)c(-c2ccc(OC)c(=O)cc2)c(OC)c1OC', 'children': [{'smiles': 'http://askcos.mit.edu/draw/smiles/..Cl.', 'score': '0.936', 'names': '', '_id': 5, 'children': [{'smiles': 'http://askcos.mit.edu/draw/smiles/CCOC(=O)CCc1cc(OC)c(OC)c(OC)c1-c1ccc(OC)c(=O)cc1', 'children': [{'smiles': 'http://askcos.mit.edu/draw/smiles/.CCO.%5BH%5D%5BH%5D.%5BPd%5D', 'score': '0.999', 'names': '', '_id': 6, 'children': [{'smiles': 'http://askcos.mit.edu/draw/smiles/CCOC(=O)/C=C/c1cc(OC)c(OC)c(OC)c1-c1ccc(OC)c(=O)cc1', 'children': [{'smiles': 'http://askcos.mit.edu/draw/smiles/..O%3DC%28O%29C%28F%29%28F%29F.CC%28%3DO%29%5BO-%5D.%5BPd%2B2%5D', 'score': '0.088', 'names': '', '_id': 7, 'children': [{'smiles': 'http://askcos.mit.edu/draw/smiles/C=CC(=O)OCC', 'children': [], 'rc_type': 'chemical'}, {'smiles': 'http://askcos.mit.edu/draw/smiles/COc1ccc(-c2ccc(OC)c(=O)cc2)c(OC)c1OC', 'children': [{'smiles': 'http://askcos.mit.edu/draw/smiles/.Cc1ccccc1.CCO.c1ccc%28P%28c2ccccc2%29c2ccccc2%29cc1.O%3DC%28%5BO-%5D%29%5BO-%5D.%5BNa%2B%5D.%5BPd%2B%2B%5D.CC%28%5BO-%5D%29%3DO.CC%28%5BO-%5D%29%3DO', 'score': '0.993', 'names': '', '_id': 8, 'children': [{'smiles': 'http://askcos.mit.edu/draw/smiles/COc1ccc(B(O)O)ccc1=O', 'children': [], 'rc_type': 'chemical'}, {'smiles': 'http://askcos.mit.edu/draw/smiles/COc1ccc(Cl)c(OC)c1OC', 'children': [], 'rc_type': 'chemical'}], 'rc_type': 'reaction'}], 'rc_type': 'chemical'}], 'rc_type': 'reaction'}], 'rc_type': 'chemical'}], 'rc_type': 'reaction'}], 'rc_type': 'chemical'}], 'rc_type': 'reaction'}], 'rc_type': 'chemical'}], 'rc_type': 'reaction'}], 'rc_type': 'chemical'}], 'rc_type': 'reaction'}], 'rc_type': 'chemical'}], 'rc_type': 'reaction'}], 'rc_type': 'chemical'}], 'rc_type': 'reaction'}], 'rc_type': 'chemical'}, {'smiles': 'http://askcos.mit.edu/draw/smiles/O=C(OOC(=O)c1ccccc1)c1ccccc1', '_id': 'T84', 'score': '0.000', 'children': [{'smiles': 'http://askcos.mit.edu/draw/smiles/..', 'score': '0.000', 'names': ' sodium peroxide.', '_id': 1, 'children': [{'smiles': 'http://askcos.mit.edu/draw/smiles/O=C(Cl)c1ccccc1', 'children': [], 'rc_type': 'chemical'}, {'smiles': 'http://askcos.mit.edu/draw/smiles/O=C(Cl)c1ccccc1', 'children': [], 'rc_type': 'chemical'}], 'rc_type': 'reaction'}], 'rc_type': 'chemical'}, {'smiles': 'http://askcos.mit.edu/draw/smiles/CC(C)NCC(O)COc1ccc(COCCOC(C)C)cc1', '_id': 'T85', 'score': '0.977', 'children': [{'smiles': 'http://askcos.mit.edu/draw/smiles/.CCO.O%3DC%28%5BO-%5D%29O.%5BNa%2B%5D.', 'score': '1.000', 'names': '', '_id': 1, 'children': [{'smiles': 'http://askcos.mit.edu/draw/smiles/CC(C)N', 'children': [], 'rc_type': 'chemical'}, {'smiles': 'http://askcos.mit.edu/draw/smiles/CC(C)OCCOCc1ccc(OCC(O)CCl)cc1', 'children': [{'smiles': 'http://askcos.mit.edu/draw/smiles/..Cl.', 'score': '0.997', 'names': '', '_id': 2, 'children': [{'smiles': 'http://askcos.mit.edu/draw/smiles/CC(C)OCCOCc1ccc([O-])cc1', 'children': [{'smiles': 'http://askcos.mit.edu/draw/smiles/.CN%28C%29C%3DO..', 'score': '0.980', 'names': '', '_id': 3, 'children': [{'smiles': 'http://askcos.mit.edu/draw/smiles/CC(C)O', 'children': [], 'rc_type': 'chemical'}, {'smiles': 'http://askcos.mit.edu/draw/smiles/[O-]c1ccc(COCCBr)cc1', 'children': [], 'rc_type': 'chemical'}], 'rc_type': 'reaction'}], 'rc_type': 'chemical'}, {'smiles': 'http://askcos.mit.edu/draw/smiles/OC(CCl)CCl', 'children': [], 'rc_type': 'chemical'}], 'rc_type': 'reaction'}], 'rc_type': 'chemical'}], 'rc_type': 'reaction'}], 'rc_type': 'chemical'}, {'smiles': 'http://askcos.mit.edu/draw/smiles/O=C1Nc2ccc(Cl)cc2C(c2ccccc2Cl)=NC1O', '_id': 'T86', 'score': '0.049', 'children': [{'smiles': 'http://askcos.mit.edu/draw/smiles/.C1CCOC1.CO.%5BNa%2B%5D.%5BOH-%5D.', 'score': '0.000', 'names': '', '_id': 1, 'children': [{'smiles': 'http://askcos.mit.edu/draw/smiles/O=C1CN=C(c2ccccc2Cl)c2cc(Cl)ccc2N1', 'children': [{'smiles': 'http://askcos.mit.edu/draw/smiles/..N.', 'score': '0.999', 'names': '', '_id': 2, 'children': [{'smiles': 'http://askcos.mit.edu/draw/smiles/O=C(CBr)Nc1ccc(Cl)cc1C(=O)c1ccccc1Cl', 'children': [{'smiles': 'http://askcos.mit.edu/draw/smiles/.CCOCC.CCN%28CC%29CC.', 'score': '1.000', 'names': '', '_id': 3, 'children': [{'smiles': 'http://askcos.mit.edu/draw/smiles/Nc1ccc(Cl)cc1C(=O)c1ccccc1Cl', 'children': [{'smiles': 'http://askcos.mit.edu/draw/smiles/.CCO.O.Cl.%5BFe%5D', 'score': '0.991', 'names': '', '_id': 4, 'children': [{'smiles': 'http://askcos.mit.edu/draw/smiles/O=C(c1ccccc1Cl)c1cc(Cl)ccc1[N+](=O)[O-]', 'children': [{'smiles': 'http://askcos.mit.edu/draw/smiles/.CC%28C%29%3DO.O%3DS%28%3DO%29%28O%29O.O%3D%5BCr%5D%28%3DO%29%3DO', 'score': '1.000', 'names': '', '_id': 5, 'children': [{'smiles': 'http://askcos.mit.edu/draw/smiles/O=[N+]([O-])c1ccc(Cl)cc1C(O)c1ccccc1Cl', 'children': [{'smiles': 'http://askcos.mit.edu/draw/smiles/.CCOCC.CCOCC.%5BLi%5DCCCC.', 'score': '0.986', 'names': '', '_id': 6, 'children': [{'smiles': 'http://askcos.mit.edu/draw/smiles/O=Cc1ccccc1Cl', 'children': [], 'rc_type': 'chemical'}, {'smiles': 'http://askcos.mit.edu/draw/smiles/O=[N+]([O-])c1ccc(Cl)cc1Br', 'children': [], 'rc_type': 'chemical'}], 'rc_type': 'reaction'}], 'rc_type': 'chemical'}], 'rc_type': 'reaction'}], 'rc_type': 'chemical'}], 'rc_type': 'reaction'}], 'rc_type': 'chemical'}, {'smiles': 'http://askcos.mit.edu/draw/smiles/O=C(Br)CBr', 'children': [], 'rc_type': 'chemical'}], 'rc_type': 'reaction'}], 'rc_type': 'chemical'}], 'rc_type': 'reaction'}], 'rc_type': 'chemical'}], 'rc_type': 'reaction'}], 'rc_type': 'chemical'}, {'smiles': 'http://askcos.mit.edu/draw/smiles/OC(CCN1CCCCC1)(c1ccccc1)C1CC2C=CC1C2', '_id': 'T87', 'score': '0.135', 'children': [{'smiles': '', 'score': '0.935', 'names': '', '_id': 1, 'children': [{'smiles': 'http://askcos.mit.edu/draw/smiles/OC(CCNCCCCCCl)(c1ccccc1)C1CC2C=CC1C2', 'children': [{'smiles': 'http://askcos.mit.edu/draw/smiles/.CCO.%5BH%5D%5BH%5D.%5BPd%5D', 'score': '0.221', 'names': '', '_id': 2, 'children': [{'smiles': 'http://askcos.mit.edu/draw/smiles/OC(CCN(CCCCCCl)Cc1ccccc1)(c1ccccc1)C1CC2C=CC1C2', 'children': [{'smiles': 'http://askcos.mit.edu/draw/smiles/..%5BMgH2%5D.', 'score': '0.983', 'names': '', '_id': 3, 'children': [{'smiles': 'http://askcos.mit.edu/draw/smiles/ClCCCCCBr', 'children': [], 'rc_type': 'chemical'}, {'smiles': 'http://askcos.mit.edu/draw/smiles/OC(CCNCc1ccccc1)(c1ccccc1)C1CC2C=CC1C2', 'children': [{'smiles': 'http://askcos.mit.edu/draw/smiles/.ClCCl.ClCCl.%5BBH3-%5DC%23N.%5BNa%2B%5D.CC%28%3DO%29O.', 'score': '0.977', 'names': '', '_id': 4, 'children': [{'smiles': 'http://askcos.mit.edu/draw/smiles/NCc1ccccc1', 'children': [], 'rc_type': 'chemical'}, {'smiles': 'http://askcos.mit.edu/draw/smiles/O=CCC(O)(c1ccccc1)C1CC2C=CC1C2', 'children': [{'smiles': 'http://askcos.mit.edu/draw/smiles/.C1CCOC1.O%3DS%28%3DO%29%28O%29O.', 'score': '0.901', 'names': '', '_id': 5, 'children': [{'smiles': 'http://askcos.mit.edu/draw/smiles/COC(CC(O)(c1ccccc1)C1CC2C=CC1C2)OC', 'children': [{'smiles': 'http://askcos.mit.edu/draw/smiles/.CCOCC..', 'score': '0.947', 'names': '', '_id': 6, 'children': [{'smiles': 'http://askcos.mit.edu/draw/smiles/COC(C[Mg]Br)OC', 'children': [], 'rc_type': 'chemical'}, {'smiles': 'http://askcos.mit.edu/draw/smiles/O=C(c1ccccc1)C1CC2C=CC1C2', 'children': [{'smiles': 'http://askcos.mit.edu/draw/smiles/.ClCCl.CC%28%3DO%29OI1%28OC%28C%29%3DO%29%28OC%28C%29%3DO%29OC%28%3DO%29c2ccccc21.', 'score': '0.993', 'names': '', '_id': 7, 'children': [{'smiles': 'http://askcos.mit.edu/draw/smiles/OC(c1ccccc1)C1CC2C=CC1C2', 'children': [{'smiles': 'http://askcos.mit.edu/draw/smiles/.CCOCC.CCOCC.%5BMgH2%5D.', 'score': '0.804', 'names': '', '_id': 8, 'children': [{'smiles': 'http://askcos.mit.edu/draw/smiles/Brc1ccccc1', 'children': [], 'rc_type': 'chemical'}, {'smiles': 'http://askcos.mit.edu/draw/smiles/O=CC1CC2C=CC1C2', 'children': [], 'rc_type': 'chemical'}], 'rc_type': 'reaction'}], 'rc_type': 'chemical'}], 'rc_type': 'reaction'}], 'rc_type': 'chemical'}], 'rc_type': 'reaction'}], 'rc_type': 'chemical'}], 'rc_type': 'reaction'}], 'rc_type': 'chemical'}], 'rc_type': 'reaction'}], 'rc_type': 'chemical'}], 'rc_type': 'reaction'}], 'rc_type': 'chemical'}], 'rc_type': 'reaction'}], 'rc_type': 'chemical'}], 'rc_type': 'reaction'}], 'rc_type': 'chemical'}, {'smiles': 'http://askcos.mit.edu/draw/smiles/O=C(O)c1cc(=O)c2cc(OCC(O)COc3cccc4oc(C(=O)O)cc(=O)c34)ccc2o1', '_id': 'T88', 'score': '0.433', 'children': [{'smiles': 'http://askcos.mit.edu/draw/smiles/..%5BNa%2B%5D.%5BOH-%5D.', 'score': '0.998', 'names': '', '_id': 1, 'children': [{'smiles': 'http://askcos.mit.edu/draw/smiles/COC(=O)c1cc(=O)c2c(OCC(O)COc3ccc4oc(C(=O)O)cc(=O)c4c3)cccc2o1', 'children': [{'smiles': 'http://askcos.mit.edu/draw/smiles/.CO.O.%5BNa%2B%5D.%5BOH-%5D.', 'score': '0.506', 'names': '', '_id': 2, 'children': [{'smiles': 'http://askcos.mit.edu/draw/smiles/CCOC(=O)c1cc(=O)c2cc(OCC(O)COc3cccc4oc(C(=O)OC)cc(=O)c34)ccc2o1', 'children': [{'smiles': 'http://askcos.mit.edu/draw/smiles/.CN%28C%29C%3DO.O%3DC%28%5BO-%5D%29%5BO-%5D.%5BK%2B%5D.', 'score': '0.999', 'names': '', '_id': 3, 'children': [{'smiles': 'http://askcos.mit.edu/draw/smiles/CCOC(=O)c1cc(=O)c2cc(OCC(O)CCl)ccc2o1', 'children': [{'smiles': 'http://askcos.mit.edu/draw/smiles/.Cc1ccccc1.CCN%28CC%29CC.', 'score': '0.889', 'names': '', '_id': 4, 'children': [{'smiles': 'http://askcos.mit.edu/draw/smiles/CCOC(=O)c1cc(=O)c2cc(O)ccc2o1', 'children': [{'smiles': 'http://askcos.mit.edu/draw/smiles/..O%3DS%28Cl%29Cl.', 'score': '0.966', 'names': '', '_id': 5, 'children': [{'smiles': 'http://askcos.mit.edu/draw/smiles/CCO', 'children': [], 'rc_type': 'chemical'}, {'smiles': 'http://askcos.mit.edu/draw/smiles/O=C(O)c1cc(=O)c2cc(O)ccc2o1', 'children': [], 'rc_type': 'chemical'}], 'rc_type': 'reaction'}], 'rc_type': 'chemical'}, {'smiles': 'http://askcos.mit.edu/draw/smiles/OC(CCl)CCl', 'children': [], 'rc_type': 'chemical'}], 'rc_type': 'reaction'}], 'rc_type': 'chemical'}, {'smiles': 'http://askcos.mit.edu/draw/smiles/COC(=O)c1cc(=O)c2c(O)cccc2o1', 'children': [{'smiles': 'http://askcos.mit.edu/draw/smiles/.CO.O%3DS%28%3DO%29%28O%29O.', 'score': '0.998', 'names': '', '_id': 4, 'children': [{'smiles': 'http://askcos.mit.edu/draw/smiles/O=C(O)c1cc(=O)c2c(O)cccc2o1', 'children': [], 'rc_type': 'chemical'}], 'rc_type': 'reaction'}], 'rc_type': 'chemical'}], 'rc_type': 'reaction'}], 'rc_type': 'chemical'}], 'rc_type': 'reaction'}], 'rc_type': 'chemical'}], 'rc_type': 'reaction'}], 'rc_type': 'chemical'}, {'smiles': 'http://askcos.mit.edu/draw/smiles/CCCCN1CCCCC1C(=O)Nc1c(C)cccc1C', '_id': 'T89', 'score': '0.450', 'children': [{'smiles': 'http://askcos.mit.edu/draw/smiles/.Cc1ccccc1.%5BK%2B%5D.%5BI-%5D.', 'score': '0.453', 'names': '', '_id': 1, 'children': [{'smiles': 'http://askcos.mit.edu/draw/smiles/CCCCNC(CCCCI)C(=O)Nc1c(C)cccc1C', 'children': [{'smiles': 'http://askcos.mit.edu/draw/smiles/..%5BNa%2B%5D.%5BI-%5D.', 'score': '0.996', 'names': '', '_id': 2, 'children': [{'smiles': 'http://askcos.mit.edu/draw/smiles/CCCCNC(CCCCBr)C(=O)Nc1c(C)cccc1C', 'children': [{'smiles': 'http://askcos.mit.edu/draw/smiles/.c1ccccc1..', 'score': '0.996', 'names': '', '_id': 3, 'children': [{'smiles': 'http://askcos.mit.edu/draw/smiles/CCCCNC(CCCCBr)C(=O)Cl', 'children': [], 'rc_type': 'chemical'}, {'smiles': 'http://askcos.mit.edu/draw/smiles/Cc1cccc(C)c1N', 'children': [], 'rc_type': 'chemical'}], 'rc_type': 'reaction'}], 'rc_type': 'chemical'}], 'rc_type': 'reaction'}], 'rc_type': 'chemical'}], 'rc_type': 'reaction'}], 'rc_type': 'chemical'}, {'smiles': 'http://askcos.mit.edu/draw/smiles/OCCN1CCN(CCCN2c3ccccc3Sc3ccc(C(F)(F)F)cc32)CC1', '_id': 'T90', 'score': '0.003', 'children': [{'smiles': 'http://askcos.mit.edu/draw/smiles/...%5BZn%5D', 'score': '0.989', 'names': '', '_id': 1, 'children': [{'smiles': 'http://askcos.mit.edu/draw/smiles/OCCN(CCBr)CCNCCCN1c2ccccc2Sc2ccc(C(F)(F)F)cc21', 'children': [{'smiles': 'http://askcos.mit.edu/draw/smiles/.CC%23N.O%3DC%28%5BO-%5D%29%5BO-%5D.%5BK%2B%5D.', 'score': '0.065', 'names': '', '_id': 2, 'children': [{'smiles': 'http://askcos.mit.edu/draw/smiles/FC(F)(F)c1ccc2c(c1)N(CCCCl)c1ccccc1S2', 'children': [{'smiles': 'http://askcos.mit.edu/draw/smiles/..O%3DS%28Cl%29Cl.', 'score': '0.999', 'names': '', '_id': 3, 'children': [{'smiles': 'http://askcos.mit.edu/draw/smiles/OCCCN1c2ccccc2Sc2ccc(C(F)(F)F)cc21', 'children': [{'smiles': 'http://askcos.mit.edu/draw/smiles/..CC%28C%29C%5BAlH4%5DCC%28C%29C.', 'score': '0.961', 'names': '', '_id': 4, 'children': [{'smiles': 'http://askcos.mit.edu/draw/smiles/CCOC(=O)CCN1c2ccccc2Sc2ccc(C(F)(F)F)cc21', 'children': [{'smiles': 'http://askcos.mit.edu/draw/smiles/.c1ccccc1.O%3DS%28%3DO%29%28O%29O.', 'score': '0.894', 'names': '', '_id': 5, 'children': [{'smiles': 'http://askcos.mit.edu/draw/smiles/CCO', 'children': [], 'rc_type': 'chemical'}, {'smiles': 'http://askcos.mit.edu/draw/smiles/O=C(O)CCN1c2ccccc2Sc2ccc(C(F)(F)F)cc21', 'children': [{'smiles': 'http://askcos.mit.edu/draw/smiles/..%5BNa%2B%5D.%5BOH-%5D.', 'score': '0.998', 'names': '', '_id': 6, 'children': [{'smiles': 'http://askcos.mit.edu/draw/smiles/COC(=O)CCN1c2ccccc2Sc2ccc(C(F)(F)F)cc21', 'children': [{'smiles': 'http://askcos.mit.edu/draw/smiles/.C1COCCO1.O%3DS%28%3DO%29%28O%29O.', 'score': '1.000', 'names': '', '_id': 7, 'children': [{'smiles': 'http://askcos.mit.edu/draw/smiles/CO', 'children': [], 'rc_type': 'chemical'}, {'smiles': 'http://askcos.mit.edu/draw/smiles/N%23CCCN1c2ccccc2Sc2ccc(C(F)(F)F)cc21', 'children': [{'smiles': 'http://askcos.mit.edu/draw/smiles/.CS%28C%29%3DO.%5BH-%5D.%5BNa%2B%5D.', 'score': '0.954', 'names': '', '_id': 8, 'children': [{'smiles': 'http://askcos.mit.edu/draw/smiles/FC(F)(F)c1ccc2c(c1)Nc1ccccc1S2', 'children': [{'smiles': 'http://askcos.mit.edu/draw/smiles/..CCOP%28OCC%29OCC.', 'score': '0.000', 'names': '', '_id': 9, 'children': [{'smiles': 'http://askcos.mit.edu/draw/smiles/O=[N+]([O-])c1ccccc1Sc1ccc(C(F)(F)F)cc1', 'children': [{'smiles': 'http://askcos.mit.edu/draw/smiles/.CS%28C%29%3DO.%5BK%2B%5D.%5BOH-%5D.', 'score': '0.999', 'names': '', '_id': 10, 'children': [{'smiles': 'http://askcos.mit.edu/draw/smiles/Fc1ccc(C(F)(F)F)cc1', 'children': [], 'rc_type': 'chemical'}, {'smiles': 'http://askcos.mit.edu/draw/smiles/O=[N+]([O-])c1ccccc1S', 'children': [], 'rc_type': 'chemical'}], 'rc_type': 'reaction'}], 'rc_type': 'chemical'}], 'rc_type': 'reaction'}], 'rc_type': 'chemical'}, {'smiles': 'http://askcos.mit.edu/draw/smiles/N%23CCCBr', 'children': [], 'rc_type': 'chemical'}], 'rc_type': 'reaction'}], 'rc_type': 'chemical'}], 'rc_type': 'reaction'}], 'rc_type': 'chemical'}], 'rc_type': 'reaction'}], 'rc_type': 'chemical'}], 'rc_type': 'reaction'}], 'rc_type': 'chemical'}], 'rc_type': 'reaction'}], 'rc_type': 'chemical'}], 'rc_type': 'reaction'}], 'rc_type': 'chemical'}, {'smiles': 'http://askcos.mit.edu/draw/smiles/NCCN(CCO)CCBr', 'children': [], 'rc_type': 'chemical'}], 'rc_type': 'reaction'}], 'rc_type': 'chemical'}], 'rc_type': 'reaction'}], 'rc_type': 'chemical'}, {'smiles': 'http://askcos.mit.edu/draw/smiles/CCOC(=O)C(CCc1ccccc1)NC(C)C(=O)N1CCCC1C(=O)O', '_id': 'T91', 'score': '0.050', 'children': [{'smiles': 'http://askcos.mit.edu/draw/smiles/.CCO.%5BH%5D%5BH%5D.%5BPd%5D', 'score': '0.999', 'names': '', '_id': 1, 'children': [{'smiles': 'http://askcos.mit.edu/draw/smiles/CCOC(=O)C(CCc1ccccc1)NC(C)C(=O)N1CCCC1C(=O)OCc1ccccc1', 'children': [{'smiles': 'http://askcos.mit.edu/draw/smiles/.ClCCl.CCN%28C%28C%29C%29C%28C%29C.', 'score': '1.000', 'names': '', '_id': 2, 'children': [{'smiles': 'http://askcos.mit.edu/draw/smiles/CCOC(=O)C(CCc1ccccc1)NC(C)C(=O)Cl', 'children': [{'smiles': 'http://askcos.mit.edu/draw/smiles/..ClP%28Cl%29%28Cl%29%28Cl%29Cl.', 'score': '1.000', 'names': '', '_id': 3, 'children': [{'smiles': 'http://askcos.mit.edu/draw/smiles/CCOC(=O)C(CCc1ccccc1)NC(C)C(=O)O', 'children': [{'smiles': 'http://askcos.mit.edu/draw/smiles/..%5BNa%2B%5D.%5BOH-%5D.', 'score': '0.997', 'names': '', '_id': 4, 'children': [{'smiles': 'http://askcos.mit.edu/draw/smiles/CCOC(=O)C(CCc1ccccc1)NC(C)C(=O)OC', 'children': [{'smiles': 'http://askcos.mit.edu/draw/smiles/.CO.%5BH%5D%5BH%5D.O%3D%5BPt%5D%3DO', 'score': '1.000', 'names': '', '_id': 5, 'children': [{'smiles': 'http://askcos.mit.edu/draw/smiles/CCOC(=O)C(CCc1ccccc1)N=C(C)C(=O)OC', 'children': [{'smiles': 'http://askcos.mit.edu/draw/smiles/.CN%28C%29C%3DO.O%3DC%28%5BO-%5D%29%5BO-%5D.%5BK%2B%5D.', 'score': '1.000', 'names': '', '_id': 6, 'children': [{'smiles': 'http://askcos.mit.edu/draw/smiles/CCOC(=O)C(CCc1ccccc1)N=C(C)C(=O)[O-]', 'children': [{'smiles': 'http://askcos.mit.edu/draw/smiles/.CS%28C%29%3DO.O%3DC%28%5BO-%5D%29%5BO-%5D.%5BK%2B%5D.', 'score': '0.000', 'names': '', '_id': 7, 'children': [{'smiles': 'http://askcos.mit.edu/draw/smiles/BrCCc1ccccc1', 'children': [], 'rc_type': 'chemical'}, {'smiles': 'http://askcos.mit.edu/draw/smiles/CCOC(=O)CN=C(C)C(=O)[O-]', 'children': [], 'rc_type': 'chemical'}], 'rc_type': 'reaction'}], 'rc_type': 'chemical'}, {'smiles': 'http://askcos.mit.edu/draw/smiles/CI', 'children': [], 'rc_type': 'chemical'}], 'rc_type': 'reaction'}], 'rc_type': 'chemical'}], 'rc_type': 'reaction'}], 'rc_type': 'chemical'}], 'rc_type': 'reaction'}], 'rc_type': 'chemical'}], 'rc_type': 'reaction'}], 'rc_type': 'chemical'}, {'smiles': 'http://askcos.mit.edu/draw/smiles/O=C(OCc1ccccc1)C1CCCN1', 'children': [{'smiles': 'http://askcos.mit.edu/draw/smiles/.ClCCl.O%3DC%28O%29C%28F%29%28F%29F.', 'score': '0.999', 'names': '', '_id': 3, 'children': [{'smiles': 'http://askcos.mit.edu/draw/smiles/CC(C)(C)OC(=O)N1CCCC1C(=O)OCc1ccccc1', 'children': [{'smiles': 'http://askcos.mit.edu/draw/smiles/.CC%28C%29%3DO.O%3DC%28%5BO-%5D%29%5BO-%5D.%5BK%2B%5D.', 'score': '0.996', 'names': '', '_id': 4, 'children': [{'smiles': 'http://askcos.mit.edu/draw/smiles/BrCc1ccccc1', 'children': [], 'rc_type': 'chemical'}, {'smiles': 'http://askcos.mit.edu/draw/smiles/CC(C)(C)OC(=O)N1CCCC1C(=O)O', 'children': [], 'rc_type': 'chemical'}], 'rc_type': 'reaction'}], 'rc_type': 'chemical'}], 'rc_type': 'reaction'}], 'rc_type': 'chemical'}], 'rc_type': 'reaction'}], 'rc_type': 'chemical'}], 'rc_type': 'reaction'}], 'rc_type': 'chemical'}, {'smiles': 'http://askcos.mit.edu/draw/smiles/O=C(CCCN1CCC(O)(c2ccc(Cl)cc2)CC1)c1ccc(F)cc1', '_id': 'T92', 'score': '0.368', 'children': [{'smiles': 'http://askcos.mit.edu/draw/smiles/.CN%28C%29C%3DO.%5BNa%2B%5D.%5BI-%5D.O%3DC%28%5BO-%5D%29%5BO-%5D.%5BK%2B%5D.', 'score': '1.000', 'names': '', '_id': 1, 'children': [{'smiles': 'http://askcos.mit.edu/draw/smiles/O=C(CCCCl)c1ccc(F)cc1', 'children': [], 'rc_type': 'chemical'}, {'smiles': 'http://askcos.mit.edu/draw/smiles/OC1(c2ccc(Cl)cc2)CCNCC1', 'children': [{'smiles': 'http://askcos.mit.edu/draw/smiles/.CO.%5BH%5D%5BH%5D.%5BPd%5D', 'score': '0.999', 'names': '', '_id': 2, 'children': [{'smiles': 'http://askcos.mit.edu/draw/smiles/OC1(c2ccc(Cl)cc2)CCN(Cc2ccccc2)CC1', 'children': [{'smiles': 'http://askcos.mit.edu/draw/smiles/..%5BLi%5DCCCC.', 'score': '1.000', 'names': '', '_id': 3, 'children': [{'smiles': 'http://askcos.mit.edu/draw/smiles/Clc1ccc(Br)cc1', 'children': [], 'rc_type': 'chemical'}, {'smiles': 'http://askcos.mit.edu/draw/smiles/O=C1CCN(Cc2ccccc2)CC1', 'children': [{'smiles': 'http://askcos.mit.edu/draw/smiles/..Cl.', 'score': '0.488', 'names': '', '_id': 4, 'children': [{'smiles': 'http://askcos.mit.edu/draw/smiles/CCOC(=O)C1CN(Cc2ccccc2)CCC1=O', 'children': [{'smiles': 'http://askcos.mit.edu/draw/smiles/.Cc1ccccc1.%5BNaH%5D.', 'score': '0.772', 'names': '', '_id': 5, 'children': [{'smiles': 'http://askcos.mit.edu/draw/smiles/CCOC(=O)CCN(CCC(=O)OCC)Cc1ccccc1', 'children': [{'smiles': '', 'score': '0.992', 'names': '', '_id': 6, 'children': [{'smiles': 'http://askcos.mit.edu/draw/smiles/C=CC(=O)OCC', 'children': [], 'rc_type': 'chemical'}, {'smiles': 'http://askcos.mit.edu/draw/smiles/CCOC(=O)CCNCc1ccccc1', 'children': [{'smiles': '', 'score': '0.987', 'names': '', '_id': 7, 'children': [{'smiles': 'http://askcos.mit.edu/draw/smiles/C=CC(=O)OCC', 'children': [], 'rc_type': 'chemical'}, {'smiles': 'http://askcos.mit.edu/draw/smiles/NCc1ccccc1', 'children': [], 'rc_type': 'chemical'}], 'rc_type': 'reaction'}], 'rc_type': 'chemical'}], 'rc_type': 'reaction'}], 'rc_type': 'chemical'}], 'rc_type': 'reaction'}], 'rc_type': 'chemical'}], 'rc_type': 'reaction'}], 'rc_type': 'chemical'}], 'rc_type': 'reaction'}], 'rc_type': 'chemical'}], 'rc_type': 'reaction'}], 'rc_type': 'chemical'}], 'rc_type': 'reaction'}], 'rc_type': 'chemical'}, {'smiles': 'http://askcos.mit.edu/draw/smiles/Cc1onc(-c2ccccc2Cl)c1C(=O)NC1C(=O)N2C1SC(C)(C)C2C(=O)O', '_id': 'T93', 'score': '0.037', 'children': [{'smiles': 'http://askcos.mit.edu/draw/smiles/.C1CCOC1.%5BNa%2B%5D.%5BOH-%5D.', 'score': '1.000', 'names': '', '_id': 1, 'children': [{'smiles': 'http://askcos.mit.edu/draw/smiles/COC(=O)C1N2C(=O)C(NC(=O)c3c(-c4ccccc4Cl)noc3C)C2SC1(C)C', 'children': [{'smiles': 'http://askcos.mit.edu/draw/smiles/..%5BH-%5D.%5BNa%2B%5D.', 'score': '1.000', 'names': '', '_id': 2, 'children': [{'smiles': 'http://askcos.mit.edu/draw/smiles/CI', 'children': [], 'rc_type': 'chemical'}, {'smiles': 'http://askcos.mit.edu/draw/smiles/Cc1onc(-c2ccccc2Cl)c1C(=O)NC1C(=O)N2C1SC(C)(C)C2C(=O)[O-]', 'children': [{'smiles': 'http://askcos.mit.edu/draw/smiles/.C1CCOC1.CCN%28CC%29CC.CCOC%28%3DO%29Cl.', 'score': '0.000', 'names': '', '_id': 3, 'children': [{'smiles': 'http://askcos.mit.edu/draw/smiles/CC1(C)SC2C(N)C(=O)N2C1C(=O)[O-]', 'children': [], 'rc_type': 'chemical'}, {'smiles': 'http://askcos.mit.edu/draw/smiles/Cc1onc(-c2ccccc2Cl)c1C(=O)O', 'children': [{'smiles': 'http://askcos.mit.edu/draw/smiles/.CCO.%5BK%2B%5D.%5BOH-%5D.', 'score': '0.976', 'names': '', '_id': 4, 'children': [{'smiles': 'http://askcos.mit.edu/draw/smiles/COC(=O)c1c(-c2ccccc2Cl)noc1C', 'children': [{'smiles': 'http://askcos.mit.edu/draw/smiles/.CCOCC.c1ccncc1.', 'score': '0.750', 'names': '', '_id': 5, 'children': [{'smiles': 'http://askcos.mit.edu/draw/smiles/CC%23CC(=O)OC', 'children': [], 'rc_type': 'chemical'}, {'smiles': 'http://askcos.mit.edu/draw/smiles/ON=C(Cl)c1ccccc1Cl', 'children': [], 'rc_type': 'chemical'}], 'rc_type': 'reaction'}], 'rc_type': 'chemical'}], 'rc_type': 'reaction'}], 'rc_type': 'chemical'}], 'rc_type': 'reaction'}], 'rc_type': 'chemical'}], 'rc_type': 'reaction'}], 'rc_type': 'chemical'}], 'rc_type': 'reaction'}], 'rc_type': 'chemical'}, {'smiles': 'http://askcos.mit.edu/draw/smiles/CN(C)CCCN1c2ccccc2Sc2ccc(Cl)cc21', '_id': 'T94', 'score': '0.031', 'children': [{'smiles': 'http://askcos.mit.edu/draw/smiles/..C1CCOC1.%5BAlH7-%5D.%5BLi%2B%5D.', 'score': '0.707', 'names': '', '_id': 1, 'children': [{'smiles': 'http://askcos.mit.edu/draw/smiles/CN(C)C(=O)CCN1c2ccccc2Sc2ccc(Cl)cc21', 'children': [{'smiles': '', 'score': '0.979', 'names': '', '_id': 2, 'children': [{'smiles': 'http://askcos.mit.edu/draw/smiles/CCOC(=O)CCN1c2ccccc2Sc2ccc(Cl)cc21', 'children': [{'smiles': 'http://askcos.mit.edu/draw/smiles/.CCO..', 'score': '0.926', 'names': '', '_id': 3, 'children': [{'smiles': 'http://askcos.mit.edu/draw/smiles/O=C(O)CCN1c2ccccc2Sc2ccc(Cl)cc21', 'children': [{'smiles': 'http://askcos.mit.edu/draw/smiles/..%5BNa%2B%5D.%5BOH-%5D.', 'score': '0.999', 'names': '', '_id': 4, 'children': [{'smiles': 'http://askcos.mit.edu/draw/smiles/COC(=O)CCN1c2ccccc2Sc2ccc(Cl)cc21', 'children': [{'smiles': 'http://askcos.mit.edu/draw/smiles/.C1COCCO1.O%3DS%28%3DO%29%28O%29O.', 'score': '1.000', 'names': '', '_id': 5, 'children': [{'smiles': 'http://askcos.mit.edu/draw/smiles/CO', 'children': [], 'rc_type': 'chemical'}, {'smiles': 'http://askcos.mit.edu/draw/smiles/N%23CCCN1c2ccccc2Sc2ccc(Cl)cc21', 'children': [{'smiles': 'http://askcos.mit.edu/draw/smiles/.CN%28C%29C%3DO.%5BH-%5D.%5BNa%2B%5D.', 'score': '0.975', 'names': '', '_id': 6, 'children': [{'smiles': 'http://askcos.mit.edu/draw/smiles/Clc1ccc2c(c1)Nc1ccccc1S2', 'children': [{'smiles': 'http://askcos.mit.edu/draw/smiles/..CCOP%28OCC%29OCC.CC%28C%29C1%3DCC%3DCC%3DC1.', 'score': '0.000', 'names': '', '_id': 7, 'children': [{'smiles': 'http://askcos.mit.edu/draw/smiles/O=[N+]([O-])c1ccccc1Sc1ccc(Cl)cc1', 'children': [{'smiles': 'http://askcos.mit.edu/draw/smiles/.CN%28C%29C%3DO.O%3DC%28%5BO-%5D%29%5BO-%5D.%5BK%2B%5D.', 'score': '0.999', 'names': '', '_id': 8, 'children': [{'smiles': 'http://askcos.mit.edu/draw/smiles/Clc1ccc(Br)cc1', 'children': [], 'rc_type': 'chemical'}, {'smiles': 'http://askcos.mit.edu/draw/smiles/O=[N+]([O-])c1ccccc1S', 'children': [], 'rc_type': 'chemical'}], 'rc_type': 'reaction'}], 'rc_type': 'chemical'}], 'rc_type': 'reaction'}], 'rc_type': 'chemical'}, {'smiles': 'http://askcos.mit.edu/draw/smiles/N%23CCCBr', 'children': [], 'rc_type': 'chemical'}], 'rc_type': 'reaction'}], 'rc_type': 'chemical'}], 'rc_type': 'reaction'}], 'rc_type': 'chemical'}], 'rc_type': 'reaction'}], 'rc_type': 'chemical'}], 'rc_type': 'reaction'}], 'rc_type': 'chemical'}, {'smiles': 'http://askcos.mit.edu/draw/smiles/CNC', 'children': [], 'rc_type': 'chemical'}], 'rc_type': 'reaction'}], 'rc_type': 'chemical'}], 'rc_type': 'reaction'}], 'rc_type': 'chemical'}, {'smiles': 'http://askcos.mit.edu/draw/smiles/Cc1cc2nc3c(=O)[nH]c(=O)nc-3n(CC(O)C(O)C(O)CO)c2cc1C', '_id': 'T95', 'score': '0.050', 'children': [{'smiles': 'http://askcos.mit.edu/draw/smiles/..OB%28O%29O.CC%28%3DO%29O.', 'score': '0.000', 'names': '', '_id': 1, 'children': [{'smiles': 'http://askcos.mit.edu/draw/smiles/Cc1cc(N)c(NCC(O)C(O)C(O)CO)cc1C', 'children': [{'smiles': 'http://askcos.mit.edu/draw/smiles/..%5BH%5D%5BH%5D.%5BPd%5D', 'score': '1.000', 'names': '', '_id': 2, 'children': [{'smiles': 'http://askcos.mit.edu/draw/smiles/Cc1cc(NCC(O)C(O)C(O)CO)c([N+](=O)[O-])cc1C', 'children': [{'smiles': 'http://askcos.mit.edu/draw/smiles/..CCN%28C%28C%29C%29C%28C%29C.', 'score': '0.994', 'names': '', '_id': 3, 'children': [{'smiles': 'http://askcos.mit.edu/draw/smiles/Cc1cc(N)c([N+](=O)[O-])cc1C', 'children': [], 'rc_type': 'chemical'}, {'smiles': 'http://askcos.mit.edu/draw/smiles/OCC(O)C(O)C(O)CCl', 'children': [], 'rc_type': 'chemical'}], 'rc_type': 'reaction'}], 'rc_type': 'chemical'}], 'rc_type': 'reaction'}], 'rc_type': 'chemical'}, {'smiles': 'http://askcos.mit.edu/draw/smiles/O=C1NC(=O)C(=O)C(=O)N1', 'children': [], 'rc_type': 'chemical'}], 'rc_type': 'reaction'}], 'rc_type': 'chemical'}, {'smiles': 'http://askcos.mit.edu/draw/smiles/COC(=O)Nc1nc2ccc(C(=O)c3ccccc3)cc2[nH]1', '_id': 'T96', 'score': '0.311', 'children': [{'smiles': 'http://askcos.mit.edu/draw/smiles/.CCO.Cc1ccc%28S%28%3DO%29%28%3DO%29O%29cc1.', 'score': '0.382', 'names': '', '_id': 1, 'children': [{'smiles': 'http://askcos.mit.edu/draw/smiles/COC(=O)N=C(NC(=O)OC)SC', 'children': [], 'rc_type': 'chemical'}, {'smiles': 'http://askcos.mit.edu/draw/smiles/Nc1ccc(C(=O)c2ccccc2)cc1N', 'children': [{'smiles': 'http://askcos.mit.edu/draw/smiles/..O%3DC%28O%29C%28F%29%28F%29F.', 'score': '0.982', 'names': '', '_id': 2, 'children': [{'smiles': 'http://askcos.mit.edu/draw/smiles/CC(C)(C)OC(=O)Nc1ccc(C(=O)c2ccccc2)cc1N', 'children': [{'smiles': 'http://askcos.mit.edu/draw/smiles/.CCOC%28C%29%3DO.%5BH%5D%5BH%5D.', 'score': '0.998', 'names': '', '_id': 3, 'children': [{'smiles': 'http://askcos.mit.edu/draw/smiles/CC(C)(C)OC(=O)Nc1ccc(C(=O)c2ccccc2)cc1[N+](=O)[O-]', 'children': [{'smiles': 'http://askcos.mit.edu/draw/smiles/.C1CCOC1..', 'score': '0.831', 'names': '', '_id': 4, 'children': [{'smiles': 'http://askcos.mit.edu/draw/smiles/CC(C)(C)OC(=O)OC(=O)OC(C)(C)C', 'children': [], 'rc_type': 'chemical'}, {'smiles': 'http://askcos.mit.edu/draw/smiles/Nc1ccc(C(=O)c2ccccc2)cc1[N+](=O)[O-]', 'children': [{'smiles': 'http://askcos.mit.edu/draw/smiles/.CS%28C%29%3DO.N.', 'score': '1.000', 'names': '', '_id': 5, 'children': [{'smiles': 'http://askcos.mit.edu/draw/smiles/O=C(c1ccccc1)c1ccc(Cl)c([N+](=O)[O-])c1', 'children': [{'smiles': 'http://askcos.mit.edu/draw/smiles/.C1CCOC1.C1CCOC1.%5BLi%5DCCCC.', 'score': '0.999', 'names': '', '_id': 6, 'children': [{'smiles': 'http://askcos.mit.edu/draw/smiles/Brc1ccccc1', 'children': [], 'rc_type': 'chemical'}, {'smiles': 'http://askcos.mit.edu/draw/smiles/O=C(Cl)c1ccc(Cl)c([N+](=O)[O-])c1', 'children': [], 'rc_type': 'chemical'}], 'rc_type': 'reaction'}], 'rc_type': 'chemical'}], 'rc_type': 'reaction'}], 'rc_type': 'chemical'}], 'rc_type': 'reaction'}], 'rc_type': 'chemical'}], 'rc_type': 'reaction'}], 'rc_type': 'chemical'}], 'rc_type': 'reaction'}], 'rc_type': 'chemical'}], 'rc_type': 'reaction'}], 'rc_type': 'chemical'}, {'smiles': 'http://askcos.mit.edu/draw/smiles/CN1C2CCC1CC(OC(=O)C(CO)c1ccccc1)C2', '_id': 'T97', 'score': '0.843', 'children': [{'smiles': 'http://askcos.mit.edu/draw/smiles/.CCO.%5BH%5D%5BH%5D.%5BPd%5D', 'score': '0.999', 'names': '', '_id': 1, 'children': [{'smiles': 'http://askcos.mit.edu/draw/smiles/CN1C2CCC1CC(OC(=O)C(COCc1ccccc1)c1ccccc1)C2', 'children': [{'smiles': 'http://askcos.mit.edu/draw/smiles/..O%3DS%28%3DO%29%28O%29O.', 'score': '0.997', 'names': '', '_id': 2, 'children': [{'smiles': 'http://askcos.mit.edu/draw/smiles/CN1C2CCC1CC(O)C2', 'children': [], 'rc_type': 'chemical'}, {'smiles': 'http://askcos.mit.edu/draw/smiles/O=C(O)C(COCc1ccccc1)c1ccccc1', 'children': [{'smiles': 'http://askcos.mit.edu/draw/smiles/.CC%28C%29%28C%29O.O%3D%5BMn%5D%28%3DO%29%28%3DO%29%5BO-%5D.%5BK%2B%5D.', 'score': '0.999', 'names': '', '_id': 3, 'children': [{'smiles': 'http://askcos.mit.edu/draw/smiles/O=CC(COCc1ccccc1)c1ccccc1', 'children': [{'smiles': 'http://askcos.mit.edu/draw/smiles/.ClCCl.CS%28C%29%3DO.O%3DC%28Cl%29C%28%3DO%29Cl.', 'score': '0.851', 'names': '', '_id': 4, 'children': [{'smiles': 'http://askcos.mit.edu/draw/smiles/OCC(COCc1ccccc1)c1ccccc1', 'children': [{'smiles': 'http://askcos.mit.edu/draw/smiles/.CN%28C%29C%3DO.%5BH-%5D.%5BNa%2B%5D.', 'score': '0.996', 'names': '', '_id': 5, 'children': [{'smiles': 'http://askcos.mit.edu/draw/smiles/BrCc1ccccc1', 'children': [], 'rc_type': 'chemical'}, {'smiles': 'http://askcos.mit.edu/draw/smiles/OCC(CO)c1ccccc1', 'children': [], 'rc_type': 'chemical'}], 'rc_type': 'reaction'}], 'rc_type': 'chemical'}], 'rc_type': 'reaction'}], 'rc_type': 'chemical'}], 'rc_type': 'reaction'}], 'rc_type': 'chemical'}], 'rc_type': 'reaction'}], 'rc_type': 'chemical'}], 'rc_type': 'reaction'}], 'rc_type': 'chemical'}, {'smiles': 'http://askcos.mit.edu/draw/smiles/Cc1cn(C2CC(N=[N+]=[N-])C(CO)O2)c(=O)[nH]c1=O', '_id': 'T98', 'score': '0.656', 'children': [{'smiles': 'http://askcos.mit.edu/draw/smiles/..O%3DC%28O%29C%28F%29%28F%29F.', 'score': '0.998', 'names': '', '_id': 1, 'children': [{'smiles': 'http://askcos.mit.edu/draw/smiles/Cc1cn(C2CC(N=[N+]=[N-])C(CO[Si](C)(C)C)O2)c(=O)[nH]c1=O', 'children': [{'smiles': 'http://askcos.mit.edu/draw/smiles/.CC%23N.CC%23N.NS%28%3DO%29%28%3DO%29C1%3DCC%3DCC%3DC1.C%5BSi%5D%28C%29%28C%29OS%28%3DO%29%28%3DO%29C%28F%29%28F%29F.', 'score': '0.657', 'names': '', '_id': 2, 'children': [{'smiles': 'http://askcos.mit.edu/draw/smiles/COC1CC(N=[N+]=[N-])C(CO[Si](C)(C)C)O1', 'children': [], 'rc_type': 'chemical'}, {'smiles': 'http://askcos.mit.edu/draw/smiles/Cc1c[nH]c(=O)[nH]c1=O', 'children': [], 'rc_type': 'chemical'}], 'rc_type': 'reaction'}], 'rc_type': 'chemical'}], 'rc_type': 'reaction'}], 'rc_type': 'chemical'}]}\n"
     ]
    }
   ],
   "source": [
    "##chemical freq dictionary##\n",
    "def construct_tree_for_d3_visualization(tree,depth,new_tree = {}):\n",
    "    if 'is_chemical' in tree.keys():\n",
    "#         new_tree['smiles']='http://askcos.mit.edu/draw/smiles/'+str(urllib.quote(tree['smiles'],safe= ''))\n",
    "        new_tree['smiles']='http://askcos.mit.edu/draw/smiles/'+str(tree['smiles']).replace('#','%23')\n",
    "        new_tree['rc_type'] ='chemical'\n",
    "        try:\n",
    "            new_tree['freq'] = chemical_freq_dict[tree['smiles']]\n",
    "        except:\n",
    "            pass\n",
    "        new_tree['smiles']=str(new_tree['smiles'])\n",
    "    else:\n",
    "        new_tree['smiles']='http://askcos.mit.edu/draw/smiles/'\n",
    "        new_tree['names']=''\n",
    "        new_tree['score']='%.3f' % tree['forward_score']\n",
    "        new_tree['_id']=int(depth)\n",
    "        for i in [1,2,3]:\n",
    "            for c in tree['context'][i].split('.'):   \n",
    "                if 'Reaxys' not in c:\n",
    "                    new_tree['smiles']+='.'+str(urllib.quote(c,safe= '')).replace('#','%23')\n",
    "                elif 'Reaxys Name' in c:\n",
    "                    new_tree['names']+=str(c)[11:]+'.'\n",
    "                else:\n",
    "                    new_tree['names']+=str(c)\n",
    "        if new_tree['smiles'] == \"http://askcos.mit.edu/draw/smiles/...\":\n",
    "            new_tree['smiles'] = ''\n",
    "        new_tree['names']=str(new_tree['names'])\n",
    "        new_tree['rc_type']='reaction'\n",
    "    new_tree['children'] = []\n",
    "    if tree['children']:\n",
    "        for child in tree['children']:\n",
    "            new_tree['children'].append({})\n",
    "            construct_tree_for_d3_visualization(child,depth+0.5, new_tree['children'][-1])\n",
    "    return new_tree\n",
    "\n",
    "selected_trees = {'name': 'dummy_root','children':[]}\n",
    "# for path_id in sorted(selected_path_list):\n",
    "# for i,path_id in enumerate(path_list_x1):\n",
    "for i,path_id in enumerate(path_list_x1):\n",
    "    selected_trees['children'].append(\n",
    "        construct_tree_for_d3_visualization(feasible_trees[path_id]['tree'], depth = 0.5, new_tree = {})\n",
    "    )\n",
    "    selected_trees['children'][-1]['score'] = ('%.3f' % cum_score_with_penalty[path_id])\n",
    "    selected_trees['children'][-1]['_id'] = ('T%d' % i)\n",
    "    \n",
    "print(selected_trees)\n",
    "\n",
    "\n",
    "####IMPORTANT####\n",
    "##paste the output below to the html template file for tree visualization!!!####"
   ]
  },
  {
   "cell_type": "code",
   "execution_count": 80,
   "metadata": {},
   "outputs": [
    {
     "name": "stdout",
     "output_type": "stream",
     "text": [
      "['CN(C)CCC=C1c2ccccc2CCc2ccccc21', 'CCC1(c2ccccc2)C(=O)NC(=O)NC1=O']\n",
      "['CCC(=O)C(CC(C)N(C)C)(c1ccccc1)c1ccccc1', 'CN(C)CCC=C1c2ccccc2CCc2ccccc21', 'CNC(C)C(O)c1ccccc1', 'CCC1(c2ccccc2)C(=O)NC(=O)NC1=O', 'OC(CCN1CCCCC1)(c1ccccc1)C1CC2C=CC1C2', 'COC(=O)Nc1nc2ccc(C(=O)c3ccccc3)cc2[nH]1']\n"
     ]
    }
   ],
   "source": [
    "# chemical = \"NCc1ccccc1\"\n",
    "# chemical = \"CC(C)(C)OC(=O)OC(=O)OC(C)(C)C\"\n",
    "chemical = \"Brc1ccccc1\"\n",
    "print(list(shortest_path_dataset[shortest_path_dataset[chemical]==1]['target']))\n",
    "\n",
    "print(list(selected_path_dataset_1xscore[selected_path_dataset_1xscore[chemical]==1]['target']))"
   ]
  },
  {
   "cell_type": "code",
   "execution_count": 71,
   "metadata": {},
   "outputs": [
    {
     "data": {
      "text/plain": [
       "BrBr                                                                 0\n",
       "BrC(Br)(Br)Br                                                        0\n",
       "BrCC1CO1                                                             0\n",
       "BrCC1COc2ccccc2O1                                                    0\n",
       "BrCC1OCOc2ccc1cc2Br                                                  0\n",
       "BrCC1SCCCS1                                                          0\n",
       "BrCCBr                                                               0\n",
       "BrCCCCCBr                                                            0\n",
       "BrCCCCCCBr                                                           0\n",
       "BrCCCCCI                                                             0\n",
       "BrCCCCCOC1CCCCO1                                                     0\n",
       "BrCCCOC1CCCCO1                                                       0\n",
       "BrCCOC1CCCCO1                                                        0\n",
       "BrCCSSc1ccccn1                                                       0\n",
       "BrCC[Mg]Br                                                           0\n",
       "BrCCc1ccccc1                                                         0\n",
       "BrCc1ccc(Br)cc1                                                      0\n",
       "BrCc1ccc(I)cc1                                                       0\n",
       "BrCc1cccc(Br)c1                                                      0\n",
       "BrCc1cccc(I)c1                                                       0\n",
       "BrCc1ccccc1                                                          0\n",
       "BrCc1ccccc1Br                                                        0\n",
       "BrCc1ccccc1I                                                         0\n",
       "BrCc1ccco1                                                           0\n",
       "Br[Cu]Br                                                             0\n",
       "Br[Mg]CCC1OCCCO1                                                     0\n",
       "Br[Mg]CCCOC1CCCCO1                                                   0\n",
       "Br[Mg]Cc1ccccc1                                                      0\n",
       "Br[Mg]c1ccccc1                                                       0\n",
       "Br[Mg]c1ccccn1                                                       0\n",
       "                                              ...                     \n",
       "[O-]c1ccc(CBr)cc1                                                    0\n",
       "[O-]c1ccc(CCl)cc1                                                    0\n",
       "[O-]c1ccc(CI)cc1                                                     0\n",
       "[O-]c1ccc(CO)cc1                                                     0\n",
       "[O-]c1ccc(COCCBr)cc1                                                 0\n",
       "[O-]c1ccc(COCCO)cc1                                                  0\n",
       "[O-]c1cccc(Br)c1                                                     0\n",
       "[O-]c1cccc(Cl)c1                                                     0\n",
       "[O-]c1cccc(F)c1                                                      0\n",
       "[O-]c1cccc(I)c1                                                      0\n",
       "[O-]c1cccc2ccccc12                                                   0\n",
       "[O-]c1ccccc1                                                         0\n",
       "[O-]c1ccnc2cc(Cl)ccc12                                               0\n",
       "[S-]c1ccc(Cl)cc1                                                     0\n",
       "[S-]c1ccccc1                                                         0\n",
       "[S-]c1ccccc1Br                                                       0\n",
       "c1c[nH]cn1                                                           0\n",
       "c1ccc(C2CO2)cc1                                                      0\n",
       "c1ccc(C2SCCCS2)cc1                                                   0\n",
       "c1ccc(COCC2CO2)cc1                                                   0\n",
       "c1ccc(SSc2ccccn2)nc1                                                 0\n",
       "c1ccc2[nH]ccc2c1                                                     0\n",
       "c1ccc2[nH]nnc2c1                                                     0\n",
       "c1ccc2c(c1)CCNC2                                                     0\n",
       "c1ccccc1                                                             0\n",
       "c1nc[nH]n1                                                           0\n",
       "c1nsnc1N1CCOCC1                                                      0\n",
       "target                    Cc1cn(C2CC(N=[N+]=[N-])C(CO)O2)c(=O)[nH]c1=O\n",
       "index                                                           193537\n",
       "score                                                         0.656143\n",
       "Name: 193537, Length: 3343, dtype: object"
      ]
     },
     "execution_count": 71,
     "metadata": {},
     "output_type": "execute_result"
    }
   ],
   "source": [
    "selected_path_dataset_1xscore.iloc[98]"
   ]
  },
  {
   "cell_type": "code",
   "execution_count": 77,
   "metadata": {},
   "outputs": [
    {
     "name": "stderr",
     "output_type": "stream",
     "text": [
      "\n",
      "\n",
      "\n",
      "  0%|          | 0/99 [00:00<?, ?it/s]\u001b[A\u001b[A\u001b[A\n",
      "\n",
      "\n",
      "  1%|          | 1/99 [00:01<02:12,  1.36s/it]\u001b[A\u001b[A\u001b[A"
     ]
    },
    {
     "name": "stdout",
     "output_type": "stream",
     "text": [
      "('O=C1c2c(O)cccc2Cc2cccc(O)c21', 0.5, 0.5)\n"
     ]
    },
    {
     "name": "stderr",
     "output_type": "stream",
     "text": [
      "\n",
      "\n",
      "\n",
      "  2%|▏         | 2/99 [00:02<02:12,  1.36s/it]\u001b[A\u001b[A\u001b[A"
     ]
    },
    {
     "name": "stdout",
     "output_type": "stream",
     "text": [
      "('Cc1cc(NS(=O)(=O)c2ccc(N)cc2)no1', 0.0, 0.0)\n"
     ]
    },
    {
     "name": "stderr",
     "output_type": "stream",
     "text": [
      "\n",
      "\n",
      "\n",
      "  3%|▎         | 3/99 [00:04<02:11,  1.37s/it]\u001b[A\u001b[A\u001b[A"
     ]
    },
    {
     "name": "stdout",
     "output_type": "stream",
     "text": [
      "('CCN(CC)CCNC(=O)c1ccc(N)cc1', 1.0, 0.5)\n"
     ]
    },
    {
     "name": "stderr",
     "output_type": "stream",
     "text": [
      "\n",
      "\n",
      "\n",
      "  4%|▍         | 4/99 [00:05<02:11,  1.39s/it]\u001b[A\u001b[A\u001b[A"
     ]
    },
    {
     "name": "stdout",
     "output_type": "stream",
     "text": [
      "('CCOC(=O)C1(c2ccccc2)CCN(C)CC1', 0.75, 0.3333333333333333)\n"
     ]
    },
    {
     "name": "stderr",
     "output_type": "stream",
     "text": [
      "\n",
      "\n",
      "\n",
      "  5%|▌         | 5/99 [00:06<02:10,  1.38s/it]\u001b[A\u001b[A\u001b[A"
     ]
    },
    {
     "name": "stdout",
     "output_type": "stream",
     "text": [
      "('CC(C)NCC(O)COc1ccc(CC(N)=O)cc1', 0.6666666666666666, 0.6666666666666666)\n"
     ]
    },
    {
     "name": "stderr",
     "output_type": "stream",
     "text": [
      "\n",
      "\n",
      "\n",
      "  6%|▌         | 6/99 [00:08<02:08,  1.38s/it]\u001b[A\u001b[A\u001b[A"
     ]
    },
    {
     "name": "stdout",
     "output_type": "stream",
     "text": [
      "('CNCCC(Oc1ccc(C(F)(F)F)cc1)c1ccccc1', 1.0, 0.4)\n"
     ]
    },
    {
     "name": "stderr",
     "output_type": "stream",
     "text": [
      "\n",
      "\n",
      "\n",
      "  7%|▋         | 7/99 [00:09<02:06,  1.38s/it]\u001b[A\u001b[A\u001b[A"
     ]
    },
    {
     "name": "stdout",
     "output_type": "stream",
     "text": [
      "('CC1(C)SC2C(NC(=O)COc3ccccc3)C(=O)N2C1C(=O)[O-]', 0.5, 0.0)\n"
     ]
    },
    {
     "name": "stderr",
     "output_type": "stream",
     "text": [
      "\n",
      "\n",
      "\n",
      "  8%|▊         | 8/99 [00:11<02:04,  1.37s/it]\u001b[A\u001b[A\u001b[A"
     ]
    },
    {
     "name": "stdout",
     "output_type": "stream",
     "text": [
      "('CNNCc1ccc(C(=O)NC(C)C)cc1', 0.5, 0.5)\n"
     ]
    },
    {
     "name": "stderr",
     "output_type": "stream",
     "text": [
      "\n",
      "\n",
      "\n",
      "  9%|▉         | 9/99 [00:12<02:03,  1.37s/it]\u001b[A\u001b[A\u001b[A"
     ]
    },
    {
     "name": "stdout",
     "output_type": "stream",
     "text": [
      "('CN1CCCN=C1C=Cc1cccs1', 0.5, 0.5)\n"
     ]
    },
    {
     "name": "stderr",
     "output_type": "stream",
     "text": [
      "\n",
      "\n",
      "\n",
      " 10%|█         | 10/99 [00:13<02:02,  1.38s/it]\u001b[A\u001b[A\u001b[A"
     ]
    },
    {
     "name": "stdout",
     "output_type": "stream",
     "text": [
      "('O=C(Cn1ccnc1[N+](=O)[O-])NCc1ccccc1', 0.5, 0.5)\n"
     ]
    },
    {
     "name": "stderr",
     "output_type": "stream",
     "text": [
      "\n",
      "\n",
      "\n",
      " 11%|█         | 11/99 [00:15<02:01,  1.38s/it]\u001b[A\u001b[A\u001b[A"
     ]
    },
    {
     "name": "stdout",
     "output_type": "stream",
     "text": [
      "('COc1ccc2nc(S(=O)Cc3ncc(C)c(OC)c3C)[nH]c2c1', 0.0, 0.0)\n"
     ]
    },
    {
     "name": "stderr",
     "output_type": "stream",
     "text": [
      "\n",
      "\n",
      "\n",
      " 12%|█▏        | 12/99 [00:16<01:59,  1.38s/it]\u001b[A\u001b[A\u001b[A"
     ]
    },
    {
     "name": "stdout",
     "output_type": "stream",
     "text": [
      "('Cc1cc(C(C)(C)C)cc(C)c1CC1=NCCN1', 0.6666666666666666, 0.5714285714285714)\n"
     ]
    },
    {
     "name": "stderr",
     "output_type": "stream",
     "text": [
      "\n",
      "\n",
      "\n",
      " 13%|█▎        | 13/99 [00:17<01:58,  1.38s/it]\u001b[A\u001b[A\u001b[A"
     ]
    },
    {
     "name": "stdout",
     "output_type": "stream",
     "text": [
      "('N=C(N)c1ccc(OCCCCCOc2ccc(C(=N)N)cc2)cc1', 0.5, 0.0)\n"
     ]
    },
    {
     "name": "stderr",
     "output_type": "stream",
     "text": [
      "\n",
      "\n",
      "\n",
      " 14%|█▍        | 14/99 [00:19<01:56,  1.38s/it]\u001b[A\u001b[A\u001b[A"
     ]
    },
    {
     "name": "stdout",
     "output_type": "stream",
     "text": [
      "('O=C(OCc1ccccc1)c1ccccc1', 1.0, 0.5)\n"
     ]
    },
    {
     "name": "stderr",
     "output_type": "stream",
     "text": [
      "\n",
      "\n",
      "\n",
      " 15%|█▌        | 15/99 [00:20<01:55,  1.37s/it]\u001b[A\u001b[A\u001b[A"
     ]
    },
    {
     "name": "stdout",
     "output_type": "stream",
     "text": [
      "('CCN(CC)CCCC(C)Nc1ccnc2cc(Cl)ccc12', 0.5, 0.0)\n"
     ]
    },
    {
     "name": "stderr",
     "output_type": "stream",
     "text": [
      "\n",
      "\n",
      "\n",
      " 16%|█▌        | 16/99 [00:22<01:53,  1.37s/it]\u001b[A\u001b[A\u001b[A"
     ]
    },
    {
     "name": "stdout",
     "output_type": "stream",
     "text": [
      "('CN=C(NC#N)NCCSCc1nc[nH]c1C', 0.0, 0.0)\n"
     ]
    },
    {
     "name": "stderr",
     "output_type": "stream",
     "text": [
      "\n",
      "\n",
      "\n",
      " 17%|█▋        | 17/99 [00:23<01:52,  1.37s/it]\u001b[A\u001b[A\u001b[A"
     ]
    },
    {
     "name": "stdout",
     "output_type": "stream",
     "text": [
      "('CCC(=O)C(CC(C)N(C)C)(c1ccccc1)c1ccccc1', 0.75, 0.5)\n"
     ]
    },
    {
     "name": "stderr",
     "output_type": "stream",
     "text": [
      "\n",
      "\n",
      "\n",
      " 18%|█▊        | 18/99 [00:24<01:50,  1.37s/it]\u001b[A\u001b[A\u001b[A"
     ]
    },
    {
     "name": "stdout",
     "output_type": "stream",
     "text": [
      "('c1ccc(C2CN3CCSC3=N2)cc1', 0.5, 0.5)\n"
     ]
    },
    {
     "name": "stderr",
     "output_type": "stream",
     "text": [
      "\n",
      "\n",
      "\n",
      " 19%|█▉        | 19/99 [00:26<01:49,  1.36s/it]\u001b[A\u001b[A\u001b[A"
     ]
    },
    {
     "name": "stdout",
     "output_type": "stream",
     "text": [
      "('Cc1ncc2n1-c1ccc(Cl)cc1C(c1ccccc1F)=NC2', 0.0, 0.0)\n"
     ]
    },
    {
     "name": "stderr",
     "output_type": "stream",
     "text": [
      "\n",
      "\n",
      "\n",
      " 20%|██        | 20/99 [00:27<01:47,  1.36s/it]\u001b[A\u001b[A\u001b[A"
     ]
    },
    {
     "name": "stdout",
     "output_type": "stream",
     "text": [
      "('CN(C)CCC=C1c2ccccc2CCc2ccccc21', 0.6666666666666666, 0.3333333333333333)\n"
     ]
    },
    {
     "name": "stderr",
     "output_type": "stream",
     "text": [
      "\n",
      "\n",
      "\n",
      " 21%|██        | 21/99 [00:28<01:40,  1.29s/it]\u001b[A\u001b[A\u001b[A"
     ]
    },
    {
     "name": "stdout",
     "output_type": "stream",
     "text": [
      "('O=C(Nc1ccc([N+](=O)[O-])cc1Cl)c1cc(Cl)ccc1O', 0.5, 0.0)\n"
     ]
    },
    {
     "name": "stderr",
     "output_type": "stream",
     "text": [
      "\n",
      "\n",
      "\n",
      " 22%|██▏       | 22/99 [00:29<01:41,  1.32s/it]\u001b[A\u001b[A\u001b[A"
     ]
    },
    {
     "name": "stdout",
     "output_type": "stream",
     "text": [
      "('CC1COc2c(N3CCN(C)CC3)c(F)cc3c(=O)c(C(=O)O)cn1c23', 0.5, 0.5)\n"
     ]
    },
    {
     "name": "stderr",
     "output_type": "stream",
     "text": [
      "\n",
      "\n",
      "\n",
      " 23%|██▎       | 23/99 [00:31<01:41,  1.33s/it]\u001b[A\u001b[A\u001b[A"
     ]
    },
    {
     "name": "stdout",
     "output_type": "stream",
     "text": [
      "('O=C(C1CCCCC1)N1CC(=O)N2CCc3ccccc3C2C1', 0.3333333333333333, 0.0)\n"
     ]
    },
    {
     "name": "stderr",
     "output_type": "stream",
     "text": [
      "\n",
      "\n",
      "\n",
      " 24%|██▍       | 24/99 [00:32<01:40,  1.34s/it]\u001b[A\u001b[A\u001b[A"
     ]
    },
    {
     "name": "stdout",
     "output_type": "stream",
     "text": [
      "('CNC(=C[N+](=O)[O-])NCCSCc1ccc(CN(C)C)o1', 0.0, 0.0)\n"
     ]
    },
    {
     "name": "stderr",
     "output_type": "stream",
     "text": [
      "\n",
      "\n",
      "\n",
      " 25%|██▌       | 25/99 [00:34<01:39,  1.34s/it]\u001b[A\u001b[A\u001b[A"
     ]
    },
    {
     "name": "stdout",
     "output_type": "stream",
     "text": [
      "('CC1=C(C(=O)O)N2C(=O)C(NC(=O)C(N)c3ccccc3)C2SC1', 0.3333333333333333, 0.0)\n"
     ]
    },
    {
     "name": "stderr",
     "output_type": "stream",
     "text": [
      "\n",
      "\n",
      "\n",
      " 26%|██▋       | 26/99 [00:35<01:38,  1.35s/it]\u001b[A\u001b[A\u001b[A"
     ]
    },
    {
     "name": "stdout",
     "output_type": "stream",
     "text": [
      "('NS(=O)(=O)c1cc(C(=O)O)c(NCc2ccco2)cc1Cl', 0.0, 0.0)\n"
     ]
    },
    {
     "name": "stderr",
     "output_type": "stream",
     "text": [
      "\n",
      "\n",
      "\n",
      " 27%|██▋       | 27/99 [00:36<01:38,  1.37s/it]\u001b[A\u001b[A\u001b[A"
     ]
    },
    {
     "name": "stdout",
     "output_type": "stream",
     "text": [
      "('COc1cc2nc(N3CCN(C(=O)C4COc5ccccc5O4)CC3)nc(N)c2cc1OC', 0.3333333333333333, 0.0)\n"
     ]
    },
    {
     "name": "stderr",
     "output_type": "stream",
     "text": [
      "\n",
      "\n",
      "\n",
      " 28%|██▊       | 28/99 [00:38<01:37,  1.37s/it]\u001b[A\u001b[A\u001b[A"
     ]
    },
    {
     "name": "stdout",
     "output_type": "stream",
     "text": [
      "('COC(=O)C(N)Cc1ccc(O)c(O)c1', 0.5, 0.0)\n"
     ]
    },
    {
     "name": "stderr",
     "output_type": "stream",
     "text": [
      "\n",
      "\n",
      "\n",
      " 29%|██▉       | 29/99 [00:39<01:35,  1.37s/it]\u001b[A\u001b[A\u001b[A"
     ]
    },
    {
     "name": "stdout",
     "output_type": "stream",
     "text": [
      "('CCN(CC)CCNC(=O)c1cc(Cl)c(N)cc1OC', 0.6666666666666666, 0.5)\n"
     ]
    },
    {
     "name": "stderr",
     "output_type": "stream",
     "text": [
      "\n",
      "\n",
      "\n",
      " 30%|███       | 30/99 [00:40<01:34,  1.37s/it]\u001b[A\u001b[A\u001b[A"
     ]
    },
    {
     "name": "stdout",
     "output_type": "stream",
     "text": [
      "('Nc1nc(N)nc(Nc2ccc([As]3SCC(CO)S3)cc2)n1', 0.5, 0.0)\n"
     ]
    },
    {
     "name": "stderr",
     "output_type": "stream",
     "text": [
      "\n",
      "\n",
      "\n",
      " 31%|███▏      | 31/99 [00:42<01:32,  1.37s/it]\u001b[A\u001b[A\u001b[A"
     ]
    },
    {
     "name": "stdout",
     "output_type": "stream",
     "text": [
      "('COc1cc(NC(C)CCCN)c2ncccc2c1', 0.3333333333333333, 0.0)\n"
     ]
    },
    {
     "name": "stderr",
     "output_type": "stream",
     "text": [
      "\n",
      "\n",
      "\n",
      " 32%|███▏      | 32/99 [00:43<01:31,  1.37s/it]\u001b[A\u001b[A\u001b[A"
     ]
    },
    {
     "name": "stdout",
     "output_type": "stream",
     "text": [
      "('CC(C)NCC(O)COc1cccc2ccccc12', 0.6666666666666666, 0.6666666666666666)\n"
     ]
    },
    {
     "name": "stderr",
     "output_type": "stream",
     "text": [
      "\n",
      "\n",
      "\n",
      " 33%|███▎      | 33/99 [00:45<01:30,  1.38s/it]\u001b[A\u001b[A\u001b[A"
     ]
    },
    {
     "name": "stdout",
     "output_type": "stream",
     "text": [
      "('O=C(O)c1cn(C2CC2)c2cc(N3CCNCC3)c(F)cc2c1=O', 0.3333333333333333, 0.3333333333333333)\n"
     ]
    },
    {
     "name": "stderr",
     "output_type": "stream",
     "text": [
      "\n",
      "\n",
      "\n",
      " 34%|███▍      | 34/99 [00:46<01:29,  1.37s/it]\u001b[A\u001b[A\u001b[A"
     ]
    },
    {
     "name": "stdout",
     "output_type": "stream",
     "text": [
      "('CN(C)CCCN1c2ccccc2CCc2ccc(Cl)cc21', 0.6666666666666666, 0.3333333333333333)\n"
     ]
    },
    {
     "name": "stderr",
     "output_type": "stream",
     "text": [
      "\n",
      "\n",
      "\n",
      " 35%|███▌      | 35/99 [00:47<01:27,  1.37s/it]\u001b[A\u001b[A\u001b[A"
     ]
    },
    {
     "name": "stdout",
     "output_type": "stream",
     "text": [
      "('Nc1ccc(S(=O)(=O)Nc2ncccn2)cc1', 0.5, 0.0)\n"
     ]
    },
    {
     "name": "stderr",
     "output_type": "stream",
     "text": [
      "\n",
      "\n",
      "\n",
      " 36%|███▋      | 36/99 [00:49<01:26,  1.37s/it]\u001b[A\u001b[A\u001b[A"
     ]
    },
    {
     "name": "stdout",
     "output_type": "stream",
     "text": [
      "('CCn1cc(C(=O)O)c(=O)c2ccc(C)nc21', 0.5, 0.0)\n"
     ]
    },
    {
     "name": "stderr",
     "output_type": "stream",
     "text": [
      "\n",
      "\n",
      "\n",
      " 37%|███▋      | 37/99 [00:50<01:24,  1.37s/it]\u001b[A\u001b[A\u001b[A"
     ]
    },
    {
     "name": "stdout",
     "output_type": "stream",
     "text": [
      "('CC(C)(C)NCC(O)c1ccc(O)c(CO)c1', 0.5, 0.5)\n"
     ]
    },
    {
     "name": "stderr",
     "output_type": "stream",
     "text": [
      "\n",
      "\n",
      "\n",
      " 38%|███▊      | 38/99 [00:51<01:23,  1.36s/it]\u001b[A\u001b[A\u001b[A"
     ]
    },
    {
     "name": "stdout",
     "output_type": "stream",
     "text": [
      "('CNC(C)C(O)c1ccccc1', 0.6666666666666666, 0.0)\n"
     ]
    },
    {
     "name": "stderr",
     "output_type": "stream",
     "text": [
      "\n",
      "\n",
      "\n",
      " 39%|███▉      | 39/99 [00:53<01:21,  1.36s/it]\u001b[A\u001b[A\u001b[A"
     ]
    },
    {
     "name": "stdout",
     "output_type": "stream",
     "text": [
      "('COC(=O)C1=C(C)NC(C)=C(C(=O)OC)C1c1ccccc1[N+](=O)[O-]', 0.5, 0.0)\n"
     ]
    },
    {
     "name": "stderr",
     "output_type": "stream",
     "text": [
      "\n",
      "\n",
      "\n",
      " 40%|████      | 40/99 [00:54<01:20,  1.36s/it]\u001b[A\u001b[A\u001b[A"
     ]
    },
    {
     "name": "stdout",
     "output_type": "stream",
     "text": [
      "('CCC1(c2ccccc2)C(=O)NC(=O)NC1=O', 0.75, 0.75)\n"
     ]
    },
    {
     "name": "stderr",
     "output_type": "stream",
     "text": [
      "\n",
      "\n",
      "\n",
      " 41%|████▏     | 41/99 [00:55<01:18,  1.36s/it]\u001b[A\u001b[A\u001b[A"
     ]
    },
    {
     "name": "stdout",
     "output_type": "stream",
     "text": [
      "('COc1ncnc(NS(=O)(=O)c2ccc(N)cc2)c1OC', 0.5, 0.0)\n"
     ]
    },
    {
     "name": "stderr",
     "output_type": "stream",
     "text": [
      "\n",
      "\n",
      "\n",
      " 42%|████▏     | 42/99 [00:57<01:17,  1.37s/it]\u001b[A\u001b[A\u001b[A"
     ]
    },
    {
     "name": "stdout",
     "output_type": "stream",
     "text": [
      "('CN1C(=O)CN=C(c2ccccc2)c2cc(Cl)ccc21', 1.0, 0.3333333333333333)\n"
     ]
    },
    {
     "name": "stderr",
     "output_type": "stream",
     "text": [
      "\n",
      "\n",
      "\n",
      " 43%|████▎     | 43/99 [00:58<01:16,  1.37s/it]\u001b[A\u001b[A\u001b[A"
     ]
    },
    {
     "name": "stdout",
     "output_type": "stream",
     "text": [
      "('CN1CCN(C(c2ccccc2)c2ccccc2)CC1', 1.0, 1.0)\n"
     ]
    },
    {
     "name": "stderr",
     "output_type": "stream",
     "text": [
      "\n",
      "\n",
      "\n",
      " 44%|████▍     | 44/99 [01:00<01:15,  1.37s/it]\u001b[A\u001b[A\u001b[A"
     ]
    },
    {
     "name": "stdout",
     "output_type": "stream",
     "text": [
      "('CCC(CO)NCCNC(CC)CO', 0.0, 0.0)\n"
     ]
    },
    {
     "name": "stderr",
     "output_type": "stream",
     "text": [
      "\n",
      "\n",
      "\n",
      " 45%|████▌     | 45/99 [01:01<01:12,  1.34s/it]\u001b[A\u001b[A\u001b[A"
     ]
    },
    {
     "name": "stdout",
     "output_type": "stream",
     "text": [
      "('CC(C)N=C(N)N=C(N)Nc1ccc(Cl)cc1', 0.3333333333333333, 0.3333333333333333)\n"
     ]
    },
    {
     "name": "stderr",
     "output_type": "stream",
     "text": [
      "\n",
      "\n",
      "\n",
      " 46%|████▋     | 46/99 [01:02<01:11,  1.34s/it]\u001b[A\u001b[A\u001b[A"
     ]
    },
    {
     "name": "stdout",
     "output_type": "stream",
     "text": [
      "('O=C1CN=C(c2ccccc2Cl)c2cc([N+](=O)[O-])ccc2N1', 0.6666666666666666, 0.3333333333333333)\n"
     ]
    },
    {
     "name": "stderr",
     "output_type": "stream",
     "text": [
      "\n",
      "\n",
      "\n",
      " 47%|████▋     | 47/99 [01:03<01:06,  1.28s/it]\u001b[A\u001b[A\u001b[A"
     ]
    },
    {
     "name": "stdout",
     "output_type": "stream",
     "text": [
      "('Cc1cn(C2C=CC(CO)O2)c(=O)[nH]c1=O', 0.0, 0.0)\n"
     ]
    },
    {
     "name": "stderr",
     "output_type": "stream",
     "text": [
      "\n",
      "\n",
      "\n",
      " 48%|████▊     | 48/99 [01:05<01:05,  1.28s/it]\u001b[A\u001b[A\u001b[A"
     ]
    },
    {
     "name": "stdout",
     "output_type": "stream",
     "text": [
      "('CCN(CC)CC(=O)Nc1c(C)cccc1C', 0.5, 0.5)\n"
     ]
    },
    {
     "name": "stderr",
     "output_type": "stream",
     "text": [
      "\n",
      "\n",
      "\n",
      " 49%|████▉     | 49/99 [01:06<01:05,  1.31s/it]\u001b[A\u001b[A\u001b[A"
     ]
    },
    {
     "name": "stdout",
     "output_type": "stream",
     "text": [
      "('CC1(C)CC1C(=O)NC(=CCCCCSCC(N)C(=O)O)C(=O)O', 0.0, 0.25)\n"
     ]
    },
    {
     "name": "stderr",
     "output_type": "stream",
     "text": [
      "\n",
      "\n",
      "\n",
      " 51%|█████     | 50/99 [01:07<01:04,  1.32s/it]\u001b[A\u001b[A\u001b[A"
     ]
    },
    {
     "name": "stdout",
     "output_type": "stream",
     "text": [
      "('CCCSc1ccc2nc(NC(=O)OC)[nH]c2c1', 0.5, 0.0)\n"
     ]
    },
    {
     "name": "stderr",
     "output_type": "stream",
     "text": [
      "\n",
      "\n",
      "\n",
      " 52%|█████▏    | 51/99 [01:09<01:04,  1.33s/it]\u001b[A\u001b[A\u001b[A"
     ]
    },
    {
     "name": "stdout",
     "output_type": "stream",
     "text": [
      "('COc1cc(Cc2cnc(N)nc2N)cc(OC)c1OC', 0.0, 0.0)\n"
     ]
    },
    {
     "name": "stderr",
     "output_type": "stream",
     "text": [
      "\n",
      "\n",
      "\n",
      " 53%|█████▎    | 52/99 [01:10<01:03,  1.34s/it]\u001b[A\u001b[A\u001b[A"
     ]
    },
    {
     "name": "stdout",
     "output_type": "stream",
     "text": [
      "('CCCN(CCC)S(=O)(=O)c1ccc(C(=O)O)cc1', 0.5, 0.0)\n"
     ]
    },
    {
     "name": "stderr",
     "output_type": "stream",
     "text": [
      "\n",
      "\n",
      "\n",
      " 54%|█████▎    | 53/99 [01:11<01:01,  1.35s/it]\u001b[A\u001b[A\u001b[A"
     ]
    },
    {
     "name": "stdout",
     "output_type": "stream",
     "text": [
      "('C[N+](C)(C)CCOC(=O)CCC(=O)OCC[N+](C)(C)C', 0.0, 0.0)\n"
     ]
    },
    {
     "name": "stderr",
     "output_type": "stream",
     "text": [
      "\n",
      "\n",
      "\n",
      " 55%|█████▍    | 54/99 [01:13<01:00,  1.35s/it]\u001b[A\u001b[A\u001b[A"
     ]
    },
    {
     "name": "stdout",
     "output_type": "stream",
     "text": [
      "('OC(Cn1cncn1)(Cn1cncn1)c1ccc(F)cc1F', 0.0, 0.0)\n"
     ]
    },
    {
     "name": "stderr",
     "output_type": "stream",
     "text": [
      "\n",
      "\n",
      "\n",
      " 56%|█████▌    | 55/99 [01:14<00:59,  1.36s/it]\u001b[A\u001b[A\u001b[A"
     ]
    },
    {
     "name": "stdout",
     "output_type": "stream",
     "text": [
      "('CN(C)CCC(c1ccc(Cl)cc1)c1ccccn1', 0.3333333333333333, 0.3333333333333333)\n"
     ]
    },
    {
     "name": "stderr",
     "output_type": "stream",
     "text": [
      "\n",
      "\n",
      "\n",
      " 57%|█████▋    | 56/99 [01:16<00:58,  1.36s/it]\u001b[A\u001b[A\u001b[A"
     ]
    },
    {
     "name": "stdout",
     "output_type": "stream",
     "text": [
      "('Cc1ccc(N(CC2=NCCN2)c2cccc(O)c2)cc1', 0.8333333333333334, 0.5)\n"
     ]
    },
    {
     "name": "stderr",
     "output_type": "stream",
     "text": [
      "\n",
      "\n",
      "\n",
      " 58%|█████▊    | 57/99 [01:17<00:57,  1.36s/it]\u001b[A\u001b[A\u001b[A"
     ]
    },
    {
     "name": "stdout",
     "output_type": "stream",
     "text": [
      "('Nc1ccc(S(=O)(=O)c2ccc(N)cc2)cc1', 0.0, 0.0)\n"
     ]
    },
    {
     "name": "stderr",
     "output_type": "stream",
     "text": [
      "\n",
      "\n",
      "\n",
      " 59%|█████▊    | 58/99 [01:18<00:55,  1.36s/it]\u001b[A\u001b[A\u001b[A"
     ]
    },
    {
     "name": "stdout",
     "output_type": "stream",
     "text": [
      "('CN(C)C(=O)Oc1cccc([N+](C)(C)C)c1', 0.5, 0.0)\n"
     ]
    },
    {
     "name": "stderr",
     "output_type": "stream",
     "text": [
      "\n",
      "\n",
      "\n",
      " 60%|█████▉    | 59/99 [01:20<00:54,  1.36s/it]\u001b[A\u001b[A\u001b[A"
     ]
    },
    {
     "name": "stdout",
     "output_type": "stream",
     "text": [
      "('O=C1OC2(c3ccc(O)cc3Oc3cc(O)ccc32)c2ccccc21', 0.5, 0.25)\n"
     ]
    },
    {
     "name": "stderr",
     "output_type": "stream",
     "text": [
      "\n",
      "\n",
      "\n",
      " 61%|██████    | 60/99 [01:21<00:53,  1.36s/it]\u001b[A\u001b[A\u001b[A"
     ]
    },
    {
     "name": "stdout",
     "output_type": "stream",
     "text": [
      "('CCCCNc1ccc(C(=O)OCCN(C)C)cc1', 0.3333333333333333, 0.0)\n"
     ]
    },
    {
     "name": "stderr",
     "output_type": "stream",
     "text": [
      "\n",
      "\n",
      "\n",
      " 62%|██████▏   | 61/99 [01:22<00:51,  1.37s/it]\u001b[A\u001b[A\u001b[A"
     ]
    },
    {
     "name": "stdout",
     "output_type": "stream",
     "text": [
      "('CCN(CC)C(=O)N1CCN(C)CC1', 0.6666666666666666, 1.0)\n"
     ]
    },
    {
     "name": "stderr",
     "output_type": "stream",
     "text": [
      "\n",
      "\n",
      "\n",
      " 63%|██████▎   | 62/99 [01:24<00:49,  1.35s/it]\u001b[A\u001b[A\u001b[A"
     ]
    },
    {
     "name": "stdout",
     "output_type": "stream",
     "text": [
      "('C=CC1=C(C(=O)O)N2C(=O)C(NC(=O)C(=NOCC(=O)O)c3csc(N)n3)C2SC1', 0.6, 0.0)\n"
     ]
    },
    {
     "name": "stderr",
     "output_type": "stream",
     "text": [
      "\n",
      "\n",
      "\n",
      " 64%|██████▎   | 63/99 [01:25<00:47,  1.32s/it]\u001b[A\u001b[A\u001b[A"
     ]
    },
    {
     "name": "stdout",
     "output_type": "stream",
     "text": [
      "('O=C1NC(=O)C(c2ccccc2)(c2ccccc2)N1', 0.6666666666666666, 0.6666666666666666)\n"
     ]
    },
    {
     "name": "stderr",
     "output_type": "stream",
     "text": [
      "\n",
      "\n",
      "\n",
      " 65%|██████▍   | 64/99 [01:26<00:46,  1.34s/it]\u001b[A\u001b[A\u001b[A"
     ]
    },
    {
     "name": "stdout",
     "output_type": "stream",
     "text": [
      "('NC(=O)N1c2ccccc2C=Cc2ccccc21', 0.6666666666666666, 0.3333333333333333)\n"
     ]
    },
    {
     "name": "stderr",
     "output_type": "stream",
     "text": [
      "\n",
      "\n",
      "\n",
      " 66%|██████▌   | 65/99 [01:28<00:45,  1.35s/it]\u001b[A\u001b[A\u001b[A"
     ]
    },
    {
     "name": "stdout",
     "output_type": "stream",
     "text": [
      "('CCOC(=O)C1=C(COCCN)NC(C)=C(C(=O)OC)C1c1ccccc1Cl', 0.6666666666666666, 0.0)\n"
     ]
    },
    {
     "name": "stderr",
     "output_type": "stream",
     "text": [
      "\n",
      "\n",
      "\n",
      " 67%|██████▋   | 66/99 [01:29<00:44,  1.35s/it]\u001b[A\u001b[A\u001b[A"
     ]
    },
    {
     "name": "stdout",
     "output_type": "stream",
     "text": [
      "('O=C(O)C1=CC(=NNc2ccc(S(=O)(=O)Nc3ccccn3)cc2)C=CC1=O', 0.0, 0.0)\n"
     ]
    },
    {
     "name": "stderr",
     "output_type": "stream",
     "text": [
      "\n",
      "\n",
      "\n",
      " 68%|██████▊   | 67/99 [01:30<00:43,  1.35s/it]\u001b[A\u001b[A\u001b[A"
     ]
    },
    {
     "name": "stdout",
     "output_type": "stream",
     "text": [
      "('O=C(NC(CO)C(O)c1ccc([N+](=O)[O-])cc1)C(Cl)Cl', 0.0, 0.0)\n"
     ]
    },
    {
     "name": "stderr",
     "output_type": "stream",
     "text": [
      "\n",
      "\n",
      "\n",
      " 69%|██████▊   | 68/99 [01:32<00:42,  1.36s/it]\u001b[A\u001b[A\u001b[A"
     ]
    },
    {
     "name": "stdout",
     "output_type": "stream",
     "text": [
      "('CC(CN1c2ccccc2Sc2ccccc21)N(C)C', 1.0, 1.0)\n"
     ]
    },
    {
     "name": "stderr",
     "output_type": "stream",
     "text": [
      "\n",
      "\n",
      "\n",
      " 70%|██████▉   | 69/99 [01:33<00:40,  1.36s/it]\u001b[A\u001b[A\u001b[A"
     ]
    },
    {
     "name": "stdout",
     "output_type": "stream",
     "text": [
      "('CC(C)NCC(O)c1ccc(O)c(O)c1', 0.6666666666666666, 0.5)\n"
     ]
    },
    {
     "name": "stderr",
     "output_type": "stream",
     "text": [
      "\n",
      "\n",
      "\n",
      " 71%|███████   | 70/99 [01:34<00:38,  1.32s/it]\u001b[A\u001b[A\u001b[A"
     ]
    },
    {
     "name": "stdout",
     "output_type": "stream",
     "text": [
      "('CCN(CCO)CCCC(C)Nc1ccnc2cc(Cl)ccc12', 0.6666666666666666, 0.3333333333333333)\n"
     ]
    },
    {
     "name": "stderr",
     "output_type": "stream",
     "text": [
      "\n",
      "\n",
      "\n",
      " 72%|███████▏  | 71/99 [01:35<00:35,  1.25s/it]\u001b[A\u001b[A\u001b[A"
     ]
    },
    {
     "name": "stdout",
     "output_type": "stream",
     "text": [
      "('COc1ccc(Cl)cc1C(=O)NCCc1ccc(S(=O)(=O)NC(=O)NC2CCCCC2)cc1', 0.5, 0.0)\n"
     ]
    },
    {
     "name": "stderr",
     "output_type": "stream",
     "text": [
      "\n",
      "\n",
      "\n",
      " 73%|███████▎  | 72/99 [01:37<00:34,  1.28s/it]\u001b[A\u001b[A\u001b[A"
     ]
    },
    {
     "name": "stdout",
     "output_type": "stream",
     "text": [
      "('CCCC(C)C1(CC)C(=O)NC(=S)NC1=O', 0.5, 0.5)\n"
     ]
    },
    {
     "name": "stderr",
     "output_type": "stream",
     "text": [
      "\n",
      "\n",
      "\n",
      " 74%|███████▎  | 73/99 [01:38<00:33,  1.30s/it]\u001b[A\u001b[A\u001b[A"
     ]
    },
    {
     "name": "stdout",
     "output_type": "stream",
     "text": [
      "('CC1(C)SC2C(NC(=O)Cc3ccccc3)C(=O)N2C1C(=O)O', 0.5, 0.5)\n"
     ]
    },
    {
     "name": "stderr",
     "output_type": "stream",
     "text": [
      "\n",
      "\n",
      "\n",
      " 75%|███████▍  | 74/99 [01:39<00:33,  1.32s/it]\u001b[A\u001b[A\u001b[A"
     ]
    },
    {
     "name": "stdout",
     "output_type": "stream",
     "text": [
      "('CC(C)(C)NCC(O)COc1nsnc1N1CCOCC1', 0.5, 0.5)\n"
     ]
    },
    {
     "name": "stderr",
     "output_type": "stream",
     "text": [
      "\n",
      "\n",
      "\n",
      " 76%|███████▌  | 75/99 [01:41<00:31,  1.33s/it]\u001b[A\u001b[A\u001b[A"
     ]
    },
    {
     "name": "stdout",
     "output_type": "stream",
     "text": [
      "('O=C(O)CCCc1ccc(N(CCCl)CCCl)cc1', 0.0, 0.0)\n"
     ]
    },
    {
     "name": "stderr",
     "output_type": "stream",
     "text": [
      "\n",
      "\n",
      "\n",
      " 77%|███████▋  | 76/99 [01:42<00:30,  1.34s/it]\u001b[A\u001b[A\u001b[A"
     ]
    },
    {
     "name": "stdout",
     "output_type": "stream",
     "text": [
      "('CCCOC(=O)Cn1cc(I)c(=O)c(I)c1', 0.5, 0.0)\n"
     ]
    },
    {
     "name": "stderr",
     "output_type": "stream",
     "text": [
      "\n",
      "\n",
      "\n",
      " 78%|███████▊  | 77/99 [01:44<00:29,  1.34s/it]\u001b[A\u001b[A\u001b[A"
     ]
    },
    {
     "name": "stdout",
     "output_type": "stream",
     "text": [
      "('CC(Cc1ccc(O)c(O)c1)(NN)C(=O)O', 0.5, 0.5)\n"
     ]
    },
    {
     "name": "stderr",
     "output_type": "stream",
     "text": [
      "\n",
      "\n",
      "\n",
      " 79%|███████▉  | 78/99 [01:45<00:27,  1.31s/it]\u001b[A\u001b[A\u001b[A"
     ]
    },
    {
     "name": "stdout",
     "output_type": "stream",
     "text": [
      "('Cc1ccnc2c1NC(=O)c1cccnc1N2C1CC1', 0.0, 0.0)\n"
     ]
    },
    {
     "name": "stderr",
     "output_type": "stream",
     "text": [
      "\n",
      "\n",
      "\n",
      " 80%|███████▉  | 79/99 [01:46<00:25,  1.25s/it]\u001b[A\u001b[A\u001b[A"
     ]
    },
    {
     "name": "stdout",
     "output_type": "stream",
     "text": [
      "('CC(C)Cc1ccc(C(C)C(=O)O)cc1', 0.75, 0.5)\n"
     ]
    },
    {
     "name": "stderr",
     "output_type": "stream",
     "text": [
      "\n",
      "\n",
      "\n",
      " 81%|████████  | 80/99 [01:47<00:23,  1.26s/it]\u001b[A\u001b[A\u001b[A"
     ]
    },
    {
     "name": "stdout",
     "output_type": "stream",
     "text": [
      "('CC(C)c1cccc(C(C)C)c1O', 0.6666666666666666, 0.0)\n"
     ]
    },
    {
     "name": "stderr",
     "output_type": "stream",
     "text": [
      "\n",
      "\n",
      "\n",
      " 82%|████████▏ | 81/99 [01:49<00:23,  1.29s/it]\u001b[A\u001b[A\u001b[A"
     ]
    },
    {
     "name": "stdout",
     "output_type": "stream",
     "text": [
      "('OC(c1cc(C(F)(F)F)nc2c(C(F)(F)F)cccc12)C1CCCCN1', 0.0, 0.0)\n"
     ]
    },
    {
     "name": "stderr",
     "output_type": "stream",
     "text": [
      "\n",
      "\n",
      "\n",
      " 83%|████████▎ | 82/99 [01:50<00:22,  1.31s/it]\u001b[A\u001b[A\u001b[A"
     ]
    },
    {
     "name": "stdout",
     "output_type": "stream",
     "text": [
      "('CCc1nc(N)nc(N)c1-c1ccc(Cl)cc1', 0.5, 0.0)\n"
     ]
    },
    {
     "name": "stderr",
     "output_type": "stream",
     "text": [
      "\n",
      "\n",
      "\n",
      " 84%|████████▍ | 83/99 [01:51<00:21,  1.33s/it]\u001b[A\u001b[A\u001b[A"
     ]
    },
    {
     "name": "stdout",
     "output_type": "stream",
     "text": [
      "('O=C1Nc2ccc(Cl)cc2C(C#CC2CC2)(C(F)(F)F)O1', 0.3333333333333333, 0.3333333333333333)\n"
     ]
    },
    {
     "name": "stderr",
     "output_type": "stream",
     "text": [
      "\n",
      "\n",
      "\n",
      " 85%|████████▍ | 84/99 [01:53<00:19,  1.31s/it]\u001b[A\u001b[A\u001b[A"
     ]
    },
    {
     "name": "stdout",
     "output_type": "stream",
     "text": [
      "('COc1cc2c(c(OC)c1OC)-c1ccc(OC)c(=O)cc1C(NC(C)=O)CC2', 0.25, 0.25)\n"
     ]
    },
    {
     "name": "stderr",
     "output_type": "stream",
     "text": [
      "\n",
      "\n",
      "\n",
      " 86%|████████▌ | 85/99 [01:54<00:17,  1.26s/it]\u001b[A\u001b[A\u001b[A"
     ]
    },
    {
     "name": "stdout",
     "output_type": "stream",
     "text": [
      "('O=C(OOC(=O)c1ccccc1)c1ccccc1', 1.0, 0.25)\n"
     ]
    },
    {
     "name": "stderr",
     "output_type": "stream",
     "text": [
      "\n",
      "\n",
      "\n",
      " 87%|████████▋ | 86/99 [01:55<00:15,  1.22s/it]\u001b[A\u001b[A\u001b[A"
     ]
    },
    {
     "name": "stdout",
     "output_type": "stream",
     "text": [
      "('CC(C)NCC(O)COc1ccc(COCCOC(C)C)cc1', 0.5, 0.5)\n"
     ]
    },
    {
     "name": "stderr",
     "output_type": "stream",
     "text": [
      "\n",
      "\n",
      "\n",
      " 88%|████████▊ | 87/99 [01:56<00:14,  1.21s/it]\u001b[A\u001b[A\u001b[A"
     ]
    },
    {
     "name": "stdout",
     "output_type": "stream",
     "text": [
      "('O=C1Nc2ccc(Cl)cc2C(c2ccccc2Cl)=NC1O', 1.0, 0.3333333333333333)\n"
     ]
    },
    {
     "name": "stderr",
     "output_type": "stream",
     "text": [
      "\n",
      "\n",
      "\n",
      " 89%|████████▉ | 88/99 [01:57<00:13,  1.26s/it]\u001b[A\u001b[A\u001b[A"
     ]
    },
    {
     "name": "stdout",
     "output_type": "stream",
     "text": [
      "('OC(CCN1CCCCC1)(c1ccccc1)C1CC2C=CC1C2', 0.6, 0.4)\n"
     ]
    },
    {
     "name": "stderr",
     "output_type": "stream",
     "text": [
      "\n",
      "\n",
      "\n",
      " 90%|████████▉ | 89/99 [01:59<00:12,  1.30s/it]\u001b[A\u001b[A\u001b[A"
     ]
    },
    {
     "name": "stdout",
     "output_type": "stream",
     "text": [
      "('O=C(O)c1cc(=O)c2cc(OCC(O)COc3cccc4oc(C(=O)O)cc(=O)c34)ccc2o1', 0.5, 0.3333333333333333)\n"
     ]
    },
    {
     "name": "stderr",
     "output_type": "stream",
     "text": [
      "\n",
      "\n",
      "\n",
      " 91%|█████████ | 90/99 [02:00<00:11,  1.32s/it]\u001b[A\u001b[A\u001b[A"
     ]
    },
    {
     "name": "stdout",
     "output_type": "stream",
     "text": [
      "('CCCCN1CCCCC1C(=O)Nc1c(C)cccc1C', 0.5, 0.0)\n"
     ]
    },
    {
     "name": "stderr",
     "output_type": "stream",
     "text": [
      "\n",
      "\n",
      "\n",
      " 92%|█████████▏| 91/99 [02:02<00:10,  1.34s/it]\u001b[A\u001b[A\u001b[A"
     ]
    },
    {
     "name": "stdout",
     "output_type": "stream",
     "text": [
      "('OCCN1CCN(CCCN2c3ccccc3Sc3ccc(C(F)(F)F)cc32)CC1', 0.8333333333333334, 0.25)\n"
     ]
    },
    {
     "name": "stderr",
     "output_type": "stream",
     "text": [
      "\n",
      "\n",
      "\n",
      " 93%|█████████▎| 92/99 [02:03<00:09,  1.35s/it]\u001b[A\u001b[A\u001b[A"
     ]
    },
    {
     "name": "stdout",
     "output_type": "stream",
     "text": [
      "('CCOC(=O)C(CCc1ccccc1)NC(C)C(=O)N1CCCC1C(=O)O', 0.6, 0.5)\n"
     ]
    },
    {
     "name": "stderr",
     "output_type": "stream",
     "text": [
      "\n",
      "\n",
      "\n",
      " 94%|█████████▍| 93/99 [02:04<00:08,  1.35s/it]\u001b[A\u001b[A\u001b[A"
     ]
    },
    {
     "name": "stdout",
     "output_type": "stream",
     "text": [
      "('O=C(CCCN1CCC(O)(c2ccc(Cl)cc2)CC1)c1ccc(F)cc1', 0.75, 0.0)\n"
     ]
    },
    {
     "name": "stderr",
     "output_type": "stream",
     "text": [
      "\n",
      "\n",
      "\n",
      " 95%|█████████▍| 94/99 [02:06<00:06,  1.36s/it]\u001b[A\u001b[A\u001b[A"
     ]
    },
    {
     "name": "stdout",
     "output_type": "stream",
     "text": [
      "('Cc1onc(-c2ccccc2Cl)c1C(=O)NC1C(=O)N2C1SC(C)(C)C2C(=O)O', 0.5, 0.25)\n"
     ]
    },
    {
     "name": "stderr",
     "output_type": "stream",
     "text": [
      "\n",
      "\n",
      "\n",
      " 96%|█████████▌| 95/99 [02:07<00:05,  1.36s/it]\u001b[A\u001b[A\u001b[A"
     ]
    },
    {
     "name": "stdout",
     "output_type": "stream",
     "text": [
      "('CN(C)CCCN1c2ccccc2Sc2ccc(Cl)cc21', 1.0, 0.6)\n"
     ]
    },
    {
     "name": "stderr",
     "output_type": "stream",
     "text": [
      "\n",
      "\n",
      "\n",
      " 97%|█████████▋| 96/99 [02:08<00:04,  1.36s/it]\u001b[A\u001b[A\u001b[A"
     ]
    },
    {
     "name": "stdout",
     "output_type": "stream",
     "text": [
      "('Cc1cc2nc3c(=O)[nH]c(=O)nc-3n(CC(O)C(O)C(O)CO)c2cc1C', 0.0, 0.0)\n"
     ]
    },
    {
     "name": "stderr",
     "output_type": "stream",
     "text": [
      "\n",
      "\n",
      "\n",
      " 98%|█████████▊| 97/99 [02:10<00:02,  1.36s/it]\u001b[A\u001b[A\u001b[A"
     ]
    },
    {
     "name": "stdout",
     "output_type": "stream",
     "text": [
      "('COC(=O)Nc1nc2ccc(C(=O)c3ccccc3)cc2[nH]1', 0.75, 0.3333333333333333)\n"
     ]
    },
    {
     "name": "stderr",
     "output_type": "stream",
     "text": [
      "\n",
      "\n",
      "\n",
      " 99%|█████████▉| 98/99 [02:11<00:01,  1.36s/it]\u001b[A\u001b[A\u001b[A"
     ]
    },
    {
     "name": "stdout",
     "output_type": "stream",
     "text": [
      "('CN1C2CCC1CC(OC(=O)C(CO)c1ccccc1)C2', 0.3333333333333333, 0.3333333333333333)\n"
     ]
    },
    {
     "name": "stderr",
     "output_type": "stream",
     "text": [
      "\n",
      "\n",
      "\n",
      "100%|██████████| 99/99 [02:12<00:00,  1.28s/it]\u001b[A\u001b[A\u001b[A\n",
      "\n",
      "\n",
      "\u001b[A\u001b[A\u001b[A"
     ]
    },
    {
     "name": "stdout",
     "output_type": "stream",
     "text": [
      "('Cc1cn(C2CC(N=[N+]=[N-])C(CO)O2)c(=O)[nH]c1=O', 0.0, 0.3333333333333333)\n"
     ]
    }
   ],
   "source": [
    "# agg_1xscore\n",
    "for i in tqdm(range(selected_path_dataset_1xscore.shape[0])):\n",
    "    no_chem = 0\n",
    "    no_chem_overlap = 0\n",
    "    no_chem_separate = 0 \n",
    "    no_chem_separate_overlap = 0\n",
    "    for j in selected_path_dataset_1xscore.columns:\n",
    "        if j in use_chem_1xscore.keys():\n",
    "            if selected_path_dataset_1xscore.iloc[i][j]==1:\n",
    "                no_chem+=1\n",
    "                no_chem_overlap+=use_chem_1xscore[j]>1\n",
    "    \n",
    "    for j in shortest_path_dataset.columns:\n",
    "        if j in use_chem_shortest.keys():\n",
    "            if shortest_path_dataset.iloc[i][j]==1:\n",
    "                no_chem_separate+=1\n",
    "                no_chem_separate_overlap+=use_chem_shortest[j]>1\n",
    "    overlap_frac = float(no_chem_overlap)/no_chem\n",
    "    overlap_frac_separate = float(no_chem_separate_overlap)/no_chem_separate\n",
    "    \n",
    "    print(selected_path_dataset_1xscore.iloc[i]['target'],overlap_frac,overlap_frac_separate)"
   ]
  },
  {
   "cell_type": "code",
   "execution_count": 99,
   "metadata": {},
   "outputs": [],
   "source": [
    "chem_list_1xscore_clean = [c for c in selected_path_dataset_1xscore.columns if c not in ['index', 'score', 'target', 'Unnamed: 0', 'len_sc']]\n",
    "chem_list_shortest_clean = [c for c in shortest_path_dataset.columns if c not in ['index', 'score', 'target', 'Unnamed: 0', 'len_sc']]\n",
    "num_chemicals_1xscore = selected_path_dataset_1xscore.loc[:,chem_list_1xscore_clean].sum(axis=1)\n",
    "num_chemicals_shortest = shortest_path_dataset.loc[:,chem_list_shortest_clean].sum(axis=1)"
   ]
  },
  {
   "cell_type": "code",
   "execution_count": 100,
   "metadata": {},
   "outputs": [
    {
     "name": "stdout",
     "output_type": "stream",
     "text": [
      "8.282828282828282\n",
      "8.414141414141413\n"
     ]
    }
   ],
   "source": [
    "print(np.mean(num_chemicals_1xscore))\n",
    "print(np.mean(num_chemicals_shortest))"
   ]
  },
  {
   "cell_type": "code",
   "execution_count": null,
   "metadata": {},
   "outputs": [],
   "source": []
  }
 ],
 "metadata": {
  "kernelspec": {
   "display_name": "Python 2",
   "language": "python",
   "name": "python2"
  },
  "language_info": {
   "codemirror_mode": {
    "name": "ipython",
    "version": 2
   },
   "file_extension": ".py",
   "mimetype": "text/x-python",
   "name": "python",
   "nbconvert_exporter": "python",
   "pygments_lexer": "ipython2",
   "version": "2.7.13"
  }
 },
 "nbformat": 4,
 "nbformat_minor": 2
}
